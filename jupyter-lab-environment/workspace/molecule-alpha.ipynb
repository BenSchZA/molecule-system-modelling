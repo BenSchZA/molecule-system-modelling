{
 "cells": [
  {
   "cell_type": "markdown",
   "metadata": {},
   "source": [
    "# Molecule Alpha Simulations"
   ]
  },
  {
   "cell_type": "markdown",
   "metadata": {},
   "source": [
    "Repository: https://gitlab.com/linumlabs/molecule-system-modelling"
   ]
  },
  {
   "cell_type": "markdown",
   "metadata": {},
   "source": [
    "**What do we want to investigate given certain assumptions?**\n",
    "\n",
    "1. Assuming a buy & hold investment behaviour, what tax rate results in reasonable investor break-even period and reaching the funding goal.\n",
    "2. Given a certain tax rate, what user base and behaviour is needed to reach funding goal in given period.\n",
    "3. How can we design the bonding curve such that the funding goal is reached within the given time allocated?\n",
    "4. How can we design the tax such that investors are rewarded fairly, both early and late?\n",
    "5. How can we fairly dissolve a project and redistribute its collateral when completed?\n",
    "\n",
    "**In an ideal efficient market, we hope to:**\n",
    "\n",
    "1. Reach the funding goal in the given period\n",
    "2. Reward investors fairly\n",
    "3. Promote further investment\n",
    "\n",
    "**Funding outcomes can be any of the following, with certain consequences:**\n",
    "\n",
    "Market creators\n",
    "1. Funding reached within time period\n",
    "2. Funding reached before time period\n",
    "3. Funding not reached\n",
    "\n",
    "Investors\n",
    "1. Investors reach ROI\n",
    "2. Investors make a profit\n",
    "3. Investors make a loss\n",
    "\n",
    "**Given the funding goal and period, what parameters will help us reach that goal?**\n",
    "\n",
    "1. Tax rate\n",
    "2. Total investment\n",
    "3. Investor activity\n",
    "4. Bonding curve\n",
    "\n",
    "# Learnings\n",
    "\n",
    "## Number 1\n",
    "The variance or sensitivity to a parameter can often tell you a lot more than the raw result of an experiment.\n",
    "This is especially true in a black-box system or a system where there is large uncertainty surrounding the exogenous inputs or collective behaviour of actors in the system."
   ]
  },
  {
   "cell_type": "markdown",
   "metadata": {},
   "source": [
    "## Module imports"
   ]
  },
  {
   "cell_type": "code",
   "execution_count": 1,
   "metadata": {},
   "outputs": [],
   "source": [
    "import sys\n",
    "sys.path.append(\"../lib/python3.7/site-packages\")\n",
    "\n",
    "# from cadCAD.configuration import Configuration\n",
    "from cadCAD import configs\n",
    "import cadCadFunctions as c2F\n",
    "from tabulate import tabulate\n",
    "\n",
    "from matplotlib import cm\n",
    "\n",
    "import networkx as nx\n",
    "\n",
    "import matplotlib.pyplot as plt\n",
    "import seaborn as sns\n",
    "%matplotlib inline\n",
    "import math\n",
    "from scipy.optimize import fsolve\n",
    "import scipy.integrate as integrate\n",
    "from datetime import timedelta\n",
    "\n",
    "from decimal import Decimal\n",
    "import numpy as np\n",
    "import pandas as pd\n",
    "from pynverse import inversefunc\n",
    "\n",
    "import ipywidgets as widgets\n",
    "from IPython.display import display\n",
    "\n",
    "from abc import ABC, abstractmethod\n",
    "from functools import partial\n",
    "import random\n",
    "import uuid\n",
    "import json\n",
    "\n",
    "import plotly.plotly as py\n",
    "import plotly.graph_objs as go\n",
    "import plotly\n",
    "plotly.tools.set_credentials_file(username='BenjaminScholtz', api_key='8HheLHWEyoXDuLOiQ4ZO')\n",
    "\n",
    "from helpers import *"
   ]
  },
  {
   "cell_type": "markdown",
   "metadata": {},
   "source": [
    "## Parameters"
   ]
  },
  {
   "cell_type": "code",
   "execution_count": 2,
   "metadata": {},
   "outputs": [
    {
     "data": {
      "text/plain": [
       "180"
      ]
     },
     "execution_count": 2,
     "metadata": {},
     "output_type": "execute_result"
    }
   ],
   "source": [
    "def linear(x):\n",
    "    m = 1/17_500.0\n",
    "    c = 0.5\n",
    "    return np.multiply(m, x) + c\n",
    "\n",
    "def negative_exponential(x):\n",
    "    C = 10\n",
    "    a = 0.001\n",
    "    return C * (1 - np.exp(-a*x)) + 1\n",
    "\n",
    "params = {\n",
    "    'bonding_function': [\n",
    "        lambda x: linear(x),\n",
    "#         lambda x: negative_exponential(x)\n",
    "    ],\n",
    "    'tax_rate': [\n",
    "        .15,\n",
    "#         .15\n",
    "    ], # percentage\n",
    "    'investment_size': [\n",
    "        1000.0,\n",
    "#         1000.0\n",
    "    ]\n",
    "}\n",
    "\n",
    "initial_conditions = {\n",
    "#     'investors': [100], # total for funding round\n",
    "#     'trading_balance': [10_000], # dollars\n",
    "}\n",
    "\n",
    "projects = 1\n",
    "max_investors_per_project = 20\n",
    "# investment_size = 1000.0\n",
    "\n",
    "default_gradient = 1/17_500.0\n",
    "default_shift = 0.5\n",
    "\n",
    "blocks_per_year = 2102400\n",
    "blocks_per_month = blocks_per_year/12\n",
    "blocks_per_day = blocks_per_year/365\n",
    "\n",
    "time_steps = int(6*30) # approx. 30 days per month\n",
    "\n",
    "sigmoid_inflection = time_steps/2\n",
    "sigmoid_slope = 1/20\n",
    "\n",
    "time_steps"
   ]
  },
  {
   "cell_type": "code",
   "execution_count": 3,
   "metadata": {},
   "outputs": [
    {
     "data": {
      "image/png": "[encoded data removed]",
      "text/plain": [
       "<Figure size 432x288 with 1 Axes>"
      ]
     },
     "metadata": {
      "needs_background": "light"
     },
     "output_type": "display_data"
    }
   ],
   "source": [
    "# User base (investor) growth\n",
    "\n",
    "x = np.linspace(0, time_steps, 500)\n",
    "y = np.divide(max_investors_per_project, (1 + np.power(np.e, -np.multiply(np.subtract(x, sigmoid_inflection), sigmoid_slope))))\n",
    "y = np.floor(y)\n",
    "y[y < 0] = 0\n",
    "\n",
    "plt.plot(x, y)\n",
    "plt.show()"
   ]
  },
  {
   "cell_type": "markdown",
   "metadata": {},
   "source": [
    "## Business Logic"
   ]
  },
  {
   "cell_type": "code",
   "execution_count": 4,
   "metadata": {},
   "outputs": [],
   "source": [
    "# monotonically increasing polynomial function\n",
    "def bonding_function(x, m=default_gradient, c=default_shift):\n",
    "    return params['bonding_function'][0](x)\n",
    "\n",
    "def tax_function(x, m=default_gradient, c=default_shift):\n",
    "    return np.multiply(m, x) + c*(1 - params['tax_rate'][0])\n",
    "#     C = 10\n",
    "#     a = 0.001\n",
    "#     return C * (1 - np.exp(-a*x))\n",
    "\n",
    "# this is essentially numerical integration\n",
    "#     return [np.sum(bonding_function(x[:index])) for index,_ in enumerate(x)]\n",
    "\n",
    "def integral_function(x):\n",
    "    return integrate.quad(lambda i: bonding_function(i), 0, x)[0]\n",
    "\n",
    "# invariant function\n",
    "def collateral_pool(x):\n",
    "    return [integral_function(x[index]) for index,_ in enumerate(x)]\n",
    "    \n",
    "def inverse_integral_function(x):\n",
    "    func = inversefunc(integral_function)\n",
    "    return func(x)\n",
    "\n",
    "def final_collateral(x):\n",
    "    return integrate.quad(lambda i: bonding_function(i), x[0], x[-1])\n",
    "\n",
    "def vault_pool(x):\n",
    "    return np.subtract(collateral_pool(x), [integrate.quad(lambda i: tax_function(i), x[0], x[index])[0] for index,_ in enumerate(x)])\n",
    "\n",
    "def investor_pool(x):\n",
    "    return np.subtract(collateral_pool(x), vault_pool(x))\n",
    "\n",
    "# Contract functions\n",
    "\n",
    "def price_to_mint(x_T, total_supply, pool_balance, gradient):\n",
    "    return max(integral_function(total_supply + x_T) - pool_balance, 0)\n",
    "\n",
    "def reward_for_burn(x_T, total_supply, pool_balance):\n",
    "    return max(pool_balance - integral_function(total_supply - x_T), 0)\n",
    "\n",
    "def collateral_to_token_buying(x_D, total_supply):\n",
    "    return inverse_integral_function(integral_function(total_supply) + x_D) - total_supply\n",
    "\n",
    "def collateral_to_token_selling(x_D, total_supply):\n",
    "    try:\n",
    "        return total_supply - inverse_integral_function(integral_function(total_supply) - x_D)\n",
    "    except ValueError:\n",
    "        return 0"
   ]
  },
  {
   "cell_type": "code",
   "execution_count": 5,
   "metadata": {},
   "outputs": [],
   "source": [
    "def sell_holdings(investor_node, bonding_curve, value):\n",
    "    tokens =  min(collateral_to_token_selling(value, bonding_curve['bonded_tokens']), investor_node['bonded_tokens'])\n",
    "    value = reward_for_burn(tokens, bonding_curve['bonded_tokens'], bonding_curve['reserve'])\n",
    "    \n",
    "    assert(tokens >= 0)\n",
    "    assert(value >= 0)\n",
    "    \n",
    "    if bonding_curve['bonded_tokens'] >= tokens and bonding_curve['reserve'] >= value:\n",
    "        bonding_curve['bonded_tokens'] -= tokens\n",
    "        bonding_curve['reserve'] -= value\n",
    "    else: return False\n",
    "        \n",
    "    investor_node['trading_balance'] += value\n",
    "    investor_node['invested'] -= value\n",
    "    investor_node['bonded_tokens'] -= tokens\n",
    "    \n",
    "    assert(investor_node['trading_balance'] >= 0)\n",
    "#     assert(investor_node['invested'] >= 0)\n",
    "    assert(investor_node['bonded_tokens'] >= 0)\n",
    "    \n",
    "    return True"
   ]
  },
  {
   "cell_type": "code",
   "execution_count": 6,
   "metadata": {},
   "outputs": [],
   "source": [
    "x = np.linspace(0,10_000,10_00)\n",
    "\n",
    "y = bonding_function(x)\n",
    "t = tax_function(x)\n",
    "c = collateral_pool(x)\n",
    "v = vault_pool(x)\n",
    "i = investor_pool(x)"
   ]
  },
  {
   "cell_type": "code",
   "execution_count": 7,
   "metadata": {},
   "outputs": [
    {
     "data": {
      "image/png": "[encoded data removed]",
      "text/plain": [
       "<Figure size 432x288 with 1 Axes>"
      ]
     },
     "metadata": {
      "needs_background": "light"
     },
     "output_type": "display_data"
    }
   ],
   "source": [
    "plt.plot(x, y, label='Bonding Function')\n",
    "plt.plot(x, t, label='Tax Function')\n",
    "plt.plot(x, c, label='Collateral Pool')\n",
    "plt.plot(x, v, label='Vault Pool')\n",
    "plt.plot(x, i, label='Investor Pool')\n",
    "plt.legend(loc='upper left')\n",
    "plt.show()"
   ]
  },
  {
   "cell_type": "code",
   "execution_count": 8,
   "metadata": {},
   "outputs": [
    {
     "data": {
      "image/png": "[encoded data removed]",
      "text/plain": [
       "<Figure size 432x288 with 1 Axes>"
      ]
     },
     "metadata": {
      "needs_background": "light"
     },
     "output_type": "display_data"
    }
   ],
   "source": [
    "# Bonding function and tax (sell) function\n",
    "plt.plot(x, y, x, t)\n",
    "plt.show()"
   ]
  },
  {
   "cell_type": "code",
   "execution_count": 9,
   "metadata": {},
   "outputs": [
    {
     "data": {
      "text/plain": [
       "[<matplotlib.lines.Line2D at 0x7f0c7d14f0b8>]"
      ]
     },
     "execution_count": 9,
     "metadata": {},
     "output_type": "execute_result"
    },
    {
     "data": {
      "image/png": "[encoded data removed]",
      "text/plain": [
       "<Figure size 432x288 with 2 Axes>"
      ]
     },
     "metadata": {
      "needs_background": "light"
     },
     "output_type": "display_data"
    }
   ],
   "source": [
    "# Vault and investor pool\n",
    "fig, axs = plt.subplots(1,2)\n",
    "\n",
    "axs[0].plot(x, v)\n",
    "axs[1].plot(x, i)"
   ]
  },
  {
   "cell_type": "markdown",
   "metadata": {},
   "source": [
    "## States"
   ]
  },
  {
   "cell_type": "markdown",
   "metadata": {},
   "source": [
    "### Configure graph"
   ]
  },
  {
   "cell_type": "code",
   "execution_count": 10,
   "metadata": {},
   "outputs": [],
   "source": [
    "# class Vault:\n",
    "#     def __init__(self):\n",
    "#         self.reserve = 0\n",
    "        \n",
    "# class BondingCurve:\n",
    "#     def __init__(self):\n",
    "#         self.bonded_tokens = 0\n",
    "#         self.reserve = 0\n",
    "\n",
    "# class Project:\n",
    "#     def __init__(self):\n",
    "#         self.vault = Vault()\n",
    "#         self.bonding_curve = BondingCurve()\n",
    "#         self.funding_goal = 1_000_000\n",
    "#         self.funding_period = 6 # months\n",
    "#         self.tax_rate = .05\n",
    "    \n",
    "# class Investor:\n",
    "#     def __init__(self):\n",
    "#         self.trading_balance = 10_000 # dollars\n",
    "#         self.invested = 0\n",
    "#         self.bonded_tokens = 0\n",
    "#         self.estimated_value = 0 # dollar value of tokens\n",
    "#         self.sentiment = 1 # 1 being hold indefinitely, 0 being sell immediately... tbd"
   ]
  },
  {
   "cell_type": "code",
   "execution_count": 11,
   "metadata": {},
   "outputs": [
    {
     "data": {
      "image/png": "[encoded data removed]",
      "text/plain": [
       "<Figure size 432x288 with 1 Axes>"
      ]
     },
     "metadata": {},
     "output_type": "display_data"
    }
   ],
   "source": [
    "def generate_network(_params=params):\n",
    "    network = nx.Graph()\n",
    "    color_map = []\n",
    "\n",
    "    for index in range(projects):\n",
    "        color_map.append('green')\n",
    "\n",
    "        network.add_node(index, _type='project')\n",
    "        network.nodes[index]['vault'] = {\n",
    "            'reserve': 0\n",
    "        }\n",
    "        network.nodes[index]['bonding_curve'] = {\n",
    "            'bonded_tokens': 0,\n",
    "            'reserve': 0\n",
    "        }\n",
    "        network.nodes[index]['funding_goal'] = 1_000_000\n",
    "        network.nodes[index]['funding_period'] = 6\n",
    "        network.nodes[index]['tax_rate'] = params['tax_rate'][0]\n",
    "\n",
    "    for index in range(max_investors_per_project):\n",
    "        color_map.append('red')\n",
    "        index = index + projects\n",
    "\n",
    "        network.add_node(index, _type='investor')\n",
    "        network.nodes[index]['logs'] = {\n",
    "            'entry': 0,\n",
    "            'disinvested': False,\n",
    "            'check_roi': False,\n",
    "        }\n",
    "        network.nodes[index]['trading_balance'] = 10_000\n",
    "        network.nodes[index]['invested'] = 0\n",
    "        network.nodes[index]['bonded_tokens'] = 0\n",
    "        network.nodes[index]['estimated_value'] = 0\n",
    "        network.nodes[index]['sentiment'] = 0\n",
    "        network.nodes[index]['desired_roi'] = .1 # If sentiment < 1, when estimated_value is greater than invested by more than desired ROI, then sell\n",
    "        network.nodes[index]['taxed'] = 0\n",
    "    \n",
    "    return (network, color_map)\n",
    "\n",
    "network, color_map = generate_network()\n",
    "nx.draw_kamada_kawai(network, node_color=color_map, font_weight='bold', with_labels=True) # with_labels=True\n",
    "\n",
    "pickle_file = 'pickle/network_0.pickle'\n",
    "nx.write_gpickle(network, pickle_file)\n",
    "\n",
    "class NetworkState(StateType):\n",
    "    network = auto()\n",
    "    \n",
    "    @classmethod\n",
    "    def initial_conditions(cls):\n",
    "        return {\n",
    "            cls.network: pickle_file,\n",
    "        }"
   ]
  },
  {
   "cell_type": "code",
   "execution_count": 12,
   "metadata": {},
   "outputs": [],
   "source": [
    "class StateAgregated(StateType):\n",
    "    pool_balance = auto()\n",
    "    \n",
    "    @classmethod\n",
    "    def initial_conditions(cls):\n",
    "        return {\n",
    "            **cls.initial_state()\n",
    "        }"
   ]
  },
  {
   "cell_type": "markdown",
   "metadata": {},
   "source": [
    "## Actions"
   ]
  },
  {
   "cell_type": "code",
   "execution_count": 13,
   "metadata": {},
   "outputs": [],
   "source": [
    "class ActionsExogenous(ActionsType):\n",
    "    new_investors = auto()\n",
    "    investment_pool_generator = auto()\n",
    "    \n",
    "    @classmethod\n",
    "    def _new_investors(cls, params, step, sL, s, _input):        \n",
    "        network: nx.Graph = nx.read_gpickle(s[NetworkState.network])\n",
    "\n",
    "        projects = get_node_ids_of_type(network, 'project')\n",
    "        project = projects[0]\n",
    "        investors = get_node_ids_of_type(network, 'investor')\n",
    "\n",
    "        currently_invested = list(network.neighbors(project))\n",
    "        \n",
    "        number_of_investors = max_investors_per_project/(1 + math.pow(math.e, -(s['timestep'] - sigmoid_inflection)*sigmoid_slope))\n",
    "        number_of_investors = max(math.floor(number_of_investors), 0)\n",
    "\n",
    "        new_investors = investors[len(currently_invested) : number_of_investors]\n",
    "\n",
    "        for index in new_investors:\n",
    "            network.add_edge(project, index)\n",
    "        \n",
    "        pickle_file = 'pickle/network_%s.pickle' % s['timestep']\n",
    "        nx.write_gpickle(network, pickle_file)\n",
    "        return (NetworkState.network, pickle_file)\n",
    "    \n",
    "    @classmethod\n",
    "    def _investment_pool_generator(cls, params, step, sL, s, _input):\n",
    "        y = StateExogenous.tx_volume\n",
    "        x = s[StateExogenous.tx_volume]*(1+2*eta*np.random.rand()*(1-s[StateExogenous.tx_volume]/tampw))\n",
    "        return (y, x)"
   ]
  },
  {
   "cell_type": "code",
   "execution_count": 14,
   "metadata": {},
   "outputs": [],
   "source": [
    "class ActionsGenesis(ActionsType):\n",
    "    create_network = auto()\n",
    "    \n",
    "    @classmethod\n",
    "    def _create_network(cls, _params, step, sL, s, _input):\n",
    "        if _input[cls.create_network]:\n",
    "            network = generate_network(_params)\n",
    "            pickle_file = 'pickle/network_%s.pickle' % s['timestep']\n",
    "            write_gpickle(network, pickle_file)\n",
    "            return (NetworkState.network, pickle_file)\n",
    "\n",
    "class TradingActions(ActionsType):\n",
    "    perform_trades = auto()\n",
    "    \n",
    "    @classmethod\n",
    "    def _perform_trades(cls, _params, step, sL, s, _input):\n",
    "        network: nx.Graph = nx.read_gpickle(s[NetworkState.network])\n",
    "        \n",
    "        # Extract nodes from network graph\n",
    "        projects = get_node_ids_of_type(network, 'project')\n",
    "        project = projects[0]\n",
    "        investors = get_node_ids_of_type(network, 'investor')\n",
    "        currently_invested = list(network.neighbors(project))\n",
    "        \n",
    "        for index in currently_invested:\n",
    "            project = projects[0]\n",
    "            \n",
    "            project_node = network.node[project]\n",
    "            investor_node = network.node[index]\n",
    "            \n",
    "            vault = project_node['vault']\n",
    "            bonding_curve = project_node['bonding_curve']\n",
    "            \n",
    "            # Calculate buy tax\n",
    "            collateral_to_invest = _params[0]['investment_size']\n",
    "            collateral_tax = collateral_to_invest * project_node['tax_rate']\n",
    "            collateral_less_tax = collateral_to_invest - collateral_tax\n",
    "            \n",
    "            # Calculate estimated value of investor bonded tokens before trades performed\n",
    "            estimated_value = reward_for_burn(investor_node['bonded_tokens'], bonding_curve['bonded_tokens'], bonding_curve['reserve'])\n",
    "            \n",
    "            # Check investor status\n",
    "            check_funds = investor_node['trading_balance'] >= collateral_to_invest\n",
    "            check_initial_investment = investor_node['invested'] == 0 #TODO\n",
    "            check_roi = estimated_value > 0 and investor_node['invested'] > 0 and (estimated_value - investor_node['invested']) / investor_node['invested'] > investor_node['desired_roi']/2\n",
    "            \n",
    "            if check_funds and check_initial_investment: # or check_roi: # or check_roi #not check_initial_investment:\n",
    "                investor_node['logs']['disinvested'] = False\n",
    "                # Calculate token trade value\n",
    "                tokens_buy = collateral_to_token_buying(collateral_less_tax, bonding_curve['bonded_tokens'])\n",
    "                \n",
    "                # Update system balances\n",
    "                vault['reserve'] += collateral_tax\n",
    "                bonding_curve['bonded_tokens'] += tokens_buy\n",
    "                bonding_curve['reserve'] += collateral_less_tax\n",
    "                \n",
    "                # Update investor balances\n",
    "                investor_node['taxed'] += collateral_tax\n",
    "                investor_node['trading_balance'] -= collateral_to_invest\n",
    "                investor_node['invested'] += collateral_less_tax\n",
    "                investor_node['bonded_tokens'] += tokens_buy\n",
    "            \n",
    "            # Check investor status\n",
    "            estimated_value = reward_for_burn(investor_node['bonded_tokens'], bonding_curve['bonded_tokens'], bonding_curve['reserve'])\n",
    "            check_sentiment = investor_node['sentiment'] < 1\n",
    "            check_roi = investor_node['invested'] > 0 and (estimated_value - investor_node['invested']) / investor_node['invested'] > investor_node['desired_roi']\n",
    "            \n",
    "#             investor_node['logs']['entry'] = _params\n",
    "            # When estimated_value is greater than invested by more than desired ROI, then sell\n",
    "            if False and check_sentiment and check_roi:\n",
    "                # Sell 100% of holdings\n",
    "                if sell_holdings(investor_node, bonding_curve, estimated_value):\n",
    "                    investor_node['logs']['disinvested'] = True\n",
    "            \n",
    "        pickle_file = 'pickle/network_%s.pickle' % s['timestep']\n",
    "        nx.write_gpickle(network, pickle_file)\n",
    "        return (NetworkState.network, pickle_file)\n",
    "    \n",
    "class UpdateActions(ActionsType):\n",
    "    update_balances = auto()\n",
    "    \n",
    "    @classmethod\n",
    "    def _update_balances(cls, params, step, sL, s, _input):\n",
    "        network: nx.Graph = nx.read_gpickle(s[NetworkState.network])\n",
    "\n",
    "        projects = get_node_ids_of_type(network, 'project')\n",
    "        project = projects[0]\n",
    "        investors = get_node_ids_of_type(network, 'investor')\n",
    "        \n",
    "        currently_invested = list(network.neighbors(project))\n",
    "        \n",
    "        for index in currently_invested:\n",
    "            project = projects[0]\n",
    "            \n",
    "            project_node = network.node[project]\n",
    "            investor_node = network.node[index]\n",
    "            \n",
    "            vault = project_node['vault']\n",
    "            bonding_curve = project_node['bonding_curve']\n",
    "            \n",
    "            # Calculate estimated value of investor bonded tokens after trades performed\n",
    "            investor_node['estimated_value'] = reward_for_burn(investor_node['bonded_tokens'], bonding_curve['bonded_tokens'], bonding_curve['reserve'])\n",
    "        \n",
    "        pickle_file = 'pickle/network_%s.pickle' % s['timestep']\n",
    "        nx.write_gpickle(network, pickle_file)\n",
    "        return (NetworkState.network, pickle_file)"
   ]
  },
  {
   "cell_type": "markdown",
   "metadata": {},
   "source": [
    "## Actions"
   ]
  },
  {
   "cell_type": "code",
   "execution_count": 15,
   "metadata": {},
   "outputs": [],
   "source": [
    "class MetricPolicies(PoliciesType):\n",
    "    def agregate(self, params, step, sL, s):\n",
    "        return({MetricActions.agregate: 1})\n",
    "    \n",
    "class Policies(PoliciesType):\n",
    "    def genesis(self, params, step, sL, s):\n",
    "        if s['timestep'] == 1:\n",
    "            return ({ActionsGenesis.create_network: True})\n",
    "        else:\n",
    "            return ({ActionsGenesis.create_network: False})"
   ]
  },
  {
   "cell_type": "markdown",
   "metadata": {},
   "source": [
    "## cadCAD Model Initialization"
   ]
  },
  {
   "cell_type": "code",
   "execution_count": 16,
   "metadata": {},
   "outputs": [
    {
     "data": {
      "text/plain": [
       "[{'N': 1,\n",
       "  'T': range(0, 180),\n",
       "  'M': {'bonding_function': <function __main__.<lambda>(x)>,\n",
       "   'tax_rate': 0.15,\n",
       "   'investment_size': 1000.0}}]"
      ]
     },
     "execution_count": 16,
     "metadata": {},
     "output_type": "execute_result"
    }
   ],
   "source": [
    "# # # # # # # # # # # # # # # # # # # # # # # # # # # # # # # # # # # # # # # # # # # # # # # # \n",
    "# Settings of general simulation parameters, unrelated to the system itself\n",
    "# `T` is a range with the number of discrete units of time the simulation will run for;\n",
    "# `N` is the number of times the simulation will be run (Monte Carlo runs)\n",
    "# In this example, we'll run the simulation once (N=1) and its duration will be of 10 timesteps\n",
    "from cadCAD.configuration.utils import config_sim\n",
    "\n",
    "simulation_parameters = config_sim({\n",
    "    'T': range(time_steps),\n",
    "    'N': 1,\n",
    "    'M': params\n",
    "})\n",
    "simulation_parameters"
   ]
  },
  {
   "cell_type": "code",
   "execution_count": 20,
   "metadata": {
    "scrolled": true
   },
   "outputs": [],
   "source": [
    "# %%capture\n",
    "\n",
    "ts_format = '%Y-%m-%d %H:%M:%S'\n",
    "t_delta = timedelta(days=30, minutes=0, seconds=0)\n",
    "def time_model(_g, step, sL, s, _input):\n",
    "    y = 'time'\n",
    "    x = ep_time_step(s, dt_str=s['time'], fromat_str=ts_format, _timedelta=t_delta)\n",
    "    return (y, x)\n",
    "\n",
    "exogenous_states = {\n",
    "#     'time': time_model\n",
    "}\n",
    "env_processes = {}\n",
    "\n",
    "initial_state = {\n",
    "    **NetworkState.initial_conditions(),\n",
    "#     **StateExogenous.initial_conditions(),\n",
    "#     **StateAgregated.initial_conditions()\n",
    "}\n",
    "\n",
    "metric_policies = MetricPolicies()\n",
    "policies = Policies()\n",
    "\n",
    "partial_state_update_blocks = [\n",
    "#     {\n",
    "#         'policies': policies.list(),\n",
    "#         'variables': {\n",
    "#             NetworkState.network: ActionsGenesis.create_network.method,\n",
    "#         }\n",
    "#     },\n",
    "    # Exogenous inputs\n",
    "    {\n",
    "        'policies': {},\n",
    "        'variables': {\n",
    "            NetworkState.network: ActionsExogenous.new_investors.method,\n",
    "        }\n",
    "    },\n",
    "    {\n",
    "        'policies': {},\n",
    "        'variables': {\n",
    "            NetworkState.network: TradingActions.perform_trades.method,\n",
    "        }\n",
    "    },\n",
    "    {\n",
    "        'policies': {},\n",
    "        'variables': {\n",
    "            NetworkState.network: UpdateActions.update_balances.method,\n",
    "        }\n",
    "    }\n",
    "]"
   ]
  },
  {
   "cell_type": "markdown",
   "metadata": {},
   "source": [
    "## Model Simulation"
   ]
  },
  {
   "cell_type": "code",
   "execution_count": 21,
   "metadata": {},
   "outputs": [],
   "source": [
    "from cadCAD.configuration import append_configs\n",
    "\n",
    "append_configs(\n",
    "    initial_state=initial_state, #dict containing variable names and initial values\n",
    "    partial_state_update_blocks=partial_state_update_blocks, #dict containing state update functions\n",
    "    sim_configs=simulation_parameters, #dict containing simulation parameters\n",
    "#     raw_exogenous_states=exogenous_states,\n",
    "#     env_processes=env_processes\n",
    ")"
   ]
  },
  {
   "cell_type": "code",
   "execution_count": 22,
   "metadata": {
    "scrolled": true
   },
   "outputs": [
    {
     "name": "stdout",
     "output_type": "stream",
     "text": [
      "single_proc: [<cadCAD.configuration.Configuration object at 0x7f0c7d2624e0>, <cadCAD.configuration.Configuration object at 0x7f0c7c506f28>]\n",
      "[<cadCAD.configuration.Configuration object at 0x7f0c7d2624e0>, <cadCAD.configuration.Configuration object at 0x7f0c7c506f28>]\n"
     ]
    }
   ],
   "source": [
    "# config = Configuration(initial_state=initial_state, #dict containing variable names and initial values\n",
    "#                        partial_state_update_blocks=partial_state_update_blocks, #dict containing state update functions\n",
    "#                        sim_config=simulation_parameters, #dict containing simulation parameters\n",
    "#                        raw_exogenous_states=exogenous_states,\n",
    "#                        env_processes=env_processes,\n",
    "#                       )\n",
    "\n",
    "from cadCAD.engine import ExecutionMode, ExecutionContext, Executor\n",
    "exec_mode = ExecutionMode()\n",
    "exec_context = ExecutionContext(context=exec_mode.single_proc)\n",
    "run = Executor(exec_context=exec_context, configs=configs) # Pass the configuration object inside an array\n",
    "raw_result, tensor = run.execute() # The `main()` method returns a tuple; its first elements contains the raw results"
   ]
  },
  {
   "cell_type": "code",
   "execution_count": 23,
   "metadata": {},
   "outputs": [],
   "source": [
    "# sys.setrecursionlimit(5000)\n",
    "\n",
    "# i = 0\n",
    "# verbose = False\n",
    "# results = {}\n",
    "# for raw_result, tensor_field in run.execute():\n",
    "#     result = pd.DataFrame(raw_result)\n",
    "#     if verbose:\n",
    "#         print()\n",
    "#         print(f\"Tensor Field: {type(tensor_field)}\")\n",
    "#         print(tabulate(tensor_field, headers='keys', tablefmt='psql'))\n",
    "#         print(f\"Output: {type(result)}\")\n",
    "#         print(tabulate(result, headers='keys', tablefmt='psql'))\n",
    "#         print()\n",
    "#     results[i] = {}\n",
    "#     results[i]['result'] = result\n",
    "#     results[i]['simulation_parameters'] = simulation_parameters[i]\n",
    "#     i += 1\n",
    "\n",
    "# results[0]['result']\n",
    "\n",
    "# exec_mode = ExecutionMode()\n",
    "# multi_proc_ctx = ExecutionContext(context=exec_mode.multi_proc)\n",
    "# run = Executor(exec_context=multi_proc_ctx, configs=configs)\n",
    "\n",
    "# for raw_result, tensor_field in run.execute():\n",
    "#     result = pd.DataFrame(raw_result)\n",
    "#     print()\n",
    "#     print(\"Tensor Field:\")\n",
    "#     print(tabulate(tensor_field, headers='keys', tablefmt='psql'))\n",
    "#     print(\"Output:\")\n",
    "#     print(tabulate(result, headers='keys', tablefmt='psql'))\n",
    "#     print()"
   ]
  },
  {
   "cell_type": "code",
   "execution_count": 24,
   "metadata": {},
   "outputs": [],
   "source": [
    "df = pd.DataFrame(raw_result)\n",
    "rdf = df[df.substep==3].copy()"
   ]
  },
  {
   "cell_type": "code",
   "execution_count": 28,
   "metadata": {},
   "outputs": [
    {
     "data": {
      "text/plain": [
       "<matplotlib.legend.Legend at 0x7f0c7d1d6e10>"
      ]
     },
     "execution_count": 28,
     "metadata": {},
     "output_type": "execute_result"
    },
    {
     "data": {
      "image/png": "[encoded data removed]",
      "text/plain": [
       "<Figure size 1440x720 with 1 Axes>"
      ]
     },
     "metadata": {
      "needs_background": "light"
     },
     "output_type": "display_data"
    }
   ],
   "source": [
    "rdf['vault_reserve'] = rdf[NetworkState.network].apply(lambda g: np.array([nx.read_gpickle(g).node[j]['vault']['reserve'] for j in get_node_ids_of_type(nx.read_gpickle(g), 'project')]))\n",
    "rdf['bonding_curve_reserve'] = rdf[NetworkState.network].apply(lambda g: np.array([nx.read_gpickle(g).node[j]['bonding_curve']['reserve'] for j in get_node_ids_of_type(nx.read_gpickle(g), 'project')]))\n",
    "\n",
    "# df['conviction'] = df.network.apply(lambda g: np.array([g.nodes[j]['conviction'] for j in get_nodes_by_type(g, 'proposal') if g.nodes[j]['status']=='candidate']))\n",
    "# df['candidate_count'] = df.network.apply(lambda g: len([j for j in get_nodes_by_type(g, 'proposal') if g.nodes[j]['status']=='candidate']))\n",
    "\n",
    "plt.figure(1,figsize=(20,10)) \n",
    "plt.plot(rdf.timestep, rdf['vault_reserve'])\n",
    "plt.plot(rdf.timestep, rdf['bonding_curve_reserve'])\n",
    "plt.title('Reserve')\n",
    "plt.ylabel('Value ($)')\n",
    "plt.xlabel('Time (days)')\n",
    "plt.legend(['Vault', 'Bonding Curve'], ncol = 2)"
   ]
  },
  {
   "cell_type": "code",
   "execution_count": 29,
   "metadata": {},
   "outputs": [],
   "source": [
    "def investor_balance(g):\n",
    "    projects = get_node_ids_of_type(g, 'project')\n",
    "    project = projects[0]\n",
    "    \n",
    "    project_node = g.node[project]\n",
    "    vault = project_node['vault']\n",
    "    bonding_curve = project_node['bonding_curve']\n",
    "\n",
    "    result = []\n",
    "    for j in get_node_ids_of_type(g, 'investor'):\n",
    "#         (estimated_value - investor_node['invested']) / investor_node['invested'] > investor_node['desired_roi']\n",
    "        balance = g.node[j]['estimated_value'] + g.node[j]['trading_balance'] # g.node[j]['estimated_value'] + g.node[j]['trading_balance'] # g.node[j]['logs']['disinvested'] # \n",
    "#         print(g.node[j]['logs']['entry'])\n",
    "        result.append(balance)       \n",
    "    return result\n",
    "\n",
    "rdf['investor_balance'] = rdf[NetworkState.network].apply(lambda g: investor_balance(nx.read_gpickle(g)))\n",
    "\n",
    "# node_sizes = np.append([0], np.divide(rdf['investor_balance'][time_steps], 10))\n",
    "# plt.figure(1,figsize=(12,12)) \n",
    "# nx.draw_circular(df[NetworkState.network][time_steps*3], node_color=color_map, node_size=node_sizes, font_weight='bold', with_labels=True) # with_labels=True\n",
    "\n",
    "# print(type(df[NetworkState.network]))\n",
    "# df = pd.DataFrame(raw_result)\n",
    "# print(df[NetworkState.network].apply(lambda g: g.nodes))"
   ]
  },
  {
   "cell_type": "code",
   "execution_count": 30,
   "metadata": {},
   "outputs": [
    {
     "data": {
      "text/plain": [
       "Text(0, 0.5, 'share of estimated valuation')"
      ]
     },
     "execution_count": 30,
     "metadata": {},
     "output_type": "execute_result"
    },
    {
     "data": {
      "image/png": "[encoded data removed]",
      "text/plain": [
       "<Figure size 1440x720 with 1 Axes>"
      ]
     },
     "metadata": {
      "needs_background": "light"
     },
     "output_type": "display_data"
    }
   ],
   "source": [
    "plt.figure(1,figsize=(20,10))\n",
    "data = make2D('investor_balance', rdf)\n",
    "plt.plot(rdf.timestep, data)\n",
    "plt.axhline(y=10_000, color='r', linestyle='-')\n",
    "plt.title('Share of estimated valuation by investor')\n",
    "plt.xlabel('time $t$')\n",
    "plt.ylabel('share of estimated valuation')"
   ]
  },
  {
   "cell_type": "code",
   "execution_count": 31,
   "metadata": {},
   "outputs": [
    {
     "data": {
      "text/html": [
       "<div>\n",
       "<style scoped>\n",
       "    .dataframe tbody tr th:only-of-type {\n",
       "        vertical-align: middle;\n",
       "    }\n",
       "\n",
       "    .dataframe tbody tr th {\n",
       "        vertical-align: top;\n",
       "    }\n",
       "\n",
       "    .dataframe thead th {\n",
       "        text-align: right;\n",
       "    }\n",
       "</style>\n",
       "<table border=\"1\" class=\"dataframe\">\n",
       "  <thead>\n",
       "    <tr style=\"text-align: right;\">\n",
       "      <th></th>\n",
       "      <th>NetworkState.network</th>\n",
       "      <th>run</th>\n",
       "      <th>substep</th>\n",
       "      <th>timestep</th>\n",
       "      <th>vault_reserve</th>\n",
       "      <th>bonding_curve_reserve</th>\n",
       "      <th>investor_balance</th>\n",
       "      <th>padded_investor_balance</th>\n",
       "    </tr>\n",
       "  </thead>\n",
       "  <tbody>\n",
       "    <tr>\n",
       "      <th>3</th>\n",
       "      <td>pickle/network_1.pickle</td>\n",
       "      <td>1</td>\n",
       "      <td>3</td>\n",
       "      <td>1</td>\n",
       "      <td>[0]</td>\n",
       "      <td>[0]</td>\n",
       "      <td>[10000, 10000, 10000, 10000, 10000, 10000, 100...</td>\n",
       "      <td>[10000.0, 10000.0, 10000.0, 10000.0, 10000.0, ...</td>\n",
       "    </tr>\n",
       "    <tr>\n",
       "      <th>6</th>\n",
       "      <td>pickle/network_2.pickle</td>\n",
       "      <td>1</td>\n",
       "      <td>3</td>\n",
       "      <td>2</td>\n",
       "      <td>[0]</td>\n",
       "      <td>[0]</td>\n",
       "      <td>[10000, 10000, 10000, 10000, 10000, 10000, 100...</td>\n",
       "      <td>[10000.0, 10000.0, 10000.0, 10000.0, 10000.0, ...</td>\n",
       "    </tr>\n",
       "    <tr>\n",
       "      <th>9</th>\n",
       "      <td>pickle/network_3.pickle</td>\n",
       "      <td>1</td>\n",
       "      <td>3</td>\n",
       "      <td>3</td>\n",
       "      <td>[0]</td>\n",
       "      <td>[0]</td>\n",
       "      <td>[10000, 10000, 10000, 10000, 10000, 10000, 100...</td>\n",
       "      <td>[10000.0, 10000.0, 10000.0, 10000.0, 10000.0, ...</td>\n",
       "    </tr>\n",
       "    <tr>\n",
       "      <th>12</th>\n",
       "      <td>pickle/network_4.pickle</td>\n",
       "      <td>1</td>\n",
       "      <td>3</td>\n",
       "      <td>4</td>\n",
       "      <td>[0]</td>\n",
       "      <td>[0]</td>\n",
       "      <td>[10000, 10000, 10000, 10000, 10000, 10000, 100...</td>\n",
       "      <td>[10000.0, 10000.0, 10000.0, 10000.0, 10000.0, ...</td>\n",
       "    </tr>\n",
       "    <tr>\n",
       "      <th>15</th>\n",
       "      <td>pickle/network_5.pickle</td>\n",
       "      <td>1</td>\n",
       "      <td>3</td>\n",
       "      <td>5</td>\n",
       "      <td>[0]</td>\n",
       "      <td>[0]</td>\n",
       "      <td>[10000, 10000, 10000, 10000, 10000, 10000, 100...</td>\n",
       "      <td>[10000.0, 10000.0, 10000.0, 10000.0, 10000.0, ...</td>\n",
       "    </tr>\n",
       "    <tr>\n",
       "      <th>18</th>\n",
       "      <td>pickle/network_6.pickle</td>\n",
       "      <td>1</td>\n",
       "      <td>3</td>\n",
       "      <td>6</td>\n",
       "      <td>[0]</td>\n",
       "      <td>[0]</td>\n",
       "      <td>[10000, 10000, 10000, 10000, 10000, 10000, 100...</td>\n",
       "      <td>[10000.0, 10000.0, 10000.0, 10000.0, 10000.0, ...</td>\n",
       "    </tr>\n",
       "    <tr>\n",
       "      <th>21</th>\n",
       "      <td>pickle/network_7.pickle</td>\n",
       "      <td>1</td>\n",
       "      <td>3</td>\n",
       "      <td>7</td>\n",
       "      <td>[0]</td>\n",
       "      <td>[0]</td>\n",
       "      <td>[10000, 10000, 10000, 10000, 10000, 10000, 100...</td>\n",
       "      <td>[10000.0, 10000.0, 10000.0, 10000.0, 10000.0, ...</td>\n",
       "    </tr>\n",
       "    <tr>\n",
       "      <th>24</th>\n",
       "      <td>pickle/network_8.pickle</td>\n",
       "      <td>1</td>\n",
       "      <td>3</td>\n",
       "      <td>8</td>\n",
       "      <td>[0]</td>\n",
       "      <td>[0]</td>\n",
       "      <td>[10000, 10000, 10000, 10000, 10000, 10000, 100...</td>\n",
       "      <td>[10000.0, 10000.0, 10000.0, 10000.0, 10000.0, ...</td>\n",
       "    </tr>\n",
       "    <tr>\n",
       "      <th>27</th>\n",
       "      <td>pickle/network_9.pickle</td>\n",
       "      <td>1</td>\n",
       "      <td>3</td>\n",
       "      <td>9</td>\n",
       "      <td>[0]</td>\n",
       "      <td>[0]</td>\n",
       "      <td>[10000, 10000, 10000, 10000, 10000, 10000, 100...</td>\n",
       "      <td>[10000.0, 10000.0, 10000.0, 10000.0, 10000.0, ...</td>\n",
       "    </tr>\n",
       "    <tr>\n",
       "      <th>30</th>\n",
       "      <td>pickle/network_10.pickle</td>\n",
       "      <td>1</td>\n",
       "      <td>3</td>\n",
       "      <td>10</td>\n",
       "      <td>[0]</td>\n",
       "      <td>[0]</td>\n",
       "      <td>[10000, 10000, 10000, 10000, 10000, 10000, 100...</td>\n",
       "      <td>[10000.0, 10000.0, 10000.0, 10000.0, 10000.0, ...</td>\n",
       "    </tr>\n",
       "    <tr>\n",
       "      <th>513</th>\n",
       "      <td>pickle/network_171.pickle</td>\n",
       "      <td>1</td>\n",
       "      <td>3</td>\n",
       "      <td>171</td>\n",
       "      <td>[2850.0]</td>\n",
       "      <td>[16150.0]</td>\n",
       "      <td>[11189.895782841075, 10907.458020083783, 10712...</td>\n",
       "      <td>[11189.895782841075, 10907.458020083783, 10712...</td>\n",
       "    </tr>\n",
       "    <tr>\n",
       "      <th>516</th>\n",
       "      <td>pickle/network_172.pickle</td>\n",
       "      <td>1</td>\n",
       "      <td>3</td>\n",
       "      <td>172</td>\n",
       "      <td>[2850.0]</td>\n",
       "      <td>[16150.0]</td>\n",
       "      <td>[11189.895782841075, 10907.458020083783, 10712...</td>\n",
       "      <td>[11189.895782841075, 10907.458020083783, 10712...</td>\n",
       "    </tr>\n",
       "    <tr>\n",
       "      <th>519</th>\n",
       "      <td>pickle/network_173.pickle</td>\n",
       "      <td>1</td>\n",
       "      <td>3</td>\n",
       "      <td>173</td>\n",
       "      <td>[2850.0]</td>\n",
       "      <td>[16150.0]</td>\n",
       "      <td>[11189.895782841075, 10907.458020083783, 10712...</td>\n",
       "      <td>[11189.895782841075, 10907.458020083783, 10712...</td>\n",
       "    </tr>\n",
       "    <tr>\n",
       "      <th>522</th>\n",
       "      <td>pickle/network_174.pickle</td>\n",
       "      <td>1</td>\n",
       "      <td>3</td>\n",
       "      <td>174</td>\n",
       "      <td>[2850.0]</td>\n",
       "      <td>[16150.0]</td>\n",
       "      <td>[11189.895782841075, 10907.458020083783, 10712...</td>\n",
       "      <td>[11189.895782841075, 10907.458020083783, 10712...</td>\n",
       "    </tr>\n",
       "    <tr>\n",
       "      <th>525</th>\n",
       "      <td>pickle/network_175.pickle</td>\n",
       "      <td>1</td>\n",
       "      <td>3</td>\n",
       "      <td>175</td>\n",
       "      <td>[2850.0]</td>\n",
       "      <td>[16150.0]</td>\n",
       "      <td>[11189.895782841075, 10907.458020083783, 10712...</td>\n",
       "      <td>[11189.895782841075, 10907.458020083783, 10712...</td>\n",
       "    </tr>\n",
       "    <tr>\n",
       "      <th>528</th>\n",
       "      <td>pickle/network_176.pickle</td>\n",
       "      <td>1</td>\n",
       "      <td>3</td>\n",
       "      <td>176</td>\n",
       "      <td>[2850.0]</td>\n",
       "      <td>[16150.0]</td>\n",
       "      <td>[11189.895782841075, 10907.458020083783, 10712...</td>\n",
       "      <td>[11189.895782841075, 10907.458020083783, 10712...</td>\n",
       "    </tr>\n",
       "    <tr>\n",
       "      <th>531</th>\n",
       "      <td>pickle/network_177.pickle</td>\n",
       "      <td>1</td>\n",
       "      <td>3</td>\n",
       "      <td>177</td>\n",
       "      <td>[2850.0]</td>\n",
       "      <td>[16150.0]</td>\n",
       "      <td>[11189.895782841075, 10907.458020083783, 10712...</td>\n",
       "      <td>[11189.895782841075, 10907.458020083783, 10712...</td>\n",
       "    </tr>\n",
       "    <tr>\n",
       "      <th>534</th>\n",
       "      <td>pickle/network_178.pickle</td>\n",
       "      <td>1</td>\n",
       "      <td>3</td>\n",
       "      <td>178</td>\n",
       "      <td>[2850.0]</td>\n",
       "      <td>[16150.0]</td>\n",
       "      <td>[11189.895782841075, 10907.458020083783, 10712...</td>\n",
       "      <td>[11189.895782841075, 10907.458020083783, 10712...</td>\n",
       "    </tr>\n",
       "    <tr>\n",
       "      <th>537</th>\n",
       "      <td>pickle/network_179.pickle</td>\n",
       "      <td>1</td>\n",
       "      <td>3</td>\n",
       "      <td>179</td>\n",
       "      <td>[2850.0]</td>\n",
       "      <td>[16150.0]</td>\n",
       "      <td>[11189.895782841075, 10907.458020083783, 10712...</td>\n",
       "      <td>[11189.895782841075, 10907.458020083783, 10712...</td>\n",
       "    </tr>\n",
       "    <tr>\n",
       "      <th>540</th>\n",
       "      <td>pickle/network_180.pickle</td>\n",
       "      <td>1</td>\n",
       "      <td>3</td>\n",
       "      <td>180</td>\n",
       "      <td>[2850.0]</td>\n",
       "      <td>[16150.0]</td>\n",
       "      <td>[11189.895782841075, 10907.458020083783, 10712...</td>\n",
       "      <td>[11189.895782841075, 10907.458020083783, 10712...</td>\n",
       "    </tr>\n",
       "  </tbody>\n",
       "</table>\n",
       "</div>"
      ],
      "text/plain": [
       "          NetworkState.network  run  substep  timestep vault_reserve  \\\n",
       "3      pickle/network_1.pickle    1        3         1           [0]   \n",
       "6      pickle/network_2.pickle    1        3         2           [0]   \n",
       "9      pickle/network_3.pickle    1        3         3           [0]   \n",
       "12     pickle/network_4.pickle    1        3         4           [0]   \n",
       "15     pickle/network_5.pickle    1        3         5           [0]   \n",
       "18     pickle/network_6.pickle    1        3         6           [0]   \n",
       "21     pickle/network_7.pickle    1        3         7           [0]   \n",
       "24     pickle/network_8.pickle    1        3         8           [0]   \n",
       "27     pickle/network_9.pickle    1        3         9           [0]   \n",
       "30    pickle/network_10.pickle    1        3        10           [0]   \n",
       "513  pickle/network_171.pickle    1        3       171      [2850.0]   \n",
       "516  pickle/network_172.pickle    1        3       172      [2850.0]   \n",
       "519  pickle/network_173.pickle    1        3       173      [2850.0]   \n",
       "522  pickle/network_174.pickle    1        3       174      [2850.0]   \n",
       "525  pickle/network_175.pickle    1        3       175      [2850.0]   \n",
       "528  pickle/network_176.pickle    1        3       176      [2850.0]   \n",
       "531  pickle/network_177.pickle    1        3       177      [2850.0]   \n",
       "534  pickle/network_178.pickle    1        3       178      [2850.0]   \n",
       "537  pickle/network_179.pickle    1        3       179      [2850.0]   \n",
       "540  pickle/network_180.pickle    1        3       180      [2850.0]   \n",
       "\n",
       "    bonding_curve_reserve                                   investor_balance  \\\n",
       "3                     [0]  [10000, 10000, 10000, 10000, 10000, 10000, 100...   \n",
       "6                     [0]  [10000, 10000, 10000, 10000, 10000, 10000, 100...   \n",
       "9                     [0]  [10000, 10000, 10000, 10000, 10000, 10000, 100...   \n",
       "12                    [0]  [10000, 10000, 10000, 10000, 10000, 10000, 100...   \n",
       "15                    [0]  [10000, 10000, 10000, 10000, 10000, 10000, 100...   \n",
       "18                    [0]  [10000, 10000, 10000, 10000, 10000, 10000, 100...   \n",
       "21                    [0]  [10000, 10000, 10000, 10000, 10000, 10000, 100...   \n",
       "24                    [0]  [10000, 10000, 10000, 10000, 10000, 10000, 100...   \n",
       "27                    [0]  [10000, 10000, 10000, 10000, 10000, 10000, 100...   \n",
       "30                    [0]  [10000, 10000, 10000, 10000, 10000, 10000, 100...   \n",
       "513             [16150.0]  [11189.895782841075, 10907.458020083783, 10712...   \n",
       "516             [16150.0]  [11189.895782841075, 10907.458020083783, 10712...   \n",
       "519             [16150.0]  [11189.895782841075, 10907.458020083783, 10712...   \n",
       "522             [16150.0]  [11189.895782841075, 10907.458020083783, 10712...   \n",
       "525             [16150.0]  [11189.895782841075, 10907.458020083783, 10712...   \n",
       "528             [16150.0]  [11189.895782841075, 10907.458020083783, 10712...   \n",
       "531             [16150.0]  [11189.895782841075, 10907.458020083783, 10712...   \n",
       "534             [16150.0]  [11189.895782841075, 10907.458020083783, 10712...   \n",
       "537             [16150.0]  [11189.895782841075, 10907.458020083783, 10712...   \n",
       "540             [16150.0]  [11189.895782841075, 10907.458020083783, 10712...   \n",
       "\n",
       "                               padded_investor_balance  \n",
       "3    [10000.0, 10000.0, 10000.0, 10000.0, 10000.0, ...  \n",
       "6    [10000.0, 10000.0, 10000.0, 10000.0, 10000.0, ...  \n",
       "9    [10000.0, 10000.0, 10000.0, 10000.0, 10000.0, ...  \n",
       "12   [10000.0, 10000.0, 10000.0, 10000.0, 10000.0, ...  \n",
       "15   [10000.0, 10000.0, 10000.0, 10000.0, 10000.0, ...  \n",
       "18   [10000.0, 10000.0, 10000.0, 10000.0, 10000.0, ...  \n",
       "21   [10000.0, 10000.0, 10000.0, 10000.0, 10000.0, ...  \n",
       "24   [10000.0, 10000.0, 10000.0, 10000.0, 10000.0, ...  \n",
       "27   [10000.0, 10000.0, 10000.0, 10000.0, 10000.0, ...  \n",
       "30   [10000.0, 10000.0, 10000.0, 10000.0, 10000.0, ...  \n",
       "513  [11189.895782841075, 10907.458020083783, 10712...  \n",
       "516  [11189.895782841075, 10907.458020083783, 10712...  \n",
       "519  [11189.895782841075, 10907.458020083783, 10712...  \n",
       "522  [11189.895782841075, 10907.458020083783, 10712...  \n",
       "525  [11189.895782841075, 10907.458020083783, 10712...  \n",
       "528  [11189.895782841075, 10907.458020083783, 10712...  \n",
       "531  [11189.895782841075, 10907.458020083783, 10712...  \n",
       "534  [11189.895782841075, 10907.458020083783, 10712...  \n",
       "537  [11189.895782841075, 10907.458020083783, 10712...  \n",
       "540  [11189.895782841075, 10907.458020083783, 10712...  "
      ]
     },
     "execution_count": 31,
     "metadata": {},
     "output_type": "execute_result"
    }
   ],
   "source": [
    "rdf.head(10).append(rdf.tail(10))"
   ]
  },
  {
   "cell_type": "markdown",
   "metadata": {},
   "source": [
    "# Collateral Redistribution"
   ]
  },
  {
   "cell_type": "markdown",
   "metadata": {},
   "source": [
    "## Observations\n",
    "\n",
    "`spot_price = bonding_curve['reserve']/bonding_curve['bonded_tokens']`\n",
    "\n",
    "1. If you redistribute with a flat spot price, no one makes a profit"
   ]
  },
  {
   "cell_type": "code",
   "execution_count": 32,
   "metadata": {},
   "outputs": [
    {
     "name": "stdout",
     "output_type": "stream",
     "text": [
      "{'bonded_tokens': 16584.01864582594, 'reserve': 16150.0}\n",
      "Spot price: 0.9738291028794049\n",
      "Percent ROI: 35.0\n"
     ]
    }
   ],
   "source": [
    "network = nx.read_gpickle(rdf[NetworkState.network][time_steps*3])\n",
    "projects = get_node_ids_of_type(network, 'project')\n",
    "project = projects[0]\n",
    "\n",
    "project_node = network.node[project]\n",
    "vault = project_node['vault']\n",
    "bonding_curve = project_node['bonding_curve']\n",
    "\n",
    "def redistribution(network):\n",
    "    if bonding_curve['bonded_tokens'] > 0:\n",
    "        spot_price = bonding_curve['reserve']/bonding_curve['bonded_tokens']\n",
    "    else: spot_price = 0\n",
    "        \n",
    "        # (network.node[j]['bonded_tokens']/bonding_curve['bonded_tokens'])*vault['reserve']\n",
    "    \n",
    "    result = []\n",
    "    for j in get_node_ids_of_type(network, 'investor'):\n",
    "        vault_share = network.node[j]['taxed']\n",
    "        vault['reserve'] -= vault_share\n",
    "        if vault['reserve'] < 0:\n",
    "            print(\"Oh dear...\")\n",
    "#         vault_share = 0\n",
    "        balance = (network.node[j]['bonded_tokens']*spot_price + vault_share + network.node[j]['trading_balance']) - 10_000\n",
    "        result.append(balance)      \n",
    "    return result\n",
    "\n",
    "result = redistribution(network)\n",
    "\n",
    "print(bonding_curve)\n",
    "spot_price = bonding_curve['reserve']/bonding_curve['bonded_tokens']\n",
    "print('Spot price: %s' % spot_price)\n",
    "percent_roi = sum(i > 0 for i in result)/len(result)*100\n",
    "print('Percent ROI: %s' % percent_roi)"
   ]
  },
  {
   "cell_type": "raw",
   "metadata": {},
   "source": [
    "# Buy\n",
    "Dai value\n",
    "# Sell\n",
    "Dai value\n",
    "\n",
    "# Total ROI\n",
    "-10 buy\n",
    "+8 sell\n",
    "tokens remaining => dai value => 1\n",
    "\n",
    "-1 -> from the vault\n",
    "\n",
    "# Tax\n",
    "User {\n",
    "    tax += vault_tax\n",
    "    => redistribute to user\n",
    "}"
   ]
  },
  {
   "cell_type": "code",
   "execution_count": 33,
   "metadata": {},
   "outputs": [
    {
     "data": {
      "image/png": "[encoded data removed]",
      "text/plain": [
       "<Figure size 504x504 with 2 Axes>"
      ]
     },
     "metadata": {},
     "output_type": "display_data"
    }
   ],
   "source": [
    "sns.set(style=\"white\", palette=\"muted\", color_codes=True)\n",
    "\n",
    "# Set up the matplotlib figure\n",
    "f, axes = plt.subplots(2, figsize=(7, 7), sharex=True)\n",
    "sns.despine(left=True)\n",
    "\n",
    "# Generate a random univariate dataset\n",
    "d = result\n",
    "\n",
    "# Plot a kernel density estimate and rug plot\n",
    "sns.distplot(d, hist=False, rug=True, color=\"r\", ax=axes[0])\n",
    "\n",
    "# Plot a historgram and kernel density estimate\n",
    "sns.distplot(d, color=\"m\", ax=axes[1])\n",
    "\n",
    "plt.setp(axes, yticks=[])\n",
    "plt.tight_layout()"
   ]
  },
  {
   "cell_type": "markdown",
   "metadata": {},
   "source": [
    "# Continuous Taxation\n",
    "\n",
    "Tax rate set at a percentage per time period. For example 5% per month. See below re. block time.\n",
    "\n",
    "* Investigate harburger tax\n",
    "\n",
    "From the Compound interest rate model:\n",
    "\n",
    "See https://github.com/compound-finance/compound-money-market/blob/master/contracts/InterestRateModel.sol & https://github.com/compound-finance/compound-money-market\n",
    "\n",
    "```    /**\n",
    "      * @notice Gets the current supply interest rate based on the given asset, total cash and total borrows\n",
    "      * @dev The return value should be scaled by 1e18, thus a return value of\n",
    "      *      `(true, 1000000000000)` implies an interest rate of 0.000001 or 0.0001% *per block*.\n",
    "      * @param asset The asset to get the interest rate of\n",
    "      * @param cash The total cash of the asset in the market\n",
    "      * @param borrows The total borrows of the asset in the market\n",
    "      * @return Success or failure and the supply interest rate per block scaled by 10e18\n",
    "*/\n",
    "```\n",
    "\n",
    "They use an interest rate based on `uint constant blocksPerYear = 2102400;`\n",
    "\n",
    "Probably the best explanation of continuous tokens: https://yos.io/2018/11/10/bonding-curves/"
   ]
  },
  {
   "cell_type": "markdown",
   "metadata": {},
   "source": [
    "First proposal:\n",
    "\n",
    "1. Use a continuous token model, with a negative exponential function\n",
    "2. A negative exponential function should dampen the effect seen in Protea where early investors are unfairly rewarded\n",
    "3. When it comes time to dissolve the market, the connector weight can be set to 100% - essentially making all tokens the same price, and making the market entirely collateralized\n",
    "4. A tax can be calculated as a function of block time, collateral pool size, funding goal, and funding period - optimized to reach a funding goal in the given period, no matter what"
   ]
  },
  {
   "cell_type": "markdown",
   "metadata": {},
   "source": [
    "Assumptions:\n",
    "\n",
    "1. You want to tax early investors less than late investors - this coincides with having a progressive tax\n",
    "2. Using a continuous token model you could continuously decollateralize the market more easily\n",
    "\n",
    "Tax rate should vary between r_min and r_max. An ideal curve for this would be a generalized logistic function with A = -1, let's call it G()\n",
    "https://en.wikipedia.org/wiki/Generalised_logistic_function\n",
    "\n",
    "G() where r_min is at the origin and r_max at the assymptote.\n",
    "\n",
    "When the connector weight is 100%, all investors are taxed equally...? When the connector weight is any less than 100%, early investors are effectively taxed less.\n",
    "When there is less activity, ideally the tax rate should be lower, to incetivize new investors. If the tax rate is based on the collateral pool size, we need to be careful not to make the funding goal a never reachable assymptote. Given a certain market size, let's calculate the continuous tax rate such that the funding goal is reached in at least the given period."
   ]
  },
  {
   "cell_type": "markdown",
   "metadata": {},
   "source": [
    "# Investor Story\n",
    "\n",
    "At this stage, with a limited understanding of the investment behaviour of our target market, and even the size - we're better off simulting the user base as a monotonically increasing curve that approaches a reasonable assymptote. We can decide what the best and worst case scenarios are and simulate these - this will be what the asymptotic total investment value is, and how long it take to reach it.\n",
    "\n",
    "We can theorize that given 100 investors, with a fund of 100_000 each to invest, we could end up with a total investment pool of 10_000_000 within an ideal period of 6 months. Worst case we only reach 20% of our invesor market, or 20% of the theoretical total investment pool, and we end up with 2_000_000. We can adjust how we simulate this or what the best and worse case scenarios are, but basically we should create an investor story and work from that, rather than digging into investor behaviour too deeply."
   ]
  }
 ],
 "metadata": {
  "kernelspec": {
   "display_name": "Python3 - python",
   "language": "python",
   "name": "ipython_python"
  },
  "language_info": {
   "codemirror_mode": {
    "name": "ipython",
    "version": 3
   },
   "file_extension": ".py",
   "mimetype": "text/x-python",
   "name": "python",
   "nbconvert_exporter": "python",
   "pygments_lexer": "ipython3",
   "version": "3.7.2"
  }
 },
 "nbformat": 4,
 "nbformat_minor": 2
}
