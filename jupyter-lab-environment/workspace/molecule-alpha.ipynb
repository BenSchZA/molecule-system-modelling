{
 "cells": [
  {
   "cell_type": "markdown",
   "metadata": {},
   "source": [
    "# Molecule Alpha Simulations"
   ]
  },
  {
   "cell_type": "markdown",
   "metadata": {},
   "source": [
    "Repository: https://gitlab.com/linumlabs/molecule-system-modelling"
   ]
  },
  {
   "cell_type": "markdown",
   "metadata": {},
   "source": [
    "**What do we want to investigate given certain assumptions?**\n",
    "\n",
    "1. Assuming a buy & hold investment behaviour, what tax rate results in reasonable investor break-even period and reaching the funding goal.\n",
    "2. Given a certain tax rate, what user base and behaviour is needed to reach funding goal in given period.\n",
    "3. How can we design the bonding curve such that the funding goal is reached within the given time allocated?\n",
    "4. How can we design the tax such that investors are rewarded fairly, both early and late?\n",
    "5. How can we fairly dissolve a project and redistribute its collateral when completed?\n",
    "\n",
    "**In an ideal efficient market, we hope to:**\n",
    "\n",
    "1. Reach the funding goal in the given period\n",
    "2. Reward investors fairly\n",
    "3. Promote further investment\n",
    "\n",
    "**Funding outcomes can be any of the following, with certain consequences:**\n",
    "\n",
    "Market creators\n",
    "1. Funding reached within time period\n",
    "2. Funding reached before time period\n",
    "3. Funding not reached\n",
    "\n",
    "Investors\n",
    "1. Investors reach ROI\n",
    "2. Investors make a profit\n",
    "3. Investors make a loss"
   ]
  },
  {
   "cell_type": "markdown",
   "metadata": {},
   "source": [
    "## Module imports"
   ]
  },
  {
   "cell_type": "code",
   "execution_count": 2,
   "metadata": {},
   "outputs": [],
   "source": [
    "import networkx as nx\n",
    "\n",
    "import matplotlib.pyplot as plt\n",
    "%matplotlib inline\n",
    "import math\n",
    "from scipy.optimize import fsolve\n",
    "import scipy.integrate as integrate\n",
    "\n",
    "from decimal import Decimal\n",
    "import numpy as np\n",
    "import pandas as pd\n",
    "# from pynverse import inversefunc\n",
    "\n",
    "import ipywidgets as widgets\n",
    "from IPython.display import display\n",
    "\n",
    "from abc import ABC, abstractmethod\n",
    "from enum import Enum, auto\n",
    "from functools import partial\n",
    "import random\n",
    "import uuid\n",
    "import json\n",
    "\n",
    "import plotly.plotly as py\n",
    "import plotly.graph_objs as go\n",
    "import plotly\n",
    "plotly.tools.set_credentials_file(username='BenjaminScholtz', api_key='8HheLHWEyoXDuLOiQ4ZO')\n",
    "\n",
    "import sys\n",
    "sys.path.append(\"../lib/python3.7/site-packages\")"
   ]
  },
  {
   "cell_type": "code",
   "execution_count": 3,
   "metadata": {},
   "outputs": [
    {
     "data": {
      "text/plain": [
       "180"
      ]
     },
     "execution_count": 3,
     "metadata": {},
     "output_type": "execute_result"
    }
   ],
   "source": [
    "params = {\n",
    "#     'tax_rate': [.05], # percentage\n",
    "#     'funding_period': [6], # months\n",
    "#     'funding_goal': [1_000_000], # dollars\n",
    "    'max_holdings': [100_000],\n",
    "}\n",
    "\n",
    "# TODO: configure network\n",
    "\n",
    "initial_conditions = {\n",
    "    'investors': [100], # total for funding round\n",
    "#     'supporters': []\n",
    "    'trading_balance': [10_000], # dollars\n",
    "}\n",
    "\n",
    "default_gradient = 1/17_500.0\n",
    "default_shift = 0.5\n",
    "\n",
    "sigmoid_inflection = 80\n",
    "sigmoid_slope = 1/20\n",
    "\n",
    "blocks_per_year = 2102400\n",
    "blocks_per_month = blocks_per_year/12\n",
    "blocks_per_day = blocks_per_year/365\n",
    "\n",
    "time_steps = int(6*30) # approx. 30 days per month\n",
    "\n",
    "time_steps"
   ]
  },
  {
   "cell_type": "code",
   "execution_count": 4,
   "metadata": {},
   "outputs": [],
   "source": [
    "# monotonically increasing polynomial function\n",
    "def bonding_function(x, m=default_gradient, c=default_shift):\n",
    "#     return np.power(x, 2) + c\n",
    "#     return np.multiply(m, x) + c\n",
    "    C = 10\n",
    "    a = 0.001\n",
    "    return C * (1 - np.exp(-a*x)) + 1\n",
    "\n",
    "def tax_function(x, m=default_gradient, c=default_shift):\n",
    "#     return np.multiply(m, x) + c*(1 - params['tax_rate'][0])\n",
    "    C = 10\n",
    "    a = 0.001\n",
    "    return C * (1 - np.exp(-a*x))\n",
    "\n",
    "# this is essentially numerical integration\n",
    "#     return [np.sum(bonding_function(x[:index])) for index,_ in enumerate(x)]\n",
    "\n",
    "# invariant function\n",
    "def collateral_pool(x):\n",
    "    return [integrate.quad(lambda i: bonding_function(i), x[0], x[index])[0] for index,_ in enumerate(x)]\n",
    "\n",
    "def inverse_integral(x):\n",
    "    matrix = np.column_stack((x,collateral_pool(x)))\n",
    "    return np.linalg.inv(matrix)\n",
    "\n",
    "def final_collateral(x):\n",
    "    return integrate.quad(lambda i: bonding_function(i), x[0], x[-1])\n",
    "\n",
    "def vault_pool(x):\n",
    "    return np.subtract(collateral_pool(x), [integrate.quad(lambda i: tax_function(i), x[0], x[index])[0] for index,_ in enumerate(x)])\n",
    "\n",
    "def investor_pool(x):\n",
    "    return np.subtract(collateral_pool(x), vault_pool(x))"
   ]
  },
  {
   "cell_type": "code",
   "execution_count": 5,
   "metadata": {},
   "outputs": [],
   "source": [
    "x = np.linspace(0,10_000,10_00)\n",
    "\n",
    "y = bonding_function(x)\n",
    "t = tax_function(x)\n",
    "c = collateral_pool(x)\n",
    "v = vault_pool(x)\n",
    "i = investor_pool(x)"
   ]
  },
  {
   "cell_type": "code",
   "execution_count": 6,
   "metadata": {},
   "outputs": [
    {
     "data": {
      "image/png": "[encoded data removed]",
      "text/plain": [
       "<Figure size 432x288 with 1 Axes>"
      ]
     },
     "metadata": {
      "needs_background": "light"
     },
     "output_type": "display_data"
    }
   ],
   "source": [
    "plt.plot(x, y, label='Bonding Function')\n",
    "plt.plot(x, t, label='Tax Function')\n",
    "plt.plot(x, c, label='Collateral Pool')\n",
    "plt.plot(x, v, label='Vault Pool')\n",
    "plt.plot(x, i, label='Investor Pool')\n",
    "plt.legend(loc='upper left')\n",
    "plt.show()"
   ]
  },
  {
   "cell_type": "code",
   "execution_count": 7,
   "metadata": {},
   "outputs": [
    {
     "data": {
      "image/png": "[encoded data removed]",
      "text/plain": [
       "<Figure size 432x288 with 1 Axes>"
      ]
     },
     "metadata": {
      "needs_background": "light"
     },
     "output_type": "display_data"
    }
   ],
   "source": [
    "# Bonding function and tax (sell) function\n",
    "plt.plot(x, y, x, t)\n",
    "plt.show()"
   ]
  },
  {
   "cell_type": "code",
   "execution_count": 8,
   "metadata": {},
   "outputs": [
    {
     "data": {
      "text/plain": [
       "[<matplotlib.lines.Line2D at 0x7f3ab494a208>]"
      ]
     },
     "execution_count": 8,
     "metadata": {},
     "output_type": "execute_result"
    },
    {
     "data": {
      "image/png": "[encoded data removed]",
      "text/plain": [
       "<Figure size 432x288 with 2 Axes>"
      ]
     },
     "metadata": {
      "needs_background": "light"
     },
     "output_type": "display_data"
    }
   ],
   "source": [
    "# Vault and investor pool\n",
    "fig, axs = plt.subplots(1,2)\n",
    "\n",
    "axs[0].plot(x, v)\n",
    "axs[1].plot(x, i)"
   ]
  },
  {
   "cell_type": "code",
   "execution_count": 9,
   "metadata": {},
   "outputs": [
    {
     "name": "stdout",
     "output_type": "stream",
     "text": [
      "[0.00000000e+00 9.56148499e-01 1.13049787e+04]\n"
     ]
    }
   ],
   "source": [
    "print(investor_pool([100,101,2000]))"
   ]
  },
  {
   "cell_type": "code",
   "execution_count": 10,
   "metadata": {},
   "outputs": [
    {
     "ename": "TypeError",
     "evalue": "can't multiply sequence by non-int of type 'float'",
     "output_type": "error",
     "traceback": [
      "\u001b[0;31m---------------------------------------------------------------------------\u001b[0m",
      "\u001b[0;31mTypeError\u001b[0m                                 Traceback (most recent call last)",
      "\u001b[0;32m<ipython-input-10-136fca7d2394>\u001b[0m in \u001b[0;36m<module>\u001b[0;34m\u001b[0m\n\u001b[1;32m      1\u001b[0m \u001b[0;31m# Given a funding goal and period,\u001b[0m\u001b[0;34m\u001b[0m\u001b[0;34m\u001b[0m\u001b[0;34m\u001b[0m\u001b[0m\n\u001b[0;32m----> 2\u001b[0;31m \u001b[0mbonding_function\u001b[0m\u001b[0;34m(\u001b[0m\u001b[0;34m[\u001b[0m\u001b[0;36m1000.0\u001b[0m\u001b[0;34m]\u001b[0m\u001b[0;34m)\u001b[0m\u001b[0;34m\u001b[0m\u001b[0;34m\u001b[0m\u001b[0m\n\u001b[0m",
      "\u001b[0;32m<ipython-input-4-f9809e8148a3>\u001b[0m in \u001b[0;36mbonding_function\u001b[0;34m(x, m, c)\u001b[0m\n\u001b[1;32m      5\u001b[0m     \u001b[0mC\u001b[0m \u001b[0;34m=\u001b[0m \u001b[0;36m10\u001b[0m\u001b[0;34m\u001b[0m\u001b[0;34m\u001b[0m\u001b[0m\n\u001b[1;32m      6\u001b[0m     \u001b[0ma\u001b[0m \u001b[0;34m=\u001b[0m \u001b[0;36m0.001\u001b[0m\u001b[0;34m\u001b[0m\u001b[0;34m\u001b[0m\u001b[0m\n\u001b[0;32m----> 7\u001b[0;31m     \u001b[0;32mreturn\u001b[0m \u001b[0mC\u001b[0m \u001b[0;34m*\u001b[0m \u001b[0;34m(\u001b[0m\u001b[0;36m1\u001b[0m \u001b[0;34m-\u001b[0m \u001b[0mnp\u001b[0m\u001b[0;34m.\u001b[0m\u001b[0mexp\u001b[0m\u001b[0;34m(\u001b[0m\u001b[0;34m-\u001b[0m\u001b[0ma\u001b[0m\u001b[0;34m*\u001b[0m\u001b[0mx\u001b[0m\u001b[0;34m)\u001b[0m\u001b[0;34m)\u001b[0m \u001b[0;34m+\u001b[0m \u001b[0;36m1\u001b[0m\u001b[0;34m\u001b[0m\u001b[0;34m\u001b[0m\u001b[0m\n\u001b[0m\u001b[1;32m      8\u001b[0m \u001b[0;34m\u001b[0m\u001b[0m\n\u001b[1;32m      9\u001b[0m \u001b[0;32mdef\u001b[0m \u001b[0mtax_function\u001b[0m\u001b[0;34m(\u001b[0m\u001b[0mx\u001b[0m\u001b[0;34m,\u001b[0m \u001b[0mm\u001b[0m\u001b[0;34m=\u001b[0m\u001b[0mdefault_gradient\u001b[0m\u001b[0;34m,\u001b[0m \u001b[0mc\u001b[0m\u001b[0;34m=\u001b[0m\u001b[0mdefault_shift\u001b[0m\u001b[0;34m)\u001b[0m\u001b[0;34m:\u001b[0m\u001b[0;34m\u001b[0m\u001b[0;34m\u001b[0m\u001b[0m\n",
      "\u001b[0;31mTypeError\u001b[0m: can't multiply sequence by non-int of type 'float'"
     ]
    }
   ],
   "source": [
    "# Given a funding goal and period, \n",
    "bonding_function([1000.0])"
   ]
  },
  {
   "cell_type": "code",
   "execution_count": 11,
   "metadata": {},
   "outputs": [
    {
     "data": {
      "image/png": "[encoded data removed]",
      "text/plain": [
       "<Figure size 432x288 with 1 Axes>"
      ]
     },
     "metadata": {
      "needs_background": "light"
     },
     "output_type": "display_data"
    }
   ],
   "source": [
    "token_supply = 10_000\n",
    "x = np.linspace(0,token_supply,1000)\n",
    "y = np.tanh(x/(token_supply*.5))\n",
    "plt.plot(x, y)\n",
    "plt.show()"
   ]
  },
  {
   "cell_type": "code",
   "execution_count": 12,
   "metadata": {},
   "outputs": [
    {
     "ename": "LinAlgError",
     "evalue": "Last 2 dimensions of the array must be square",
     "output_type": "error",
     "traceback": [
      "\u001b[0;31m---------------------------------------------------------------------------\u001b[0m",
      "\u001b[0;31mLinAlgError\u001b[0m                               Traceback (most recent call last)",
      "\u001b[0;32m<ipython-input-12-cd3c573b9f8a>\u001b[0m in \u001b[0;36m<module>\u001b[0;34m\u001b[0m\n\u001b[1;32m      4\u001b[0m \u001b[0mmatrix\u001b[0m \u001b[0;34m=\u001b[0m \u001b[0mnp\u001b[0m\u001b[0;34m.\u001b[0m\u001b[0mcolumn_stack\u001b[0m\u001b[0;34m(\u001b[0m\u001b[0;34m(\u001b[0m\u001b[0mx\u001b[0m\u001b[0;34m,\u001b[0m\u001b[0mcollateral_pool\u001b[0m\u001b[0;34m(\u001b[0m\u001b[0mx\u001b[0m\u001b[0;34m)\u001b[0m\u001b[0;34m)\u001b[0m\u001b[0;34m)\u001b[0m\u001b[0;34m\u001b[0m\u001b[0;34m\u001b[0m\u001b[0m\n\u001b[1;32m      5\u001b[0m \u001b[0;34m\u001b[0m\u001b[0m\n\u001b[0;32m----> 6\u001b[0;31m \u001b[0minverse_integral\u001b[0m\u001b[0;34m(\u001b[0m\u001b[0mx\u001b[0m\u001b[0;34m)\u001b[0m\u001b[0;34m[\u001b[0m\u001b[0;34m:\u001b[0m\u001b[0;34m,\u001b[0m\u001b[0;36m0\u001b[0m\u001b[0;34m]\u001b[0m\u001b[0;34m\u001b[0m\u001b[0;34m\u001b[0m\u001b[0m\n\u001b[0m",
      "\u001b[0;32m<ipython-input-4-f9809e8148a3>\u001b[0m in \u001b[0;36minverse_integral\u001b[0;34m(x)\u001b[0m\n\u001b[1;32m     22\u001b[0m \u001b[0;32mdef\u001b[0m \u001b[0minverse_integral\u001b[0m\u001b[0;34m(\u001b[0m\u001b[0mx\u001b[0m\u001b[0;34m)\u001b[0m\u001b[0;34m:\u001b[0m\u001b[0;34m\u001b[0m\u001b[0;34m\u001b[0m\u001b[0m\n\u001b[1;32m     23\u001b[0m     \u001b[0mmatrix\u001b[0m \u001b[0;34m=\u001b[0m \u001b[0mnp\u001b[0m\u001b[0;34m.\u001b[0m\u001b[0mcolumn_stack\u001b[0m\u001b[0;34m(\u001b[0m\u001b[0;34m(\u001b[0m\u001b[0mx\u001b[0m\u001b[0;34m,\u001b[0m\u001b[0mcollateral_pool\u001b[0m\u001b[0;34m(\u001b[0m\u001b[0mx\u001b[0m\u001b[0;34m)\u001b[0m\u001b[0;34m)\u001b[0m\u001b[0;34m)\u001b[0m\u001b[0;34m\u001b[0m\u001b[0;34m\u001b[0m\u001b[0m\n\u001b[0;32m---> 24\u001b[0;31m     \u001b[0;32mreturn\u001b[0m \u001b[0mnp\u001b[0m\u001b[0;34m.\u001b[0m\u001b[0mlinalg\u001b[0m\u001b[0;34m.\u001b[0m\u001b[0minv\u001b[0m\u001b[0;34m(\u001b[0m\u001b[0mmatrix\u001b[0m\u001b[0;34m)\u001b[0m\u001b[0;34m\u001b[0m\u001b[0;34m\u001b[0m\u001b[0m\n\u001b[0m\u001b[1;32m     25\u001b[0m \u001b[0;34m\u001b[0m\u001b[0m\n\u001b[1;32m     26\u001b[0m \u001b[0;32mdef\u001b[0m \u001b[0mfinal_collateral\u001b[0m\u001b[0;34m(\u001b[0m\u001b[0mx\u001b[0m\u001b[0;34m)\u001b[0m\u001b[0;34m:\u001b[0m\u001b[0;34m\u001b[0m\u001b[0;34m\u001b[0m\u001b[0m\n",
      "\u001b[0;32m/nix/store/q1269sw9naz53jqb1a5jg4p1k36g97hz-python3-3.7.2-env/lib/python3.7/site-packages/numpy/linalg/linalg.py\u001b[0m in \u001b[0;36minv\u001b[0;34m(a)\u001b[0m\n\u001b[1;32m    525\u001b[0m     \u001b[0ma\u001b[0m\u001b[0;34m,\u001b[0m \u001b[0mwrap\u001b[0m \u001b[0;34m=\u001b[0m \u001b[0m_makearray\u001b[0m\u001b[0;34m(\u001b[0m\u001b[0ma\u001b[0m\u001b[0;34m)\u001b[0m\u001b[0;34m\u001b[0m\u001b[0;34m\u001b[0m\u001b[0m\n\u001b[1;32m    526\u001b[0m     \u001b[0m_assertRankAtLeast2\u001b[0m\u001b[0;34m(\u001b[0m\u001b[0ma\u001b[0m\u001b[0;34m)\u001b[0m\u001b[0;34m\u001b[0m\u001b[0;34m\u001b[0m\u001b[0m\n\u001b[0;32m--> 527\u001b[0;31m     \u001b[0m_assertNdSquareness\u001b[0m\u001b[0;34m(\u001b[0m\u001b[0ma\u001b[0m\u001b[0;34m)\u001b[0m\u001b[0;34m\u001b[0m\u001b[0;34m\u001b[0m\u001b[0m\n\u001b[0m\u001b[1;32m    528\u001b[0m     \u001b[0mt\u001b[0m\u001b[0;34m,\u001b[0m \u001b[0mresult_t\u001b[0m \u001b[0;34m=\u001b[0m \u001b[0m_commonType\u001b[0m\u001b[0;34m(\u001b[0m\u001b[0ma\u001b[0m\u001b[0;34m)\u001b[0m\u001b[0;34m\u001b[0m\u001b[0;34m\u001b[0m\u001b[0m\n\u001b[1;32m    529\u001b[0m \u001b[0;34m\u001b[0m\u001b[0m\n",
      "\u001b[0;32m/nix/store/q1269sw9naz53jqb1a5jg4p1k36g97hz-python3-3.7.2-env/lib/python3.7/site-packages/numpy/linalg/linalg.py\u001b[0m in \u001b[0;36m_assertNdSquareness\u001b[0;34m(*arrays)\u001b[0m\n\u001b[1;32m    213\u001b[0m         \u001b[0mm\u001b[0m\u001b[0;34m,\u001b[0m \u001b[0mn\u001b[0m \u001b[0;34m=\u001b[0m \u001b[0ma\u001b[0m\u001b[0;34m.\u001b[0m\u001b[0mshape\u001b[0m\u001b[0;34m[\u001b[0m\u001b[0;34m-\u001b[0m\u001b[0;36m2\u001b[0m\u001b[0;34m:\u001b[0m\u001b[0;34m]\u001b[0m\u001b[0;34m\u001b[0m\u001b[0;34m\u001b[0m\u001b[0m\n\u001b[1;32m    214\u001b[0m         \u001b[0;32mif\u001b[0m \u001b[0mm\u001b[0m \u001b[0;34m!=\u001b[0m \u001b[0mn\u001b[0m\u001b[0;34m:\u001b[0m\u001b[0;34m\u001b[0m\u001b[0;34m\u001b[0m\u001b[0m\n\u001b[0;32m--> 215\u001b[0;31m             \u001b[0;32mraise\u001b[0m \u001b[0mLinAlgError\u001b[0m\u001b[0;34m(\u001b[0m\u001b[0;34m'Last 2 dimensions of the array must be square'\u001b[0m\u001b[0;34m)\u001b[0m\u001b[0;34m\u001b[0m\u001b[0;34m\u001b[0m\u001b[0m\n\u001b[0m\u001b[1;32m    216\u001b[0m \u001b[0;34m\u001b[0m\u001b[0m\n\u001b[1;32m    217\u001b[0m \u001b[0;32mdef\u001b[0m \u001b[0m_assertFinite\u001b[0m\u001b[0;34m(\u001b[0m\u001b[0;34m*\u001b[0m\u001b[0marrays\u001b[0m\u001b[0;34m)\u001b[0m\u001b[0;34m:\u001b[0m\u001b[0;34m\u001b[0m\u001b[0;34m\u001b[0m\u001b[0m\n",
      "\u001b[0;31mLinAlgError\u001b[0m: Last 2 dimensions of the array must be square"
     ]
    }
   ],
   "source": [
    "# plt.plot()\n",
    "x = np.linspace(0,10_000,100_000)\n",
    "\n",
    "matrix = np.column_stack((x,collateral_pool(x)))\n",
    "\n",
    "inverse_integral(x)[:,0]"
   ]
  },
  {
   "cell_type": "markdown",
   "metadata": {},
   "source": [
    "Given the funding goal and period, what parameters will help us reach that goal?\n",
    "\n",
    "1. Tax rate\n",
    "2. Total investment\n",
    "3. Investor activity\n",
    "4. Bonding curve"
   ]
  },
  {
   "cell_type": "markdown",
   "metadata": {},
   "source": [
    "## Utility Functions"
   ]
  },
  {
   "cell_type": "code",
   "execution_count": 142,
   "metadata": {},
   "outputs": [],
   "source": [
    "def id():\n",
    "    return uuid.uuid4().int & (1<<64)-1\n",
    "\n",
    "def bollinger_bands(value, window_size, num_of_std):\n",
    "\n",
    "    rolling_mean = value.rolling(window=window_size).mean()\n",
    "    rolling_std  = value.rolling(window=window_size).std()\n",
    "    upper_band = rolling_mean + (rolling_std*num_of_std)\n",
    "    lower_band = rolling_mean - (rolling_std*num_of_std)\n",
    "\n",
    "    return rolling_mean, upper_band, lower_band\n",
    "\n",
    "def get_node_ids_of_type(network, _type):\n",
    "    return [x for x,y in network.nodes(data=True) if y['_type']==_type]\n",
    "\n",
    "def pad(vec, length,fill=True):\n",
    "\n",
    "    if fill:\n",
    "        padded = np.zeros(length,)\n",
    "    else:\n",
    "        padded = np.empty(length,)\n",
    "        padded[:] = np.nan\n",
    "        \n",
    "    for i in range(len(vec)):\n",
    "        padded[i]= vec[i]\n",
    "        \n",
    "    return padded\n",
    "\n",
    "def make2D(key, data, fill=False):\n",
    "    maxL = data[key].apply(len).max()\n",
    "    newkey = 'padded_'+key\n",
    "    data[newkey] = data[key].apply(lambda x: pad(x,maxL,fill))\n",
    "    reshaped = np.array([a for a in data[newkey].values])\n",
    "    \n",
    "    return reshaped"
   ]
  },
  {
   "cell_type": "markdown",
   "metadata": {},
   "source": [
    "## Custom cadCAD type classes"
   ]
  },
  {
   "cell_type": "code",
   "execution_count": 84,
   "metadata": {},
   "outputs": [],
   "source": [
    "class StateType(Enum):\n",
    "    @classmethod\n",
    "    def initial_state(cls):\n",
    "        _members = {}\n",
    "        for item in cls.__members__:\n",
    "            _members[cls[item]] = 0\n",
    "        return _members\n",
    "    \n",
    "    def initial_conditions(cls):\n",
    "        print(\"initial_conditions not implemented\")\n",
    "\n",
    "class ActionsType(Enum):\n",
    "    def __init__(self, *args, **kwargs):\n",
    "        pass\n",
    "    \n",
    "    def method(self, *args):\n",
    "        method = getattr(self.__class__, '_%s' % self.name)\n",
    "        return method(*args)\n",
    "\n",
    "class PoliciesType:\n",
    "    def list(self):\n",
    "        policies = [func for func in dir(self) \n",
    "                    if (callable(getattr(self, func)) \n",
    "                        and func != 'list' \n",
    "                        and func.find('_'))]\n",
    "        returnVal = {}\n",
    "        for func in policies: returnVal[func] = getattr(self, func)\n",
    "        return returnVal"
   ]
  },
  {
   "cell_type": "markdown",
   "metadata": {},
   "source": [
    "## States"
   ]
  },
  {
   "cell_type": "code",
   "execution_count": 123,
   "metadata": {},
   "outputs": [
    {
     "data": {
      "image/png": "[encoded data removed]",
      "text/plain": [
       "<Figure size 432x288 with 1 Axes>"
      ]
     },
     "metadata": {},
     "output_type": "display_data"
    }
   ],
   "source": [
    "class Vault:\n",
    "    def __init__(self):\n",
    "        self.reserve = 0\n",
    "        \n",
    "class BondingCurve:\n",
    "    def __init__(self):\n",
    "        self.bonded_tokens = 0\n",
    "        self.reserve = 0\n",
    "\n",
    "class Project:\n",
    "    def __init__(self):\n",
    "        self.status = 'project'\n",
    "        self.vault = Vault()\n",
    "        self.bonding_curve = BondingCurve()\n",
    "        self.funding_goal = 1_000_000\n",
    "        self.funding_period = 6\n",
    "        self.tax_rate = .05\n",
    "    \n",
    "class Investor:\n",
    "    def __init__(self):\n",
    "        self.status = 'validated'\n",
    "        self.trading_balance = 10_000 # dollars\n",
    "        self.invested = 0\n",
    "        self.bonded_tokens = 0\n",
    "        self.estimated_value = 0 # dollar value of tokens\n",
    "        self.sentiment = 1 # 1 being hold indefinitely, 0 being sell immediately... tbd\n",
    "\n",
    "projects = 1\n",
    "max_investors_per_project = 100\n",
    "\n",
    "G = nx.Graph()\n",
    "color_map = []\n",
    "\n",
    "for project in range(projects):\n",
    "    color_map.append('green')\n",
    "    G.add_node(project, data=Project(), _type='project')\n",
    "    \n",
    "for investor in range(max_investors_per_project):\n",
    "    color_map.append('red')\n",
    "    G.add_node(investor + 1, data=Investor(), _type='investor')\n",
    "\n",
    "# G = nx.convert_node_labels_to_integers(G)\n",
    "nx.draw_kamada_kawai(G, node_color=color_map, font_weight='bold', with_labels=True) # with_labels=True\n",
    "\n",
    "class NetworkState(StateType):\n",
    "    network = auto()\n",
    "    \n",
    "    @classmethod\n",
    "    def initial_conditions(cls):\n",
    "        return {\n",
    "            cls.network: G,\n",
    "        }"
   ]
  },
  {
   "cell_type": "code",
   "execution_count": 124,
   "metadata": {},
   "outputs": [],
   "source": [
    "class StateAgregated(StateType):\n",
    "    pool_balance = auto()\n",
    "    \n",
    "    @classmethod\n",
    "    def initial_conditions(cls):\n",
    "        return {\n",
    "            **cls.initial_state()\n",
    "        }"
   ]
  },
  {
   "cell_type": "markdown",
   "metadata": {},
   "source": [
    "## Actions"
   ]
  },
  {
   "cell_type": "code",
   "execution_count": 135,
   "metadata": {},
   "outputs": [],
   "source": [
    "class ActionsExogenous(ActionsType):\n",
    "    new_investors = auto()\n",
    "    investment_pool_generator = auto()\n",
    "    \n",
    "    @classmethod\n",
    "    def _new_investors(cls, _g, step, sL, s, _input):        \n",
    "        network: nx.Graph = s[NetworkState.network]\n",
    "\n",
    "        projects = get_node_ids_of_type(network, 'project')\n",
    "        project = projects[0]\n",
    "        investors = get_node_ids_of_type(network, 'investor')\n",
    "\n",
    "        currently_invested = list(network.neighbors(project))\n",
    "        \n",
    "        number_of_investors = max_investors_per_project/(1 + math.pow(math.e, -(s['timestep'] - sigmoid_inflection)*sigmoid_slope))\n",
    "        number_of_investors = max(math.floor(number_of_investors), 0)\n",
    "\n",
    "        new_investors = investors[len(currently_invested) : number_of_investors]\n",
    "\n",
    "        for index in new_investors:\n",
    "            network.node[index]['data'].status = 'invested'\n",
    "            network.add_edge(project, index)\n",
    "        \n",
    "        return (NetworkState.network, network)\n",
    "    \n",
    "    @classmethod\n",
    "    def _investment_pool_generator(cls, _g, step, sL, s, _input):\n",
    "        y = StateExogenous.tx_volume\n",
    "        x = s[StateExogenous.tx_volume]*(1+2*eta*np.random.rand()*(1-s[StateExogenous.tx_volume]/tampw))\n",
    "        return (y, x)\n",
    "\n",
    "class TradingActions(ActionsType):\n",
    "    perform_trades = auto()\n",
    "    \n",
    "    @classmethod\n",
    "    def _perform_trades(cls, _g, step, sL, s, _input):\n",
    "        network: nx.Graph = s[NetworkState.network]\n",
    "\n",
    "        projects = get_node_ids_of_type(network, 'project')\n",
    "        project = projects[0]\n",
    "        investors = get_node_ids_of_type(network, 'investor')\n",
    "        \n",
    "        currently_invested = list(network.neighbors(project))\n",
    "        \n",
    "        for index in currently_invested:\n",
    "            project = projects[0]\n",
    "            \n",
    "            project_node = network.node[project]\n",
    "            investor_node = network.node[index]\n",
    "            \n",
    "            vault = project_node['data'].vault\n",
    "            bonding_curve: BondingCurve = project_node['data'].bonding_curve\n",
    "            \n",
    "            collateral_to_invest = 100.0\n",
    "            collateral_tax = collateral_to_invest * project_node['data'].tax_rate\n",
    "            collateral_less_tax = collateral_to_invest - collateral_tax\n",
    "            \n",
    "            if investor_node['data'].trading_balance - collateral_to_invest > 0:\n",
    "                tokens_buy = collateral_less_tax # TODO: token reward for collateral\n",
    "\n",
    "                bonding_curve.bonded_tokens += tokens_buy\n",
    "                bonding_curve.reserve += collateral_less_tax\n",
    "\n",
    "                vault.reserve += collateral_tax\n",
    "\n",
    "                investor_node['data'].trading_balance -= collateral_to_invest\n",
    "                investor_node['data'].invested += collateral_to_invest\n",
    "                investor_node['data'].bonded_tokens += tokens_buy\n",
    "                investor_node['data'].estimated_value = investor_node['data'].bonded_tokens # TODO: collateral value of tokens\n",
    "            \n",
    "        return (NetworkState.network, network)\n",
    "    \n",
    "class UpdateActions(ActionsType):\n",
    "    update_balances = auto()\n",
    "    \n",
    "    @classmethod\n",
    "    def _update_balances(cls, _g, step, sL, s, _input):\n",
    "        community_state = s[State.community_state]\n",
    "        members = community_state.members\n",
    "        \n",
    "        for member in members:\n",
    "            member.user_balance = reward_for_burn(\n",
    "            member.user_supply, community_state.total_supply, community_state.pool_balance, s[State.gradient])\n",
    "            \n",
    "        return (State.community_state, community_state)\n",
    "    \n",
    "class MetricActions(ActionsType):\n",
    "    agregate = auto()\n",
    "    pool_balance = auto()\n",
    "    \n",
    "    @classmethod\n",
    "    def _pool_balance(cls, _g, step, sL, s, _input):\n",
    "        y = StateAgregated.pool_balance\n",
    "        if _input[cls.agregate] == 1:\n",
    "            x = s[State.community_state].pool_balance\n",
    "        else:\n",
    "            x = s[StateAgregated.pool_balance]\n",
    "        return (y, x)"
   ]
  },
  {
   "cell_type": "markdown",
   "metadata": {},
   "source": [
    "## Actions"
   ]
  },
  {
   "cell_type": "code",
   "execution_count": 136,
   "metadata": {},
   "outputs": [],
   "source": [
    "class MetricPolicies(PoliciesType):\n",
    "    def agregate(self, params, step, sL, s):\n",
    "        return({MetricActions.agregate: 1})\n",
    "    \n",
    "class Policies(PoliciesType):\n",
    "    #def __init__(self):\n",
    "        \n",
    "    def update_balances(self, params, step, sL, s):\n",
    "        return({UpdateActions.update_community_state: True})"
   ]
  },
  {
   "cell_type": "markdown",
   "metadata": {},
   "source": [
    "## cadCAD Model Initialization"
   ]
  },
  {
   "cell_type": "code",
   "execution_count": 137,
   "metadata": {
    "scrolled": true
   },
   "outputs": [],
   "source": [
    "# %%capture\n",
    "\n",
    "from datetime import timedelta\n",
    "\n",
    "# # # # # # # # # # # # # # # # # # # # # # # # # # # # # # # # # # # # # # # # # # # # # # # # \n",
    "# Settings of general simulation parameters, unrelated to the system itself\n",
    "# `T` is a range with the number of discrete units of time the simulation will run for;\n",
    "# `N` is the number of times the simulation will be run (Monte Carlo runs)\n",
    "# In this example, we'll run the simulation once (N=1) and its duration will be of 10 timesteps\n",
    "# We'll cover the `M` key in a future article. For now, let's leave it empty\n",
    "simulation_parameters = {\n",
    "    'T': range(time_steps),\n",
    "    'N': 1,\n",
    "    'M': {}\n",
    "}\n",
    "\n",
    "ts_format = '%Y-%m-%d %H:%M:%S'\n",
    "t_delta = timedelta(days=30, minutes=0, seconds=0)\n",
    "def time_model(_g, step, sL, s, _input):\n",
    "    y = 'time'\n",
    "    x = ep_time_step(s, dt_str=s['time'], fromat_str=ts_format, _timedelta=t_delta)\n",
    "    return (y, x)\n",
    "\n",
    "exogenous_states = {\n",
    "    'time': time_model\n",
    "}\n",
    "env_processes = {}\n",
    "\n",
    "initial_state = {\n",
    "    **NetworkState.initial_conditions(),\n",
    "#     **StateExogenous.initial_conditions(),\n",
    "#     **StateAgregated.initial_conditions()\n",
    "}\n",
    "\n",
    "# selector_policies = SelectorPolicies()\n",
    "metric_policies = MetricPolicies()\n",
    "policies = Policies()\n",
    "\n",
    "partial_state_update_blocks = [\n",
    "    # Exogenous inputs\n",
    "    {\n",
    "        'policies': {},\n",
    "        'variables': {\n",
    "            NetworkState.network: ActionsExogenous.new_investors.method,\n",
    "        }\n",
    "    },\n",
    "    {\n",
    "        'policies': {},\n",
    "        'variables': {\n",
    "            NetworkState.network: TradingActions.perform_trades.method,\n",
    "        }\n",
    "    }\n",
    "    # Select members to perform scenarios\n",
    "#     {\n",
    "#         'policies': selector_policies.list(),\n",
    "#         'variables': {\n",
    "#             State.community_state: UpdateActions.update_community_state.method,\n",
    "#         }\n",
    "#     },\n",
    "#     # Apply policies & scenarios\n",
    "#     {\n",
    "#         'policies': {},\n",
    "#         'variables': {\n",
    "#             State.community_state: ActionsBonding.mint.method,\n",
    "#         }\n",
    "#     },\n",
    "#     {\n",
    "#         'policies': {},\n",
    "#         'variables': {\n",
    "#             State.community_state: ActionsBonding.burn.method,\n",
    "#         }\n",
    "#     },\n",
    "#     {\n",
    "#         'policies': policies.list(),\n",
    "#         'variables': {\n",
    "#              State.community_state: UpdateActions.update_balances.method\n",
    "#         }\n",
    "#     },\n",
    "#     {\n",
    "#         'policies': metric_policies.list(),\n",
    "#         'variables': {\n",
    "#             StateAgregated.pool_balance: MetricActions.pool_balance.method\n",
    "#         }\n",
    "#     }\n",
    "]"
   ]
  },
  {
   "cell_type": "markdown",
   "metadata": {},
   "source": [
    "## Model Simulation"
   ]
  },
  {
   "cell_type": "code",
   "execution_count": 138,
   "metadata": {
    "scrolled": true
   },
   "outputs": [
    {
     "name": "stdout",
     "output_type": "stream",
     "text": [
      "single_proc: [<cadCAD.configuration.Configuration object at 0x7f3a9100d438>]\n",
      "[<cadCAD.configuration.Configuration object at 0x7f3a9100d438>]\n"
     ]
    }
   ],
   "source": [
    "# # # # # # # # # # # # # # # # # # # # # # # # # # # # # # # # # # # # # # # # # # # # # # # # \n",
    "from cadCAD.configuration import Configuration\n",
    "import cadCadFunctions as c2F\n",
    "# # # # # # # # # # # # # # # # # # # # # # # # # # # # # # # # # # # # # # # # # # # # # # # # \n",
    "# The configurations above are then packaged into a `Configuration` object\n",
    "config = Configuration(initial_state=initial_state, #dict containing variable names and initial values\n",
    "                       partial_state_update_blocks=partial_state_update_blocks, #dict containing state update functions\n",
    "                       sim_config=simulation_parameters, #dict containing simulation parameters\n",
    "                       raw_exogenous_states=exogenous_states,\n",
    "                       env_processes=env_processes,\n",
    "                      )\n",
    "\n",
    "from cadCAD.engine import ExecutionMode, ExecutionContext, Executor\n",
    "exec_mode = ExecutionMode()\n",
    "exec_context = ExecutionContext(exec_mode.single_proc)\n",
    "executor = Executor(exec_context, [config]) # Pass the configuration object inside an array\n",
    "raw_result, tensor = executor.execute() # The `main()` method returns a tuple; its first elements contains the raw results\n",
    "\n",
    "%matplotlib inline\n",
    "from matplotlib import cm\n",
    "import pandas as pd"
   ]
  },
  {
   "cell_type": "code",
   "execution_count": 155,
   "metadata": {},
   "outputs": [
    {
     "data": {
      "text/plain": [
       "<matplotlib.legend.Legend at 0x7f3ab01eeda0>"
      ]
     },
     "execution_count": 155,
     "metadata": {},
     "output_type": "execute_result"
    },
    {
     "data": {
      "image/png": "[encoded data removed]",
      "text/plain": [
       "<Figure size 432x288 with 1 Axes>"
      ]
     },
     "metadata": {
      "needs_background": "light"
     },
     "output_type": "display_data"
    }
   ],
   "source": [
    "df = pd.DataFrame(raw_result)\n",
    "\n",
    "df['vault_reserve'] = df[NetworkState.network].apply(lambda g: np.array([g.node[j]['data'].vault.reserve for j in get_node_ids_of_type(g, 'project')]))\n",
    "df['bonding_curve_reserve'] = df[NetworkState.network].apply(lambda g: np.array([g.node[j]['data'].bonding_curve.reserve for j in get_node_ids_of_type(g, 'project')]))\n",
    "\n",
    "# df['conviction'] = df.network.apply(lambda g: np.array([g.nodes[j]['conviction'] for j in get_nodes_by_type(g, 'proposal') if g.nodes[j]['status']=='candidate']))\n",
    "# df['candidate_count'] = df.network.apply(lambda g: len([j for j in get_nodes_by_type(g, 'proposal') if g.nodes[j]['status']=='candidate']))\n",
    "\n",
    "plt.plot(df.timestep, df['vault_reserve'])\n",
    "plt.plot(df.timestep, df['bonding_curve_reserve'])\n",
    "plt.title('Reserve')\n",
    "plt.ylabel('Value ($)')\n",
    "plt.xlabel('Time (days)')\n",
    "plt.legend(['Vault', 'Bonding Curve'], ncol = 2)"
   ]
  },
  {
   "cell_type": "markdown",
   "metadata": {},
   "source": [
    "# Continuous Taxation\n",
    "\n",
    "Tax rate set at a percentage per time period. For example 5% per month. See below re. block time.\n",
    "\n",
    "From the Compound interest rate model:\n",
    "\n",
    "See https://github.com/compound-finance/compound-money-market/blob/master/contracts/InterestRateModel.sol & https://github.com/compound-finance/compound-money-market\n",
    "\n",
    "```    /**\n",
    "      * @notice Gets the current supply interest rate based on the given asset, total cash and total borrows\n",
    "      * @dev The return value should be scaled by 1e18, thus a return value of\n",
    "      *      `(true, 1000000000000)` implies an interest rate of 0.000001 or 0.0001% *per block*.\n",
    "      * @param asset The asset to get the interest rate of\n",
    "      * @param cash The total cash of the asset in the market\n",
    "      * @param borrows The total borrows of the asset in the market\n",
    "      * @return Success or failure and the supply interest rate per block scaled by 10e18\n",
    "*/\n",
    "```\n",
    "\n",
    "They use an interest rate based on `uint constant blocksPerYear = 2102400;`\n",
    "\n",
    "Probably the best explanation of continuous tokens: https://yos.io/2018/11/10/bonding-curves/"
   ]
  },
  {
   "cell_type": "markdown",
   "metadata": {},
   "source": [
    "First proposal:\n",
    "\n",
    "1. Use a continuous token model, with a negative exponential function\n",
    "2. A negative exponential function should dampen the effect seen in Protea where early investors are unfairly rewarded\n",
    "3. When it comes time to dissolve the market, the connector weight can be set to 100% - essentially making all tokens the same price, and making the market entirely collateralized\n",
    "4. A tax can be calculated as a function of block time, collateral pool size, funding goal, and funding period - optimized to reach a funding goal in the given period, no matter what"
   ]
  },
  {
   "cell_type": "markdown",
   "metadata": {},
   "source": [
    "Assumptions:\n",
    "\n",
    "1. You want to tax early investors less than late investors - this coincides with having a progressive tax\n",
    "2. Using a continuous token model you could continuously decollateralize the market more easily\n",
    "\n",
    "Tax rate should vary between r_min and r_max. An ideal curve for this would be a generalized logistic function with A = -1, let's call it G()\n",
    "https://en.wikipedia.org/wiki/Generalised_logistic_function\n",
    "\n",
    "G() where r_min is at the origin and r_max at the assymptote.\n",
    "\n",
    "When the connector weight is 100%, all investors are taxed equally...? When the connector weight is any less than 100%, early investors are effectively taxed less.\n",
    "When there is less activity, ideally the tax rate should be lower, to incetivize new investors. If the tax rate is based on the collateral pool size, we need to be careful not to make the funding goal a never reachable assymptote. Given a certain market size, let's calculate the continuous tax rate such that the funding goal is reached in at least the given period."
   ]
  },
  {
   "cell_type": "markdown",
   "metadata": {},
   "source": [
    "# Investor Story\n",
    "\n",
    "At this stage, with a limited understanding of the investment behaviour of our target market, and even the size - we're better off simulting the user base as a monotonically increasing curve that approaches a reasonable assymptote. We can decide what the best and worst case scenarios are and simulate these - this will be what the asymptotic total investment value is, and how long it take to reach it.\n",
    "\n",
    "We can theorize that given 100 investors, with a fund of 100_000 each to invest, we could end up with a total investment pool of 10_000_000 within an ideal period of 6 months. Worst case we only reach 20% of our invesor market, or 20% of the theoretical total investment pool, and we end up with 2_000_000. We can adjust how we simulate this or what the best and worse case scenarios are, but basically we should create an investor story and work from that, rather than digging into investor behaviour too deeply."
   ]
  },
  {
   "cell_type": "code",
   "execution_count": 23,
   "metadata": {},
   "outputs": [
    {
     "data": {
      "image/png": "[encoded data removed]",
      "text/plain": [
       "<Figure size 432x288 with 1 Axes>"
      ]
     },
     "metadata": {
      "needs_background": "light"
     },
     "output_type": "display_data"
    }
   ],
   "source": [
    "max_user_base = 100\n",
    "\n",
    "sigmoid_inflection = 80\n",
    "sigmoid_slope = 1/20\n",
    "\n",
    "x = np.linspace(0, 180, 500)\n",
    "y = np.divide(max_user_base, (1 + np.power(np.e, -np.multiply(np.subtract(x, sigmoid_inflection), sigmoid_slope))))\n",
    "y = np.floor(y)\n",
    "y[y < 0] = 0\n",
    "\n",
    "plt.plot(x, y)\n",
    "plt.show()\n",
    "\n",
    "# y = StateExogenous.tx_volume\n",
    "# x = s[StateExogenous.tx_volume]*(1+2*eta*np.random.rand()*(1-s[StateExogenous.tx_volume]/tampw))\n",
    "# return (y, x)\n",
    "\n",
    "# x = np.linspace(0,token_supply,1000)\n",
    "# y = np.tanh(x/(token_supply*.5))\n",
    "# plt.plot(x, y)\n",
    "# plt.show()"
   ]
  },
  {
   "cell_type": "code",
   "execution_count": null,
   "metadata": {},
   "outputs": [],
   "source": []
  }
 ],
 "metadata": {
  "kernelspec": {
   "display_name": "Python3 - python",
   "language": "python",
   "name": "ipython_python"
  },
  "language_info": {
   "codemirror_mode": {
    "name": "ipython",
    "version": 3
   },
   "file_extension": ".py",
   "mimetype": "text/x-python",
   "name": "python",
   "nbconvert_exporter": "python",
   "pygments_lexer": "ipython3",
   "version": "3.7.2"
  }
 },
 "nbformat": 4,
 "nbformat_minor": 2
}
