{
 "cells": [
  {
   "cell_type": "code",
   "execution_count": null,
   "metadata": {},
   "outputs": [],
   "source": [
    "params = {\n",
    "    'tax_rate': [.05], # percentage\n",
    "    'funding_period': [6], # months\n",
    "    'funding_goal': [1_000_000], # dollars\n",
    "    'max_holdings': [100_000],\n",
    "}\n",
    "\n",
    "# TODO: configure network\n",
    "\n",
    "initial_conditions = {\n",
    "    'investors': [100], # total for funding round\n",
    "    'trading_balance': [10_000], # dollars\n",
    "}\n",
    "\n",
    "participant = {\n",
    "    'type': 'investor',\n",
    "    'trading_balance': 10_000, # dollars\n",
    "    'holdings': 0, # dollar value of tokens\n",
    "    'sentiment': 1, # 1 being hold indefinitely, 0 being sell immediately... tbd\n",
    "}"
   ]
  }
 ],
 "metadata": {
  "kernelspec": {
   "display_name": "Python3 - python",
   "language": "python",
   "name": "ipython_python"
  },
  "language_info": {
   "codemirror_mode": {
    "name": "ipython",
    "version": 3
   },
   "file_extension": ".py",
   "mimetype": "text/x-python",
   "name": "python",
   "nbconvert_exporter": "python",
   "pygments_lexer": "ipython3",
   "version": "3.7.2"
  }
 },
 "nbformat": 4,
 "nbformat_minor": 2
}
