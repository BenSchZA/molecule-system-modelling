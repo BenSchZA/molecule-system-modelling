{
 "cells": [
  {
   "cell_type": "markdown",
   "metadata": {},
   "source": [
    "# Molecule Alpha Simulations"
   ]
  },
  {
   "cell_type": "markdown",
   "metadata": {},
   "source": [
    "Repository: https://gitlab.com/linumlabs/molecule-system-modelling"
   ]
  },
  {
   "cell_type": "markdown",
   "metadata": {},
   "source": [
    "**What do we want to investigate given certain assumptions?**\n",
    "\n",
    "1. Assuming a buy & hold investment behaviour, what tax rate results in reasonable investor break-even period and reaching the funding goal.\n",
    "2. Given a certain tax rate, what user base and behaviour is needed to reach funding goal in given period.\n",
    "3. How can we design the bonding curve such that the funding goal is reached within the given time allocated?\n",
    "4. How can we design the tax such that investors are rewarded fairly, both early and late?\n",
    "5. How can we fairly dissolve a project and redistribute its collateral when completed?\n",
    "\n",
    "**In an ideal efficient market, we hope to:**\n",
    "\n",
    "1. Reach the funding goal in the given period\n",
    "2. Reward investors fairly\n",
    "3. Promote further investment\n",
    "\n",
    "**Funding outcomes can be any of the following, with certain consequences:**\n",
    "\n",
    "Market creators\n",
    "1. Funding reached within time period\n",
    "2. Funding reached before time period\n",
    "3. Funding not reached\n",
    "\n",
    "Investors\n",
    "1. Investors reach ROI\n",
    "2. Investors make a profit\n",
    "3. Investors make a loss\n",
    "\n",
    "**Given the funding goal and period, what parameters will help us reach that goal?**\n",
    "\n",
    "1. Tax rate\n",
    "2. Total investment\n",
    "3. Investor activity\n",
    "4. Bonding curve\n",
    "\n",
    "# Learnings\n",
    "\n",
    "## Number 1\n",
    "The variance or sensitivity to a parameter can often tell you a lot more than the raw result of an experiment.\n",
    "This is especially true in a black-box system or a system where there is large uncertainty surrounding the exogenous inputs or collective behaviour of actors in the system."
   ]
  },
  {
   "cell_type": "markdown",
   "metadata": {},
   "source": [
    "# Module imports"
   ]
  },
  {
   "cell_type": "code",
   "execution_count": 2,
   "metadata": {},
   "outputs": [
    {
     "name": "stdout",
     "output_type": "stream",
     "text": [
      "Pretty printing has been turned OFF\n"
     ]
    }
   ],
   "source": [
    "import sys\n",
    "sys.path.append(\"../venv/lib/python3.7/site-packages\")\n",
    "\n",
    "from cadCAD.configuration.utils import config_sim #env_trigger, var_substep_trigger, config_sim, psub_list\n",
    "from cadCAD.engine import ExecutionMode, ExecutionContext, Executor\n",
    "\n",
    "# import cadCadFunctions as c2F\n",
    "from tabulate import tabulate\n",
    "\n",
    "from matplotlib import cm\n",
    "\n",
    "import networkx as nx\n",
    "\n",
    "import matplotlib.pyplot as plt\n",
    "import seaborn as sns\n",
    "import pickle\n",
    "\n",
    "import math\n",
    "from scipy.optimize import fsolve\n",
    "import scipy.integrate as integrate\n",
    "from datetime import timedelta\n",
    "\n",
    "from decimal import Decimal\n",
    "import numpy as np\n",
    "import pandas as pd\n",
    "from pynverse import inversefunc\n",
    "\n",
    "import ipywidgets as widgets\n",
    "from IPython.display import display\n",
    "\n",
    "from abc import ABC, abstractmethod\n",
    "from functools import partial\n",
    "import random\n",
    "import uuid\n",
    "import json\n",
    "\n",
    "import plotly.plotly as py\n",
    "import plotly.graph_objs as go\n",
    "import plotly\n",
    "plotly.tools.set_credentials_file(username='BenjaminScholtz', api_key='8HheLHWEyoXDuLOiQ4ZO')\n",
    "\n",
    "from helpers import *\n",
    "\n",
    "%matplotlib inline\n",
    "%pprint on"
   ]
  },
  {
   "cell_type": "markdown",
   "metadata": {},
   "source": [
    "# Experiment Configuration"
   ]
  },
  {
   "cell_type": "code",
   "execution_count": 3,
   "metadata": {},
   "outputs": [],
   "source": [
    "# tax_rate_min = widgets.BoundedFloatText(\n",
    "#     value = .15,\n",
    "#     min = .05,\n",
    "#     max = .5,\n",
    "#     step = .01,\n",
    "#     description = \"Tax rate min: \"\n",
    "# )\n",
    "\n",
    "# tax_rate_max = widgets.BoundedFloatText(\n",
    "#     value = .15,\n",
    "#     min = .05,\n",
    "#     max = .5,\n",
    "#     step = .01,\n",
    "#     description = \"Tax rate max: \"\n",
    "# )\n",
    "\n",
    "# widgets.Box([tax_rate_min, tax_rate_max])"
   ]
  },
  {
   "cell_type": "code",
   "execution_count": 4,
   "metadata": {},
   "outputs": [
    {
     "data": {
      "text/plain": [
       "[{'N': 1, 'T': range(0, 180), 'M': {'sweep': 1, 'bonding_function': <function <lambda> at 0x7efec468b048>, 'investor_buy_behaviour': <function <lambda> at 0x7efec46e7ea0>, 'investor_sell_behaviour': <function <lambda> at 0x7efec46e79d8>, 'tax_rate': [0.15, 0.3], 'investment_size': 1000.0}}, {'N': 1, 'T': range(0, 180), 'M': {'sweep': 2, 'bonding_function': <function <lambda> at 0x7efec468b048>, 'investor_buy_behaviour': <function <lambda> at 0x7efec46e7f28>, 'investor_sell_behaviour': <function <lambda> at 0x7efec46e78c8>, 'tax_rate': [0.15, 0.3], 'investment_size': 1000.0}}]"
      ]
     },
     "execution_count": 4,
     "metadata": {},
     "output_type": "execute_result"
    }
   ],
   "source": [
    "# Global parameters\n",
    "#####################################################################\n",
    "projects = 1\n",
    "max_investors_per_project = 20\n",
    "\n",
    "default_gradient = 1/20_000.0\n",
    "default_shift = 0.5\n",
    "\n",
    "blocks_per_year = 2102400\n",
    "blocks_per_month = blocks_per_year/12\n",
    "blocks_per_day = blocks_per_year/365\n",
    "\n",
    "# Simulation duration\n",
    "months = 6\n",
    "time_steps = int(months*30) # approx. 30 days per month\n",
    "\n",
    "# Investor user base growth\n",
    "sigmoid_inflection = time_steps/2\n",
    "sigmoid_slope = 1/20\n",
    "\n",
    "# Bonding curves\n",
    "#####################################################################\n",
    "def linear(x):\n",
    "    m = 1/20_000.0\n",
    "    c = 0.5\n",
    "    return np.multiply(m, x) + c\n",
    "\n",
    "def negative_exponential(x):\n",
    "    C = 10\n",
    "    a = 0.001\n",
    "    return C * (1 - np.exp(-a*x)) + 1\n",
    "\n",
    "# Investor behaviour\n",
    "#####################################################################\n",
    "def hodl_buy(investment, investor_node, bonding_curve): # Buy and hold\n",
    "    check_funds = investor_node['trading_balance'] >= investment\n",
    "    check_initial_investment = investor_node['invested'] == 0 #TODO\n",
    "    return check_funds and check_initial_investment\n",
    "\n",
    "def roi_buy(investment, investor_node, bonding_curve): # Buy and wait for ROI\n",
    "    # Calculate estimated value of investor bonded tokens before trades performed\n",
    "    estimated_value = reward_for_burn(investor_node['bonded_tokens'], bonding_curve['bonded_tokens'], bonding_curve['reserve'])\n",
    "    \n",
    "    check_funds = investor_node['trading_balance'] >= investment\n",
    "    check_initial_investment = investor_node['invested'] == 0 #TODO\n",
    "    check_roi = estimated_value > 0 and investor_node['invested'] > 0 and (estimated_value - investor_node['invested']) / investor_node['invested'] > investor_node['desired_roi']/2\n",
    "    return (check_funds and check_initial_investment)# or (check_funds and check_roi)\n",
    "\n",
    "def roi_sell(investment, investor_node, bonding_curve): # Buy and wait for ROI\n",
    "    # Calculate estimated value of investor bonded tokens before trades performed\n",
    "    estimated_value = reward_for_burn(investor_node['bonded_tokens'], bonding_curve['bonded_tokens'], bonding_curve['reserve'])\n",
    "    \n",
    "    check_sentiment = investor_node['sentiment'] < 1\n",
    "    check_roi = investor_node['cost_of_investment'] > 0 and (estimated_value - investor_node['cost_of_investment']) / investor_node['cost_of_investment'] > investor_node['desired_roi']\n",
    "    return check_sentiment and check_roi\n",
    "\n",
    "# cadCAD Parameter Sets\n",
    "#####################################################################\n",
    "# Experiment 1:\n",
    "# e.g. linear curve, hodl, varying tax rate .15 to .35, 1000.0 dollar investment size\n",
    "\n",
    "params = {\n",
    "    'sweep': [1, 2],\n",
    "    'bonding_function': [\n",
    "        lambda x: linear(x),\n",
    "#         lambda x: negative_exponential(x)\n",
    "    ],\n",
    "    # \n",
    "    'investor_buy_behaviour': [\n",
    "        lambda investment, investor_node, bonding_curve: hodl_buy(investment, investor_node, bonding_curve),\n",
    "        lambda investment, investor_node, bonding_curve: roi_buy(investment, investor_node, bonding_curve),\n",
    "    ],\n",
    "    'investor_sell_behaviour': [\n",
    "        lambda investment, investor_node, bonding_curve: False,\n",
    "        lambda investment, investor_node, bonding_curve: roi_sell(investment, investor_node, bonding_curve),\n",
    "    ],\n",
    "    'tax_rate': [\n",
    "        [.15, .30], # increasing over _time_\n",
    "        [.15, .30]\n",
    "    ],\n",
    "    'investment_size': [\n",
    "        1000.0,\n",
    "    ]\n",
    "}\n",
    "\n",
    "# # # # # # # # # # # # # # # # # # # # # # # # # # # # # # # # # # # # # # # # # # # # # # # # \n",
    "# Settings of general simulation parameters, unrelated to the system itself\n",
    "# `T` is a range with the number of discrete units of time the simulation will run for;\n",
    "# `N` is the number of times the simulation will be run (Monte Carlo runs)\n",
    "# In this example, we'll run the simulation once (N=1) and its duration will be of 10 timesteps\n",
    "\n",
    "simulation_parameters = config_sim({\n",
    "    'T': range(time_steps),\n",
    "    'N': 1,\n",
    "    'M': params\n",
    "})\n",
    "simulation_parameters"
   ]
  },
  {
   "cell_type": "code",
   "execution_count": 5,
   "metadata": {},
   "outputs": [
    {
     "data": {
      "text/latex": [
       "$$ f(s) = ms + b $$\n",
       "$$ \\int_s f(s) = \\frac{1}{2}ms^2 + bs $$\n",
       "\n",
       "$$ \\int_p f^{-1}(p) = \\sqrt{\\frac{2*p}{m}} $$\n",
       "$$ \\int_p f^{-1}(p) = \\frac{-b + \\sqrt{b^2 + 2*m*p}}{m} $$\n"
      ],
      "text/plain": [
       "<IPython.core.display.Latex object>"
      ]
     },
     "metadata": {},
     "output_type": "display_data"
    }
   ],
   "source": [
    "%%latex\n",
    "$$ f(s) = ms + b $$\n",
    "$$ \\int_s f(s) = \\frac{1}{2}ms^2 + bs $$\n",
    "\n",
    "$$ \\int_p f^{-1}(p) = \\sqrt{\\frac{2*p}{m}} $$\n",
    "$$ \\int_p f^{-1}(p) = \\frac{-b + \\sqrt{b^2 + 2*m*p}}{m} $$"
   ]
  },
  {
   "cell_type": "raw",
   "metadata": {},
   "source": [
    "# Notes: \n",
    "# 1. ensured integral equations use round numbers\n",
    "# 2. ensured multiplication performed before division to avoid precision loss\n",
    "\n",
    "#(0.000025*x + 0.5)*x\n",
    "#-10000 + 200*sqrt(x + 2500)"
   ]
  },
  {
   "cell_type": "markdown",
   "metadata": {},
   "source": [
    "# Experiment Output"
   ]
  },
  {
   "cell_type": "code",
   "execution_count": 6,
   "metadata": {},
   "outputs": [
    {
     "data": {
      "text/markdown": [
       "## Experiment 1"
      ],
      "text/plain": [
       "<IPython.core.display.Markdown object>"
      ]
     },
     "metadata": {},
     "output_type": "display_data"
    },
    {
     "name": "stdout",
     "output_type": "stream",
     "text": [
      "{   'M': {   'bonding_function': <function <lambda> at 0x7efec468b048>,\n",
      "             'investment_size': 1000.0,\n",
      "             'investor_buy_behaviour': <function <lambda> at 0x7efec46e7ea0>,\n",
      "             'investor_sell_behaviour': <function <lambda> at 0x7efec46e79d8>,\n",
      "             'sweep': 1,\n",
      "             'tax_rate': [0.15, 0.3]},\n",
      "    'N': 1,\n",
      "    'T': range(0, 180)}\n",
      "[]\n"
     ]
    },
    {
     "data": {
      "text/markdown": [
       "## Experiment 2"
      ],
      "text/plain": [
       "<IPython.core.display.Markdown object>"
      ]
     },
     "metadata": {},
     "output_type": "display_data"
    },
    {
     "name": "stdout",
     "output_type": "stream",
     "text": [
      "{   'M': {   'bonding_function': <function <lambda> at 0x7efec468b048>,\n",
      "             'investment_size': 1000.0,\n",
      "             'investor_buy_behaviour': <function <lambda> at 0x7efec46e7f28>,\n",
      "             'investor_sell_behaviour': <function <lambda> at 0x7efec46e78c8>,\n",
      "             'sweep': 2,\n",
      "             'tax_rate': [0.15, 0.3]},\n",
      "    'N': 1,\n",
      "    'T': range(0, 180)}\n",
      "[]\n"
     ]
    }
   ],
   "source": [
    "from IPython.display import display, Markdown, Image\n",
    "\n",
    "import os\n",
    "import glob\n",
    "import pprint\n",
    "pp = pprint.PrettyPrinter(indent=4)\n",
    "\n",
    "for experiment in params['sweep']:\n",
    "    display(Markdown('## Experiment %s' % experiment))\n",
    "    directory = 'experiment_%s/' % experiment\n",
    "    \n",
    "    files = filter(os.path.isfile, glob.glob(directory + '*.png'))\n",
    "    files = sorted(files, key=os.path.getmtime)\n",
    "    pp.pprint(simulation_parameters[experiment - 1])\n",
    "    print(files)\n",
    "    for file in files:\n",
    "        #fig = pickle.load(open(path, 'rb'))\n",
    "        #fig.show()\n",
    "        display(Image(file))"
   ]
  },
  {
   "cell_type": "markdown",
   "metadata": {},
   "source": [
    "# User base (contributor) growth"
   ]
  },
  {
   "cell_type": "code",
   "execution_count": 7,
   "metadata": {},
   "outputs": [
    {
     "data": {
      "image/png": "[encoded data removed]",
      "text/plain": [
       "<Figure size 432x288 with 1 Axes>"
      ]
     },
     "metadata": {
      "needs_background": "light"
     },
     "output_type": "display_data"
    }
   ],
   "source": [
    "x = np.linspace(0, time_steps, 500)\n",
    "y = np.divide(max_investors_per_project, (1 + np.power(np.e, -np.multiply(np.subtract(x, sigmoid_inflection), sigmoid_slope))))\n",
    "y = np.floor(y)\n",
    "y[y < 0] = 0\n",
    "\n",
    "plt.plot(x, y)\n",
    "plt.show()"
   ]
  },
  {
   "cell_type": "markdown",
   "metadata": {},
   "source": [
    "# Business Logic"
   ]
  },
  {
   "cell_type": "code",
   "execution_count": 8,
   "metadata": {},
   "outputs": [],
   "source": [
    "# monotonically increasing polynomial function\n",
    "def bonding_function(x, m=default_gradient, c=default_shift):\n",
    "    return params['bonding_function'][0](x)\n",
    "\n",
    "# note: this tax function is just for the basic plots, and is not used in simulation yet\n",
    "def tax_function(x, m=default_gradient, c=default_shift):\n",
    "    return np.multiply(m, x) + c*(1 - params['tax_rate'][0][0])\n",
    "#     C = 10\n",
    "#     a = 0.001\n",
    "#     return C * (1 - np.exp(-a*x))\n",
    "\n",
    "# this is essentially numerical integration\n",
    "#     return [np.sum(bonding_function(x[:index])) for index,_ in enumerate(x)]\n",
    "\n",
    "def integral_function(x):\n",
    "    return integrate.quad(lambda i: bonding_function(i), 0, x)[0]\n",
    "\n",
    "# invariant function\n",
    "def collateral_pool(x):\n",
    "    return [integral_function(x[index]) for index,_ in enumerate(x)]\n",
    "    \n",
    "def inverse_integral_function(x):\n",
    "    func = inversefunc(integral_function)\n",
    "    return func(x)\n",
    "\n",
    "def final_collateral(x):\n",
    "    return integrate.quad(lambda i: bonding_function(i), x[0], x[-1])\n",
    "\n",
    "def vault_pool(x):\n",
    "    return np.subtract(collateral_pool(x), [integrate.quad(lambda i: tax_function(i), x[0], x[index])[0] for index,_ in enumerate(x)])\n",
    "\n",
    "def investor_pool(x):\n",
    "    return np.subtract(collateral_pool(x), vault_pool(x))\n",
    "\n",
    "# Contract functions\n",
    "#####################################################################\n",
    "def price_to_mint(x_T, total_supply, pool_balance, gradient):\n",
    "    return max(integral_function(total_supply + x_T) - pool_balance, 0)\n",
    "\n",
    "def reward_for_burn(x_T, total_supply, pool_balance):\n",
    "    return max(pool_balance - integral_function(total_supply - x_T), 0)\n",
    "\n",
    "def collateral_to_token_buying(x_D, total_supply):\n",
    "    return inverse_integral_function(integral_function(total_supply) + x_D) - total_supply\n",
    "\n",
    "def collateral_to_token_selling(x_D, total_supply):\n",
    "    try:\n",
    "        return total_supply - inverse_integral_function(integral_function(total_supply) - x_D)\n",
    "    except ValueError:\n",
    "        return 0"
   ]
  },
  {
   "cell_type": "code",
   "execution_count": 9,
   "metadata": {},
   "outputs": [],
   "source": [
    "# Sell token holdings\n",
    "def sell_holdings(investor_node, bonding_curve, value):\n",
    "    tokens =  min(collateral_to_token_selling(value, bonding_curve['bonded_tokens']), investor_node['bonded_tokens'])\n",
    "    value = reward_for_burn(tokens, bonding_curve['bonded_tokens'], bonding_curve['reserve'])\n",
    "    \n",
    "    assert(tokens >= 0)\n",
    "    assert(value >= 0)\n",
    "    \n",
    "    if bonding_curve['bonded_tokens'] >= tokens and bonding_curve['reserve'] >= value:\n",
    "        bonding_curve['bonded_tokens'] -= tokens\n",
    "        bonding_curve['reserve'] -= value\n",
    "    else: return False\n",
    "        \n",
    "    investor_node['trading_balance'] += value\n",
    "    investor_node['invested'] -= value\n",
    "    investor_node['bonded_tokens'] -= tokens\n",
    "    \n",
    "    assert(investor_node['trading_balance'] >= 0)\n",
    "    #assert(investor_node['invested'] >= 0)\n",
    "    assert(investor_node['bonded_tokens'] >= 0)\n",
    "    \n",
    "    return True"
   ]
  },
  {
   "cell_type": "markdown",
   "metadata": {},
   "source": [
    "# Basic Token Economics"
   ]
  },
  {
   "cell_type": "code",
   "execution_count": 10,
   "metadata": {},
   "outputs": [],
   "source": [
    "x = np.linspace(0,10_000,10_00)\n",
    "\n",
    "y = bonding_function(x)\n",
    "t = tax_function(x)\n",
    "c = collateral_pool(x)\n",
    "v = vault_pool(x)\n",
    "i = investor_pool(x)"
   ]
  },
  {
   "cell_type": "code",
   "execution_count": 10,
   "metadata": {},
   "outputs": [
    {
     "data": {
      "image/png": "[encoded data removed]",
      "text/plain": [
       "<Figure size 432x288 with 1 Axes>"
      ]
     },
     "metadata": {
      "needs_background": "light"
     },
     "output_type": "display_data"
    }
   ],
   "source": [
    "plt.plot(x, y, label='Bonding Function')\n",
    "plt.plot(x, t, label='Tax Function')\n",
    "plt.plot(x, c, label='Collateral Pool')\n",
    "plt.plot(x, v, label='Vault Pool')\n",
    "plt.plot(x, i, label='Investor Pool')\n",
    "plt.legend(loc='upper left')\n",
    "plt.show()"
   ]
  },
  {
   "cell_type": "code",
   "execution_count": 11,
   "metadata": {},
   "outputs": [
    {
     "data": {
      "image/png": "[encoded data removed]",
      "text/plain": [
       "<Figure size 432x288 with 1 Axes>"
      ]
     },
     "metadata": {
      "needs_background": "light"
     },
     "output_type": "display_data"
    }
   ],
   "source": [
    "# Bonding function and tax (sell) function\n",
    "plt.plot(x, y, x, t)\n",
    "plt.show()"
   ]
  },
  {
   "cell_type": "code",
   "execution_count": 12,
   "metadata": {},
   "outputs": [
    {
     "data": {
      "text/plain": [
       "[<matplotlib.lines.Line2D object at 0x7f862858e400>]"
      ]
     },
     "execution_count": 12,
     "metadata": {},
     "output_type": "execute_result"
    },
    {
     "data": {
      "image/png": "[encoded data removed]",
      "text/plain": [
       "<Figure size 432x288 with 2 Axes>"
      ]
     },
     "metadata": {
      "needs_background": "light"
     },
     "output_type": "display_data"
    }
   ],
   "source": [
    "# Vault and investor pool\n",
    "fig, axs = plt.subplots(1,2)\n",
    "\n",
    "axs[0].plot(x, v)\n",
    "axs[1].plot(x, i)"
   ]
  },
  {
   "cell_type": "markdown",
   "metadata": {},
   "source": [
    "# Network Graph Configuration"
   ]
  },
  {
   "cell_type": "code",
   "execution_count": 13,
   "metadata": {},
   "outputs": [
    {
     "data": {
      "image/png": "[encoded data removed]",
      "text/plain": [
       "<Figure size 432x288 with 1 Axes>"
      ]
     },
     "metadata": {},
     "output_type": "display_data"
    }
   ],
   "source": [
    "def generate_network(_params=params):\n",
    "    network = nx.Graph()\n",
    "    color_map = []\n",
    "\n",
    "    for index in range(projects):\n",
    "        color_map.append('green')\n",
    "\n",
    "        network.add_node(index, _type='project')\n",
    "        network.nodes[index]['vault'] = {\n",
    "            'reserve': 0\n",
    "        }\n",
    "        network.nodes[index]['bonding_curve'] = {\n",
    "            'bonded_tokens': 0,\n",
    "            'reserve': 0\n",
    "        }\n",
    "        network.nodes[index]['funding_goal'] = 1_000_000\n",
    "        network.nodes[index]['funding_period'] = 6\n",
    "        #network.nodes[index]['tax_rate'] = params['tax_rate'][0]\n",
    "\n",
    "    for index in range(max_investors_per_project):\n",
    "        color_map.append('red')\n",
    "        index = index + projects\n",
    "\n",
    "        network.add_node(index, _type='investor')\n",
    "        network.nodes[index]['logs'] = {\n",
    "            'entry': 0,\n",
    "            'disinvested': False,\n",
    "            'check_roi': False,\n",
    "        }\n",
    "        network.nodes[index]['trading_balance'] = 10_000\n",
    "        network.nodes[index]['invested'] = 0\n",
    "        network.nodes[index]['cost_of_investment'] = 0\n",
    "        network.nodes[index]['bonded_tokens'] = 0\n",
    "        network.nodes[index]['estimated_value'] = 0\n",
    "        network.nodes[index]['sentiment'] = 0\n",
    "        network.nodes[index]['desired_roi'] = .1 # If sentiment < 1, when estimated_value is greater than invested by more than desired ROI, then sell\n",
    "        network.nodes[index]['taxed'] = 0\n",
    "    \n",
    "    return (network, color_map)\n",
    "\n",
    "network, color_map = generate_network()\n",
    "nx.draw_kamada_kawai(network, node_color=color_map, font_weight='bold', with_labels=True) # with_labels=True\n",
    "\n",
    "# def get_networkx_pickle_file(params, state):\n",
    "#     return 'pickle/network_%s_%s.pickle' % (params['sweep'], state['timestep'])\n",
    "\n",
    "# pickle_file = 'pickle/network.pickle'\n",
    "# nx.write_gpickle(network, pickle_file)\n",
    "\n",
    "class NetworkState(StateType):\n",
    "    network = auto()\n",
    "    \n",
    "    @classmethod\n",
    "    def initial_conditions(cls):\n",
    "        return {\n",
    "            cls.network: network,\n",
    "        }"
   ]
  },
  {
   "cell_type": "markdown",
   "metadata": {},
   "source": [
    "# cadCAD Model Initialization"
   ]
  },
  {
   "cell_type": "code",
   "execution_count": 14,
   "metadata": {
    "scrolled": true
   },
   "outputs": [],
   "source": [
    "# ts_format = '%Y-%m-%d %H:%M:%S'\n",
    "# t_delta = timedelta(days=30, minutes=0, seconds=0)\n",
    "# def time_model(_g, step, sL, s, _input):\n",
    "#     y = 'time'\n",
    "#     x = ep_time_step(s, dt_str=s['time'], fromat_str=ts_format, _timedelta=t_delta)\n",
    "#     return (y, x)\n",
    "\n",
    "# exogenous_states = {\n",
    "# #     'time': time_model\n",
    "# }\n",
    "# env_processes = {}\n",
    "\n",
    "initial_state = {\n",
    "    'network': network\n",
    "#     **NetworkState.initial_conditions(),\n",
    "#     **StateExogenous.initial_conditions(),\n",
    "#     **StateAgregated.initial_conditions()\n",
    "}\n",
    "\n",
    "def _new_investors(_params, step, sL, s, _input):        \n",
    "        network: nx.Graph = s['network']\n",
    "\n",
    "        projects = get_node_ids_of_type(network, 'project')\n",
    "        project = projects[0]\n",
    "        investors = get_node_ids_of_type(network, 'investor')\n",
    "\n",
    "        currently_invested = list(network.neighbors(project))\n",
    "        \n",
    "        number_of_investors = max_investors_per_project/(1 + math.pow(math.e, -(s['timestep'] - sigmoid_inflection)*sigmoid_slope))\n",
    "        number_of_investors = max(math.floor(number_of_investors), 0)\n",
    "\n",
    "        new_investors = investors[len(currently_invested) : number_of_investors]\n",
    "\n",
    "        for index in new_investors:\n",
    "            network.add_edge(project, index)\n",
    "        \n",
    "        return ('network', network)\n",
    "\n",
    "def calculate_tax_rate(_params, s):\n",
    "    tax_rate_min = _params['tax_rate'][0]\n",
    "    tax_rate_max = _params['tax_rate'][1]\n",
    "    tax_rate = tax_rate_min + (s['timestep']/time_steps)*(tax_rate_max - tax_rate_min)\n",
    "    return tax_rate\n",
    "    \n",
    "def _perform_trades(_params, step, sL, s, _input):\n",
    "        network: nx.Graph = s['network']\n",
    "        \n",
    "        # Extract nodes from network graph\n",
    "        projects = get_node_ids_of_type(network, 'project')\n",
    "        project = projects[0]\n",
    "        investors = get_node_ids_of_type(network, 'investor')\n",
    "        currently_invested = list(network.neighbors(project))\n",
    "        \n",
    "        for index in currently_invested:\n",
    "            project = projects[0]\n",
    "            \n",
    "            project_node = network.node[project]\n",
    "            investor_node = network.node[index]\n",
    "            \n",
    "            vault = project_node['vault']\n",
    "            bonding_curve = project_node['bonding_curve']\n",
    "            \n",
    "            # Calculate buy tax\n",
    "            collateral_to_invest = _params['investment_size']\n",
    "            collateral_tax = collateral_to_invest * calculate_tax_rate(_params, s)\n",
    "            collateral_less_tax = collateral_to_invest - collateral_tax\n",
    "                  \n",
    "            if _params['investor_buy_behaviour'](collateral_to_invest, investor_node, bonding_curve):\n",
    "                investor_node['logs']['disinvested'] = False\n",
    "                # Calculate token trade value\n",
    "                tokens_buy = collateral_to_token_buying(collateral_less_tax, bonding_curve['bonded_tokens'])\n",
    "                \n",
    "                # Update system balances\n",
    "                vault['reserve'] += collateral_tax\n",
    "                bonding_curve['bonded_tokens'] += tokens_buy\n",
    "                bonding_curve['reserve'] += collateral_less_tax\n",
    "                \n",
    "                # Update investor balances\n",
    "                investor_node['taxed'] += collateral_tax\n",
    "                investor_node['trading_balance'] -= collateral_to_invest\n",
    "                investor_node['invested'] += collateral_less_tax\n",
    "                investor_node['cost_of_investment'] += collateral_to_invest\n",
    "                investor_node['bonded_tokens'] += tokens_buy\n",
    "            \n",
    "            # Check investor status\n",
    "            estimated_value = reward_for_burn(investor_node['bonded_tokens'], bonding_curve['bonded_tokens'], bonding_curve['reserve'])\n",
    "            \n",
    "            # When estimated_value is greater than invested by more than desired ROI, then sell\n",
    "            if _params['investor_sell_behaviour'](collateral_to_invest, investor_node, bonding_curve):\n",
    "                # Sell 100% of holdings\n",
    "                if sell_holdings(investor_node, bonding_curve, estimated_value):\n",
    "                    investor_node['logs']['disinvested'] = True\n",
    "            \n",
    "        return ('network', network)\n",
    "    \n",
    "def _update_balances(_params, step, sL, s, _input):\n",
    "        network: nx.Graph = s['network']\n",
    "\n",
    "        projects = get_node_ids_of_type(network, 'project')\n",
    "        project = projects[0]\n",
    "        investors = get_node_ids_of_type(network, 'investor')\n",
    "        \n",
    "        currently_invested = list(network.neighbors(project))\n",
    "        \n",
    "        for index in currently_invested:\n",
    "            project = projects[0]\n",
    "            \n",
    "            project_node = network.node[project]\n",
    "            investor_node = network.node[index]\n",
    "            \n",
    "            vault = project_node['vault']\n",
    "            bonding_curve = project_node['bonding_curve']\n",
    "            \n",
    "            # Calculate estimated value of investor bonded tokens after trades performed\n",
    "            investor_node['estimated_value'] = reward_for_burn(investor_node['bonded_tokens'], bonding_curve['bonded_tokens'], bonding_curve['reserve'])\n",
    "        \n",
    "        return ('network', network)\n",
    "    \n",
    "def genesis(_params, step, sL, s):\n",
    "    if s['timestep'] == 0 or s['timestep'] == 1:\n",
    "        return {'genesis': True}\n",
    "    else:\n",
    "        return {'genesis': False}\n",
    "\n",
    "def _create_network(_params, step, sL, s, _input):\n",
    "    if _input['genesis']:\n",
    "        network = generate_network(_params)\n",
    "        pickle_file = get_networkx_pickle_file(_params, s)\n",
    "        nx.write_gpickle(network, pickle_file)\n",
    "        return ('network', pickle_file)\n",
    "    else:\n",
    "#         network = s['network']\n",
    "        return ('', '')\n",
    "\n",
    "partial_state_update_blocks = [\n",
    "#     {\n",
    "#         'policies': {\n",
    "#             'action': genesis,\n",
    "#         },\n",
    "#         'variables': {\n",
    "#             'network': _create_network,\n",
    "#         }\n",
    "#     },\n",
    "    # Exogenous inputs\n",
    "    {\n",
    "        'policies': {},\n",
    "        'variables': {\n",
    "            'network': _new_investors,\n",
    "        }\n",
    "    },\n",
    "    {\n",
    "        'policies': {},\n",
    "        'variables': {\n",
    "            'network': _perform_trades,\n",
    "        }\n",
    "    },\n",
    "    {\n",
    "        'policies': {},\n",
    "        'variables': {\n",
    "            'network': _update_balances,\n",
    "        }\n",
    "    }\n",
    "]"
   ]
  },
  {
   "cell_type": "markdown",
   "metadata": {},
   "source": [
    "# Model Simulation"
   ]
  },
  {
   "cell_type": "code",
   "execution_count": 15,
   "metadata": {},
   "outputs": [],
   "source": [
    "from cadCAD.configuration import append_configs\n",
    "\n",
    "append_configs(\n",
    "    initial_state=initial_state, #dict containing variable names and initial values\n",
    "    partial_state_update_blocks=partial_state_update_blocks, #dict containing state update functions\n",
    "    sim_configs=simulation_parameters, #dict containing simulation parameters\n",
    "#     raw_exogenous_states=exogenous_states,\n",
    "#     env_processes=env_processes\n",
    ")"
   ]
  },
  {
   "cell_type": "code",
   "execution_count": 16,
   "metadata": {},
   "outputs": [
    {
     "name": "stdout",
     "output_type": "stream",
     "text": [
      "multi_proc: [<cadCAD.configuration.Configuration object at 0x7f86284e30f0>, <cadCAD.configuration.Configuration object at 0x7f86284e36d8>]\n",
      "[<cadCAD.configuration.Configuration object at 0x7f86284e30f0>, <cadCAD.configuration.Configuration object at 0x7f86284e36d8>]\n"
     ]
    }
   ],
   "source": [
    "# sys.setrecursionlimit(5000)\n",
    "from cadCAD import configs\n",
    "\n",
    "exec_mode = ExecutionMode()\n",
    "exec_context = ExecutionContext(context=exec_mode.multi_proc)\n",
    "run = Executor(exec_context=exec_context, configs=configs)\n",
    "# raw_result, tensor = run.execute() # The `main()` method returns a tuple; its first elements contains the raw results\n",
    "\n",
    "i = 0\n",
    "verbose = False\n",
    "results = {}\n",
    "for raw_result, tensor_field in run.execute():\n",
    "    result = pd.DataFrame(raw_result)\n",
    "    if verbose:\n",
    "        print()\n",
    "        print(f\"Tensor Field: {type(tensor_field)}\")\n",
    "        print(tabulate(tensor_field, headers='keys', tablefmt='psql'))\n",
    "        print(f\"Output: {type(result)}\")\n",
    "        print(tabulate(result, headers='keys', tablefmt='psql'))\n",
    "        print()\n",
    "    results[i] = {}\n",
    "    results[i]['result'] = result\n",
    "    results[i]['simulation_parameters'] = simulation_parameters[i]\n",
    "    i += 1"
   ]
  },
  {
   "cell_type": "markdown",
   "metadata": {},
   "source": [
    "# Model Data Analysis"
   ]
  },
  {
   "cell_type": "code",
   "execution_count": 17,
   "metadata": {},
   "outputs": [],
   "source": [
    "# Choose which experiment parameter configuration to use, integer starting from zero\n",
    "import os\n",
    "\n",
    "def select_experiment(i):\n",
    "    df = pd.DataFrame(results[i - 1]['result'])\n",
    "    directory = './experiment_%s/' % i\n",
    "    if not os.path.exists(directory):\n",
    "        os.makedirs(directory)\n",
    "    return df[df.substep==3].copy()\n",
    "\n",
    "def save_experiment(fig, experiment, name):\n",
    "    pickle.dump(fig, open('experiment_%s/%s.pickle' % (experiment, name), 'wb'))\n",
    "    fig.savefig('experiment_%s/%s.png' % (experiment, name))"
   ]
  },
  {
   "cell_type": "markdown",
   "metadata": {},
   "source": [
    "## Plot of bonding curve collateral vs. vault collateral"
   ]
  },
  {
   "cell_type": "code",
   "execution_count": 20,
   "metadata": {},
   "outputs": [],
   "source": [
    "for experiment in params['sweep']:\n",
    "    rdf = select_experiment(experiment)\n",
    "    rdf['vault_reserve'] = rdf['network'].apply(lambda g: np.array([g.node[j]['vault']['reserve'] for j in get_node_ids_of_type(g, 'project')]))\n",
    "    rdf['bonding_curve_reserve'] = rdf['network'].apply(lambda g: np.array([g.node[j]['bonding_curve']['reserve'] for j in get_node_ids_of_type(g, 'project')]))\n",
    "\n",
    "    fig = plt.figure(1,figsize=(20,10)) \n",
    "    plt.plot(rdf.timestep, rdf['vault_reserve'])\n",
    "    plt.plot(rdf.timestep, rdf['bonding_curve_reserve'])\n",
    "    plt.title('Reserve')\n",
    "    plt.ylabel('Value ($)')\n",
    "    plt.xlabel('Time (days)')\n",
    "    plt.legend(['Vault', 'Bonding Curve'], ncol = 2)\n",
    "\n",
    "    save_experiment(fig, experiment, 'bonding_vs_vault_collateral')\n",
    "    plt.close()"
   ]
  },
  {
   "cell_type": "markdown",
   "metadata": {},
   "source": [
    "## Plot of investor net asset valuation over time"
   ]
  },
  {
   "cell_type": "code",
   "execution_count": 21,
   "metadata": {},
   "outputs": [],
   "source": [
    "def investor_nav(g):\n",
    "    projects = get_node_ids_of_type(g, 'project')\n",
    "    project = projects[0]\n",
    "    \n",
    "    project_node = g.node[project]\n",
    "    vault = project_node['vault']\n",
    "    bonding_curve = project_node['bonding_curve']\n",
    "\n",
    "    result = []\n",
    "    for j in get_node_ids_of_type(g, 'investor'):\n",
    "#         (estimated_value - investor_node['invested']) / investor_node['invested'] > investor_node['desired_roi']\n",
    "        nav = g.node[j]['estimated_value'] + g.node[j]['trading_balance'] # g.node[j]['estimated_value'] + g.node[j]['trading_balance'] # g.node[j]['logs']['disinvested'] # \n",
    "#         print(g.node[j]['logs']['entry'])\n",
    "        result.append(nav)       \n",
    "    return result\n",
    "\n",
    "# node_sizes = np.append([0], np.divide(rdf['investor_balance'][time_steps], 10))\n",
    "# plt.figure(1,figsize=(12,12)) \n",
    "# nx.draw_circular(df[NetworkState.network][time_steps*3], node_color=color_map, node_size=node_sizes, font_weight='bold', with_labels=True) # with_labels=True\n",
    "\n",
    "# print(type(df[NetworkState.network]))\n",
    "# df = pd.DataFrame(raw_result)\n",
    "# print(df[NetworkState.network].apply(lambda g: g.nodes))"
   ]
  },
  {
   "cell_type": "code",
   "execution_count": 22,
   "metadata": {},
   "outputs": [],
   "source": [
    "for experiment in params['sweep']:\n",
    "    rdf = select_experiment(experiment)\n",
    "    rdf['investor_nav'] = rdf['network'].apply(lambda g: investor_nav(g))\n",
    "\n",
    "    fig = plt.figure(1,figsize=(20,10))\n",
    "    data = make2D('investor_nav', rdf)\n",
    "    plt.plot(rdf.timestep, data)\n",
    "    plt.axhline(y=10_000, color='r', linestyle='-')\n",
    "    plt.title('Net asset valuation by investor')\n",
    "    plt.xlabel('time ($t$)')\n",
    "    plt.ylabel('valuation ($)')\n",
    "\n",
    "    save_experiment(fig, experiment, 'net_asset_valuation')\n",
    "    plt.close()"
   ]
  },
  {
   "cell_type": "markdown",
   "metadata": {},
   "source": [
    "# Collateral Redistribution"
   ]
  },
  {
   "cell_type": "markdown",
   "metadata": {},
   "source": [
    "## Observations\n",
    "\n",
    "`spot_price = bonding_curve['reserve']/bonding_curve['bonded_tokens']`\n",
    "\n",
    "1. If you redistribute with a flat spot price, no one makes a profit"
   ]
  },
  {
   "cell_type": "code",
   "execution_count": 23,
   "metadata": {},
   "outputs": [],
   "source": [
    "network = rdf['network'][time_steps*3]\n",
    "projects = get_node_ids_of_type(network, 'project')\n",
    "project = projects[0]\n",
    "project_node = network.node[project]\n",
    "vault = project_node['vault']\n",
    "bonding_curve = project_node['bonding_curve']\n",
    "\n",
    "def redistribution(network):\n",
    "    projects = get_node_ids_of_type(network, 'project')\n",
    "    project = projects[0]\n",
    "    project_node = network.node[project]\n",
    "    vault = project_node['vault']\n",
    "    bonding_curve = project_node['bonding_curve']\n",
    "    \n",
    "    if bonding_curve['bonded_tokens'] > 0:\n",
    "        spot_price = bonding_curve['reserve']/bonding_curve['bonded_tokens']\n",
    "    else: spot_price = 0\n",
    "        \n",
    "        # (network.node[j]['bonded_tokens']/bonding_curve['bonded_tokens'])*vault['reserve']\n",
    "    \n",
    "    result = []\n",
    "    for j in get_node_ids_of_type(network, 'investor'):\n",
    "        vault_share = network.node[j]['taxed']\n",
    "        vault['reserve'] -= vault_share\n",
    "        if vault['reserve'] < 0:\n",
    "            print(\"Oh dear...\")\n",
    "#         vault_share = 0\n",
    "        balance = (network.node[j]['bonded_tokens']*spot_price + network.node[j]['trading_balance']) - 10_000 # vault_share\n",
    "        result.append(balance)      \n",
    "    return result"
   ]
  },
  {
   "cell_type": "code",
   "execution_count": 24,
   "metadata": {},
   "outputs": [
    {
     "name": "stdout",
     "output_type": "stream",
     "text": [
      "Oh dear...\n",
      "Oh dear...\n",
      "{'bonded_tokens': 15562.976637048083, 'reserve': 14701.666666666668}\n",
      "Spot price: 0.9446564760412836\n",
      "Percent ROI: 15.0\n",
      "Oh dear...\n",
      "Oh dear...\n",
      "{'bonded_tokens': 10131.879112903489, 'reserve': 7998.938823837171}\n",
      "Spot price: 0.789482260368671\n",
      "Percent ROI: 30.0\n"
     ]
    }
   ],
   "source": [
    "for experiment in params['sweep']:\n",
    "    rdf = select_experiment(experiment)\n",
    "    \n",
    "    network = rdf['network'][time_steps*3]\n",
    "    projects = get_node_ids_of_type(network, 'project')\n",
    "    project = projects[0]\n",
    "    project_node = network.node[project]\n",
    "    vault = project_node['vault']\n",
    "    bonding_curve = project_node['bonding_curve']\n",
    "    \n",
    "    result = redistribution(network)\n",
    "    \n",
    "    print(bonding_curve)\n",
    "    spot_price = bonding_curve['reserve']/bonding_curve['bonded_tokens']\n",
    "    print('Spot price: %s' % spot_price)\n",
    "    percent_roi = sum(i > 0 for i in result)/len(result)*100\n",
    "    print('Percent ROI: %s' % percent_roi)\n",
    "    \n",
    "    sns.set(style=\"white\", palette=\"muted\", color_codes=True)\n",
    "\n",
    "    # Set up the matplotlib figure\n",
    "    fig, axes = plt.subplots(2, figsize=(7, 7), sharex=True)\n",
    "    sns.despine(left=True)\n",
    "\n",
    "    # Generate a random univariate dataset\n",
    "    d = result\n",
    "\n",
    "    # Plot a kernel density estimate and rug plot\n",
    "    sns.distplot(d, hist=False, rug=True, color=\"r\", ax=axes[0])\n",
    "\n",
    "    # Plot a historgram and kernel density estimate\n",
    "    sns.distplot(d, color=\"m\", ax=axes[1])\n",
    "\n",
    "    plt.setp(axes, yticks=[])\n",
    "    plt.tight_layout()\n",
    "\n",
    "    save_experiment(fig, experiment, 'collateral_redistribution')\n",
    "    plt.close()"
   ]
  },
  {
   "cell_type": "markdown",
   "metadata": {},
   "source": [
    "## ROI Distribution Heatmap"
   ]
  },
  {
   "cell_type": "code",
   "execution_count": 30,
   "metadata": {},
   "outputs": [
    {
     "name": "stdout",
     "output_type": "stream",
     "text": [
      "Creating mesh grid\n",
      "Calculating valuations\n",
      "Creating surface\n",
      "Plotting figure\n"
     ]
    },
    {
     "data": {
      "image/png": "[encoded data removed]",
      "text/plain": [
       "<Figure size 432x288 with 2 Axes>"
      ]
     },
     "metadata": {},
     "output_type": "display_data"
    }
   ],
   "source": [
    "print(\"Creating mesh grid\")\n",
    "\n",
    "s = np.linspace(0, 100000, 100)\n",
    "p = np.linspace(0, 10000, 100)\n",
    "\n",
    "X, Y = np.meshgrid(s, p)\n",
    "\n",
    "print(\"Calculating valuations\")\n",
    "\n",
    "buy_in = 1 # dai\n",
    "\n",
    "def valuation(current_supply, buy_in_supply):\n",
    "    token_reward = collateral_to_token_selling(buy_in, buy_in_supply)\n",
    "    pool_balance = integral_function(current_supply)\n",
    "    valuation = reward_for_burn(token_reward, current_supply, pool_balance)\n",
    "    return max(0, (valuation - buy_in)/buy_in)\n",
    "\n",
    "np_func = np.frompyfunc(valuation, 2, 1)\n",
    "\n",
    "Z = np.nan_to_num(np_func(X, Y))\n",
    "\n",
    "print(\"Creating surface\")\n",
    "\n",
    "surface = go.Surface(x=X, y=Y, z=Z)\n",
    "data = [surface]\n",
    "\n",
    "layout = go.Layout(\n",
    "    title='Valuation Plot',\n",
    "    scene=dict(\n",
    "        xaxis=dict(\n",
    "            title='Supply',\n",
    "            gridcolor='rgb(255, 255, 255)',\n",
    "            zerolinecolor='rgb(255, 255, 255)',\n",
    "            showbackground=True,\n",
    "            backgroundcolor='rgb(230, 230,230)'\n",
    "        ),\n",
    "        yaxis=dict(\n",
    "            title='Buy-in supply',\n",
    "            gridcolor='rgb(255, 255, 255)',\n",
    "            zerolinecolor='rgb(255, 255, 255)',\n",
    "            showbackground=True,\n",
    "            backgroundcolor='rgb(230, 230,230)'\n",
    "        ),\n",
    "        zaxis=dict(\n",
    "            title='ROI %',\n",
    "            gridcolor='rgb(255, 255, 255)',\n",
    "            zerolinecolor='rgb(255, 255, 255)',\n",
    "            showbackground=True,\n",
    "            backgroundcolor='rgb(230, 230,230)'\n",
    "        )\n",
    "    )\n",
    ")\n",
    "\n",
    "print(\"Plotting figure\")\n",
    "\n",
    "plt.contourf(X,Y,Z)\n",
    "plt.colorbar()\n",
    "plt.title('Value (ROI) distribution heatmap')\n",
    "plt.xlabel('Supply')\n",
    "plt.ylabel('Buy-in supply')\n",
    "plt.savefig('Value (ROI) distribution heatmap.png')\n",
    "plt.show()"
   ]
  }
 ],
 "metadata": {
  "kernelspec": {
   "display_name": "Python3 - python",
   "language": "python",
   "name": "ipython_python"
  },
  "language_info": {
   "codemirror_mode": {
    "name": "ipython",
    "version": 3
   },
   "file_extension": ".py",
   "mimetype": "text/x-python",
   "name": "python",
   "nbconvert_exporter": "python",
   "pygments_lexer": "ipython3",
   "version": "3.7.2"
  }
 },
 "nbformat": 4,
 "nbformat_minor": 2
}
