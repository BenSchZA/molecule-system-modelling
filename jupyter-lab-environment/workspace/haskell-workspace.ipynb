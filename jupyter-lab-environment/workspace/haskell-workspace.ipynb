{
 "cells": [
  {
   "cell_type": "code",
   "execution_count": 371,
   "metadata": {},
   "outputs": [],
   "source": [
    "import Control.Exception\n",
    "-- assert :: forall a. Bool -> a -> a"
   ]
  },
  {
   "cell_type": "code",
   "execution_count": 372,
   "metadata": {},
   "outputs": [],
   "source": [
    "purchase :: Floating a => a\n",
    "contribution_rate :: Floating a => a\n",
    "tax :: Floating a => a -> a\n",
    "\n",
    "purchase = 100.0\n",
    "contribution_rate = 15.0 / 100.0\n",
    "tax a = a * contribution_rate"
   ]
  },
  {
   "cell_type": "code",
   "execution_count": 373,
   "metadata": {},
   "outputs": [],
   "source": [
    "priceToMint :: (Ord p, Floating p) => p -> p\n",
    "priceToMint t\n",
    "    | t <= 0 = 0\n",
    "    | otherwise = collateral / (1 - tax_rate)\n",
    "    where\n",
    "        totalSupply = 0.0\n",
    "        poolBalance = curveIntegral totalSupply\n",
    "        collateral = curveIntegral(totalSupply + t) - poolBalance"
   ]
  },
  {
   "cell_type": "code",
   "execution_count": 374,
   "metadata": {},
   "outputs": [
    {
     "data": {
      "text/plain": [
       "100.0"
      ]
     },
     "metadata": {},
     "output_type": "display_data"
    }
   ],
   "source": [
    "curveIntegral :: Floating a => a -> a\n",
    "curveIntegral x = 0.000025*x*x + 0.5*x\n",
    "\n",
    "inverseCurveIntegral :: Floating a => a -> a\n",
    "inverseCurveIntegral x = -10000.0 + 200.0 * sqrt(x + 2500.0)\n",
    "\n",
    "inverseCurveIntegral $ curveIntegral purchase"
   ]
  },
  {
   "cell_type": "code",
   "execution_count": 375,
   "metadata": {},
   "outputs": [],
   "source": [
    "collateralToTokenBuying :: Floating a => a -> a\n",
    "collateralToTokenBuying x = inverseCurveIntegral(poolBalance + amountLessTax) - totalSupply\n",
    "    where\n",
    "        totalSupply = 0.0\n",
    "        poolBalance = curveIntegral totalSupply\n",
    "        amountLessTax = x - tax x"
   ]
  },
  {
   "cell_type": "code",
   "execution_count": 376,
   "metadata": {},
   "outputs": [
    {
     "data": {
      "text/plain": [
       "168.57905510892851"
      ]
     },
     "metadata": {},
     "output_type": "display_data"
    },
    {
     "data": {
      "text/plain": [
       "99.99999999999969"
      ]
     },
     "metadata": {},
     "output_type": "display_data"
    }
   ],
   "source": [
    "tokenValue = collateralToTokenBuying purchase\n",
    "daiCost = priceToMint tokenValue\n",
    "tokenValue\n",
    "daiCost"
   ]
  },
  {
   "cell_type": "code",
   "execution_count": null,
   "metadata": {},
   "outputs": [],
   "source": []
  },
  {
   "cell_type": "code",
   "execution_count": null,
   "metadata": {},
   "outputs": [],
   "source": []
  }
 ],
 "metadata": {
  "kernelspec": {
   "display_name": "Haskell - haskell",
   "language": "haskell",
   "name": "ihaskell_haskell"
  },
  "language_info": {
   "codemirror_mode": "ihaskell",
   "file_extension": ".hs",
   "name": "haskell",
   "pygments_lexer": "Haskell",
   "version": "8.4.4"
  }
 },
 "nbformat": 4,
 "nbformat_minor": 2
}
