{
 "cells": [
  {
   "cell_type": "code",
   "execution_count": 10,
   "metadata": {},
   "outputs": [],
   "source": [
    "import Control.Exception\n",
    "-- assert :: forall a. Bool -> a -> a"
   ]
  },
  {
   "cell_type": "code",
   "execution_count": 11,
   "metadata": {},
   "outputs": [],
   "source": [
    "purchase :: Floating a => a\n",
    "contributionRate :: Floating a => a\n",
    "tax :: Floating a => a -> a\n",
    "\n",
    "purchase = 100.0\n",
    "contributionRate = 15.0 / 100.0\n",
    "tax a = a * contributionRate"
   ]
  },
  {
   "cell_type": "code",
   "execution_count": 12,
   "metadata": {},
   "outputs": [
    {
     "data": {
      "text/plain": [
       "100.0"
      ]
     },
     "metadata": {},
     "output_type": "display_data"
    }
   ],
   "source": [
    "curveIntegral :: Floating a => a -> a\n",
    "curveIntegral x = 0.000025*x*x + 0.5*x\n",
    "\n",
    "inverseCurveIntegral :: Floating a => a -> a\n",
    "inverseCurveIntegral x = -10000.0 + 200.0 * sqrt(x + 2500.0)\n",
    "\n",
    "inverseCurveIntegral $ curveIntegral purchase"
   ]
  },
  {
   "cell_type": "code",
   "execution_count": 13,
   "metadata": {},
   "outputs": [],
   "source": [
    "priceToMint :: (Ord p, Floating p) => p -> p\n",
    "priceToMint t\n",
    "    | t <= 0 = 0\n",
    "    | otherwise = collateral / (1 - contributionRate)\n",
    "    where\n",
    "        totalSupply = 0.0\n",
    "        poolBalance = curveIntegral totalSupply\n",
    "        collateral = curveIntegral(totalSupply + t) - poolBalance"
   ]
  },
  {
   "cell_type": "code",
   "execution_count": 14,
   "metadata": {},
   "outputs": [],
   "source": [
    "collateralToTokenBuying :: Floating a => a -> a\n",
    "collateralToTokenBuying x = inverseCurveIntegral(poolBalance + amountLessTax) - totalSupply\n",
    "    where\n",
    "        totalSupply = 0.0\n",
    "        poolBalance = curveIntegral totalSupply\n",
    "        amountLessTax = x - tax x"
   ]
  },
  {
   "cell_type": "code",
   "execution_count": 15,
   "metadata": {},
   "outputs": [
    {
     "data": {
      "text/plain": [
       "168.57905510892851"
      ]
     },
     "metadata": {},
     "output_type": "display_data"
    },
    {
     "data": {
      "text/plain": [
       "99.99999999999969"
      ]
     },
     "metadata": {},
     "output_type": "display_data"
    }
   ],
   "source": [
    "tokenValue = collateralToTokenBuying purchase\n",
    "daiCost = priceToMint tokenValue\n",
    "tokenValue\n",
    "daiCost"
   ]
  },
  {
   "cell_type": "code",
   "execution_count": null,
   "metadata": {},
   "outputs": [],
   "source": []
  },
  {
   "cell_type": "code",
   "execution_count": null,
   "metadata": {},
   "outputs": [],
   "source": []
  }
 ],
 "metadata": {
  "kernelspec": {
   "display_name": "Python 3",
   "language": "python",
   "name": "python3"
  },
  "language_info": {
   "codemirror_mode": {
    "name": "ipython",
    "version": 3
   },
   "file_extension": ".py",
   "mimetype": "text/x-python",
   "name": "python",
   "nbconvert_exporter": "python",
   "pygments_lexer": "ipython3",
   "version": "3.7.5"
  }
 },
 "nbformat": 4,
 "nbformat_minor": 4
}
