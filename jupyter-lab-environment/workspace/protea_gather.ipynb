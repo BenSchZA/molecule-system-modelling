{
 "cells": [
  {
   "cell_type": "markdown",
   "metadata": {},
   "source": [
    "# Protea Gather\n",
    "\n",
    "## Aim\n",
    "\n",
    "Using cadCAD to model risk and reward thresholds for users of the system, and the system's resilience to instability, while protecting users against black swan type events.\n",
    "\n",
    "## Method\n",
    "\n",
    "Actors perform actions under different scenarios. \n",
    "These actions and scenarios occur within the constraints of the system policies.\n",
    "\n",
    "## Notes\n",
    "\n",
    "The cadCAD framework has been retroffited to support OOP style types and wrappers.\n",
    "\n",
    "## Observations\n",
    "\n",
    "### Number 1\n",
    "\n",
    "Simply adding the y-axis shift doesn't greatly decrease or increase the users' end returns, but does decrease the whales end ROI enough that the average day-to-day user doesn't see the effect of them dumping.\n",
    "\n",
    "### Number 2\n",
    "\n",
    "The introduction of the y-axis shift creates a slow linear growth at a rate of around 3-8% (seen with randomness added), in comparison to 2.5x or more.\n",
    "\n",
    "---\n",
    "\n",
    "# System Summary\n",
    "\n",
    "## Actors\n",
    "### Creators\n",
    "Actions\n",
    "* Create community\n",
    "* Create/start/end event\n",
    "\n",
    "### Members\n",
    "Actions\n",
    "* Join/leave community\n",
    "* Attend event\n",
    "\n",
    "### Supporters\n",
    "Actions\n",
    "* Invest in community\n",
    "\n",
    "---\n",
    "\n",
    "## Scenarios\n",
    "* Successful/unsuccessful communities\n",
    "* Community liquidation\n",
    "* Bad actors\n",
    "* Bad community policies\n",
    "\n",
    "---\n",
    "\n",
    "## Policies\n",
    "* Bonding curve parameters\n",
    "* Community taxation\n",
    "* Protocol taxation\n",
    "\n",
    "---"
   ]
  },
  {
   "cell_type": "markdown",
   "metadata": {},
   "source": [
    "## Module imports"
   ]
  },
  {
   "cell_type": "code",
   "execution_count": 1,
   "metadata": {
    "scrolled": true
   },
   "outputs": [],
   "source": [
    "import matplotlib.pyplot as plt\n",
    "%matplotlib inline\n",
    "import math\n",
    "from scipy.optimize import fsolve\n",
    "\n",
    "from decimal import Decimal\n",
    "import numpy as np\n",
    "\n",
    "import ipywidgets as widgets\n",
    "from IPython.display import display\n",
    "\n",
    "from abc import ABC, abstractmethod\n",
    "from enum import Enum, auto\n",
    "from functools import partial\n",
    "import random\n",
    "import uuid\n",
    "import json\n",
    "\n",
    "import plotly.plotly as py\n",
    "import plotly.graph_objs as go\n",
    "import plotly\n",
    "plotly.tools.set_credentials_file(username='BenjaminScholtz', api_key='8HheLHWEyoXDuLOiQ4ZO')\n",
    "\n",
    "import sys\n",
    "sys.path.append(\"/home/bscholtz/.pip_packages/lib/python3.7/site-packages\")"
   ]
  },
  {
   "cell_type": "markdown",
   "metadata": {},
   "source": [
    "## Business Logic/Contract Code"
   ]
  },
  {
   "cell_type": "code",
   "execution_count": 2,
   "metadata": {},
   "outputs": [
    {
     "data": {
      "application/vnd.jupyter.widget-view+json": {
       "model_id": "a1afa1fb00904057b9e50d0648d31621",
       "version_major": 2,
       "version_minor": 0
      },
      "text/plain": [
       "FloatSlider(value=0.0, description='y-axis shift', max=10.0, step=0.01)"
      ]
     },
     "metadata": {},
     "output_type": "display_data"
    }
   ],
   "source": [
    "b_widget = widgets.FloatSlider(\n",
    "    value=0,\n",
    "    min=0,\n",
    "    max=10,\n",
    "    step=.01,\n",
    "    description='y-axis shift',\n",
    "    disabled=False,\n",
    "    continuous_update=True,\n",
    "    orientation='horizontal',\n",
    "    readout=True,\n",
    "    #readout_format='.1f',\n",
    ")\n",
    "\n",
    "display(b_widget)"
   ]
  },
  {
   "cell_type": "code",
   "execution_count": 3,
   "metadata": {},
   "outputs": [],
   "source": [
    "b = 0.5\n",
    "gradient = 1/17_500\n",
    "\n",
    "# Bonding curve parameters\n",
    "\n",
    "# b = b_widget.value\n",
    "# gradient = 1/2000\n",
    "\n",
    "# Community parameters\n",
    "\n",
    "community_tax_rate = 0.5\n",
    "general_user_base_buy_in = 10\n",
    "\n",
    "# Linear user base\n",
    "\n",
    "time_steps = 40 # essentially user base with linear growth\n",
    "\n",
    "# Sigmoidal user base\n",
    "\n",
    "max_user_base = 50\n",
    "sigmoid_inflection = 20\n",
    "sigmoid_slope = 1/4"
   ]
  },
  {
   "cell_type": "code",
   "execution_count": 9,
   "metadata": {
    "scrolled": true
   },
   "outputs": [],
   "source": [
    "def linear_curve(x, gradient):\n",
    "    #return gradient*x\n",
    "    return gradient*x + b\n",
    "\n",
    "def inverse_integral(xD, gradient=gradient):\n",
    "    #return math.sqrt(2.0*xT/gradient)\n",
    "    return (-b + math.sqrt(math.pow(b, 2.0) + 2.0*gradient*xD))/(gradient)\n",
    "\n",
    "def curve_integral(xT, gradient=gradient):\n",
    "    #return (math.pow(xD, 2.0)*gradient)/2.0\n",
    "    return (math.pow(xT, 2.0)*gradient)/2.0 + b*xT\n",
    "\n",
    "def price_to_mint(x_T, total_supply, pool_balance, gradient):\n",
    "    d = curve_integral(total_supply + x_T, gradient) - pool_balance\n",
    "    return d + d/100\n",
    "\n",
    "def reward_for_burn(x_T, total_supply, pool_balance, gradient):\n",
    "    return pool_balance - curve_integral(total_supply - x_T, gradient)\n",
    "\n",
    "def collateral_to_token_buying(x_D, total_supply, gradient):\n",
    "    x_D = x_D - x_D*0.01\n",
    "    return inverse_integral(curve_integral(total_supply, gradient) + x_D, gradient) - total_supply\n",
    "\n",
    "def collateral_to_token_selling(x_D, total_supply, gradient):\n",
    "    try:\n",
    "        return total_supply - inverse_integral(curve_integral(total_supply, gradient) - x_D, gradient)\n",
    "    except ValueError:\n",
    "        return 0"
   ]
  },
  {
   "cell_type": "code",
   "execution_count": 14,
   "metadata": {},
   "outputs": [
    {
     "name": "stdout",
     "output_type": "stream",
     "text": [
      "50.285714285714285\n",
      "99.99999999999926\n"
     ]
    },
    {
     "data": {
      "text/plain": [
       "1.8196869366123423"
      ]
     },
     "execution_count": 14,
     "metadata": {},
     "output_type": "execute_result"
    }
   ],
   "source": [
    "\n",
    "b = 0.5\n",
    "gradient = 1/17_500\n",
    "token_purchase = 100\n",
    "\n",
    "dai = curve_integral(token_purchase)\n",
    "print(dai)\n",
    "\n",
    "supply = inverse_integral(dai)\n",
    "print(supply)\n",
    "\n",
    "reward_for_burn(1, supply, balance, 1/2000)*supply\n",
    "collateral_to_token_selling(1, supply, 1/2000)"
   ]
  },
  {
   "cell_type": "markdown",
   "metadata": {},
   "source": [
    "## Utility Functions"
   ]
  },
  {
   "cell_type": "code",
   "execution_count": 6,
   "metadata": {},
   "outputs": [],
   "source": [
    "def id():\n",
    "    return uuid.uuid4().int & (1<<64)-1\n",
    "\n",
    "def bollinger_bands(value, window_size, num_of_std):\n",
    "\n",
    "    rolling_mean = value.rolling(window=window_size).mean()\n",
    "    rolling_std  = value.rolling(window=window_size).std()\n",
    "    upper_band = rolling_mean + (rolling_std*num_of_std)\n",
    "    lower_band = rolling_mean - (rolling_std*num_of_std)\n",
    "\n",
    "    return rolling_mean, upper_band, lower_band"
   ]
  },
  {
   "cell_type": "markdown",
   "metadata": {},
   "source": [
    "## Custom cadCAD type classes"
   ]
  },
  {
   "cell_type": "code",
   "execution_count": 7,
   "metadata": {
    "scrolled": true
   },
   "outputs": [],
   "source": [
    "class StateType(Enum):\n",
    "    @classmethod\n",
    "    def initial_state(cls):\n",
    "        _members = {}\n",
    "        for item in cls.__members__:\n",
    "            _members[cls[item]] = 0\n",
    "        return _members\n",
    "    \n",
    "    def initial_conditions(cls):\n",
    "        print(\"initial_conditions not implemented\")\n",
    "\n",
    "class ActionsType(Enum):\n",
    "    def __init__(self, *args, **kwargs):\n",
    "        pass\n",
    "    \n",
    "    def method(self, *args):\n",
    "        method = getattr(self.__class__, '_%s' % self.name)\n",
    "        return method(*args)\n",
    "\n",
    "class PoliciesType:\n",
    "    def list(self):\n",
    "        policies = [func for func in dir(self) \n",
    "                    if (callable(getattr(self, func)) \n",
    "                        and func != 'list' \n",
    "                        and func.find('_'))]\n",
    "        returnVal = {}\n",
    "        for func in policies: returnVal[func] = getattr(self, func)\n",
    "        return returnVal"
   ]
  },
  {
   "cell_type": "markdown",
   "metadata": {},
   "source": [
    "## Domain types"
   ]
  },
  {
   "cell_type": "code",
   "execution_count": 8,
   "metadata": {},
   "outputs": [],
   "source": [
    "class Member:\n",
    "    def __init__(self, period=0, buy_in=0):\n",
    "        self.id = id()\n",
    "        \n",
    "        self.selected = False\n",
    "        \n",
    "        self.period = period\n",
    "        self.buy_in = buy_in\n",
    "        \n",
    "        self.user_supply = 0\n",
    "        self.user_balance = 0\n",
    "        \n",
    "class TxType(Enum):\n",
    "    BUY = auto()\n",
    "    SELL = auto()\n",
    "    HOLD = auto()\n",
    "    \n",
    "class Transaction:\n",
    "    def __init__(self, tx_type=TxType.BUY, value=10, periods=[], user_index=0):\n",
    "        self.tx_type = tx_type\n",
    "        self.value = value\n",
    "        self.user_index = user_index\n",
    "        self.periods = periods\n",
    "        \n",
    "    def get_buy_in(self, s):\n",
    "        period = s['timestep']\n",
    "        community_state = s[State.community_state]\n",
    "        members = community_state.members\n",
    "        \n",
    "        if self.tx_type == TxType.BUY:\n",
    "            return self.value\n",
    "        elif self.tx_type == TxType.SELL:\n",
    "            return -self.value\n",
    "        elif self.tx_type == TxType.HOLD:\n",
    "            if period == self.periods[0]:\n",
    "                return self.value\n",
    "            else:\n",
    "                return -reward_for_burn(\n",
    "                    members[self.user_index].user_supply, community_state.total_supply, community_state.pool_balance, s[State.gradient])\n",
    "        else:\n",
    "            return self.value"
   ]
  },
  {
   "cell_type": "markdown",
   "metadata": {},
   "source": [
    "## Parameters"
   ]
  },
  {
   "cell_type": "code",
   "execution_count": 9,
   "metadata": {},
   "outputs": [],
   "source": [
    "eta = .33 # for tx_volume_generator\n",
    "tampw = 100000 # transactions limit\n",
    "alpha = .5 # for data acquisition cost generator\n",
    "beta = .2 # for data acquisition cost generator\n",
    "costDecrease = .015 # decrease in cost\n",
    "\n",
    "transaction_config = [\n",
    "#     Transaction(TxType.BUY, 100, range(0, 36, 2), 0),\n",
    "#     Transaction(TxType.BUY, 100, [1, 20], 0),\n",
    "#     Transaction(TxType.BUY, 10, range(1, 36, 3), 1),\n",
    "#     Transaction(TxType.BUY, 10, range(1, 36, 6), 2),\n",
    "#     Transaction(TxType.HOLD, whale_dump, [1, dump_point], 0),\n",
    "]"
   ]
  },
  {
   "cell_type": "markdown",
   "metadata": {},
   "source": [
    "## States"
   ]
  },
  {
   "cell_type": "code",
   "execution_count": 10,
   "metadata": {},
   "outputs": [],
   "source": [
    "class CommunityState:    \n",
    "    def __init__(self, members=[], total_supply=0, pool_balance=0, protea_balance=0, community_supply=0, community_balance=0):\n",
    "        self.members = members\n",
    "        \n",
    "        self.total_supply = total_supply\n",
    "        self.pool_balance = pool_balance\n",
    "        \n",
    "        self.protea_balance = protea_balance\n",
    "        \n",
    "        self.community_supply = community_supply\n",
    "        self.community_balance = community_balance\n",
    "        \n",
    "    def validate(self):\n",
    "        assert self.pool_balance == reward_for_burn(self.total_supply) \n",
    "        \n",
    "class State(StateType):\n",
    "    gradient = auto()\n",
    "    y_intercept = auto()\n",
    "    community_tax_rate = auto()    \n",
    "    \n",
    "    community_state = auto()\n",
    "    \n",
    "    @classmethod\n",
    "    def initial_conditions(cls):\n",
    "        return {\n",
    "            **cls.initial_state(), # If the initial condition is not defined, it defaults to 0\n",
    "            cls.gradient: 1/2000,\n",
    "            cls.community_tax_rate: community_tax_rate,\n",
    "            cls.community_state: CommunityState(\n",
    "                members=[\n",
    "                    Member() for _ in transaction_config\n",
    "                ]\n",
    "            ),\n",
    "        }\n",
    "    \n",
    "class StateExogenous(StateType):\n",
    "    user_base = auto()\n",
    "    tx_volume = auto()\n",
    "    product_cost = auto()\n",
    "    \n",
    "    @classmethod\n",
    "    def initial_conditions(cls):\n",
    "        return {\n",
    "            **cls.initial_state(),\n",
    "            cls.tx_volume: 10,\n",
    "        }\n",
    "    \n",
    "class StateAgregated(StateType):\n",
    "    pool_balance = auto()\n",
    "    \n",
    "    @classmethod\n",
    "    def initial_conditions(cls):\n",
    "        return {\n",
    "            **cls.initial_state()\n",
    "        }"
   ]
  },
  {
   "cell_type": "markdown",
   "metadata": {},
   "source": [
    "## Actions"
   ]
  },
  {
   "cell_type": "code",
   "execution_count": 11,
   "metadata": {},
   "outputs": [],
   "source": [
    "class ActionsBonding(ActionsType):\n",
    "    burn = auto()\n",
    "    mint = auto()\n",
    "    \n",
    "    @classmethod\n",
    "    def _burn(cls, params, step, sL, s, _input):\n",
    "        community_state = s[State.community_state]\n",
    "        members = community_state.members\n",
    "        \n",
    "        for member in members:\n",
    "            if member.selected and (member.buy_in < 0):\n",
    "                tokens = collateral_to_token_selling(abs(member.buy_in), community_state.total_supply, s[State.gradient])\n",
    "                if tokens > member.user_supply:\n",
    "                    tokens = member.user_supply\n",
    "                reward_for_tokens = reward_for_burn(tokens, community_state.total_supply, community_state.pool_balance, s[State.gradient])\n",
    "                \n",
    "                community_state.total_supply -= tokens\n",
    "                community_state.pool_balance = curve_integral(\n",
    "                    community_state.total_supply, s[State.gradient])\n",
    "                \n",
    "                member.user_supply -= tokens\n",
    "            \n",
    "        return(State.community_state, community_state)\n",
    "\n",
    "    @classmethod\n",
    "    def _mint(cls, params, step, sL, s, _input):\n",
    "        community_state = s[State.community_state]\n",
    "        members = community_state.members\n",
    "        \n",
    "        for member in members:\n",
    "            if member.selected and (member.buy_in >= 0):\n",
    "                tokens = collateral_to_token_buying(member.buy_in, community_state.total_supply, s[State.gradient])\n",
    "                tokens_price = price_to_mint(\n",
    "                    tokens, community_state.total_supply, community_state.pool_balance, s[State.gradient])\n",
    "                \n",
    "                community_state.protea_balance += tokens_price*0.01\n",
    "\n",
    "                community = tokens*s[State.community_tax_rate]\n",
    "                community_state.community_supply += community\n",
    "                community_state.community_balance = reward_for_burn(\n",
    "                    community_state.community_supply, community_state.total_supply, community_state.pool_balance, s[State.gradient])\n",
    "\n",
    "                community_state.total_supply += tokens\n",
    "                community_state.pool_balance = curve_integral(\n",
    "                        community_state.total_supply, s[State.gradient])\n",
    "                \n",
    "                member.user_supply += tokens - community\n",
    "            \n",
    "        return(State.community_state, community_state)\n",
    "    \n",
    "class ActionsExogenous(ActionsType):\n",
    "    user_base_generator = auto()\n",
    "    tx_volume_generator = auto()\n",
    "    product_cost_generator = auto()\n",
    "    \n",
    "    @classmethod\n",
    "    def _user_base_generator(cls, _g, step, sL, s, _input):\n",
    "        y = StateExogenous.user_base\n",
    "        x = max_user_base/(1 + math.pow(math.e, -(s['timestep'] - sigmoid_inflection)*sigmoid_slope))\n",
    "        x = max(math.floor(x), 0)\n",
    "        return (y, x)\n",
    "    \n",
    "    @classmethod\n",
    "    def _tx_volume_generator(cls, _g, step, sL, s, _input):\n",
    "        y = StateExogenous.tx_volume\n",
    "        x = s[StateExogenous.tx_volume]*(1+2*eta*np.random.rand()*(1-s[StateExogenous.tx_volume]/tampw))\n",
    "        return (y, x)\n",
    "    \n",
    "    @classmethod\n",
    "    def _product_cost_generator(cls, _g, step, sL, s, _input):\n",
    "        y = StateExogenous.product_cost\n",
    "        x = alpha*s[StateExogenous.product_cost]+beta*np.random.rand() - costDecrease\n",
    "        return (y, x)\n",
    "    \n",
    "class UpdateActions(ActionsType):\n",
    "    update_community_state = auto()\n",
    "    update_balances = auto()\n",
    "    \n",
    "    @classmethod\n",
    "    def _update_community_state(cls, _g, step, sL, s, _input):\n",
    "        community_state = s[State.community_state]\n",
    "        members = community_state.members\n",
    "        \n",
    "        ids = _input[cls.update_community_state]\n",
    "        selected = list(filter(lambda member: member.id in ids, members))\n",
    "        \n",
    "        user_base = [\n",
    "            Member() for _ in range(s[StateExogenous.user_base])\n",
    "        ]\n",
    "        \n",
    "#         for user in user_base[::random.randint(1, max(s[StateExogenous.user_base], 2))]:\n",
    "        if len(user_base) > 0:\n",
    "            user_base[-1].selected = True\n",
    "            user_base[-1].buy_in = general_user_base_buy_in #random.randint(5, 15)\n",
    "        \n",
    "        index = -1\n",
    "        for member in members:\n",
    "            index+=1\n",
    "            if member in selected:\n",
    "                member.selected = True\n",
    "                tx = list(filter(lambda tx: tx.user_index == index, transaction_config))[0]\n",
    "                member.buy_in = tx.get_buy_in(s)\n",
    "                #member.buy_in = random.randint(0, 10)\n",
    "                #print('Dump %s' % member.buy_in)\n",
    "            else:\n",
    "                member.selected = False\n",
    "        \n",
    "        members = members[0:len(transaction_config)]\n",
    "        members.extend(user_base)\n",
    "        community_state.members = members\n",
    "        \n",
    "        return (State.community_state, community_state)\n",
    "    \n",
    "    @classmethod\n",
    "    def _update_balances(cls, _g, step, sL, s, _input):\n",
    "        community_state = s[State.community_state]\n",
    "        members = community_state.members\n",
    "        \n",
    "        for member in members:\n",
    "            member.user_balance = reward_for_burn(\n",
    "            member.user_supply, community_state.total_supply, community_state.pool_balance, s[State.gradient])\n",
    "            \n",
    "        return (State.community_state, community_state)\n",
    "\n",
    "class MetricActions(ActionsType):\n",
    "    agregate = auto()\n",
    "    pool_balance = auto()\n",
    "    \n",
    "    #def _bolinger_bands()\n",
    "    \n",
    "    @classmethod\n",
    "    def _pool_balance(cls, _g, step, sL, s, _input):\n",
    "        y = StateAgregated.pool_balance\n",
    "        if _input[cls.agregate] == 1:\n",
    "            x = s[State.community_state].pool_balance\n",
    "        else:\n",
    "            x = s[StateAgregated.pool_balance]\n",
    "        return (y, x)"
   ]
  },
  {
   "cell_type": "markdown",
   "metadata": {},
   "source": [
    "## Policies"
   ]
  },
  {
   "cell_type": "code",
   "execution_count": 12,
   "metadata": {
    "scrolled": true
   },
   "outputs": [],
   "source": [
    "class SelectorPolicies(PoliciesType):\n",
    "    def select_members(self, params, step, sL, s):\n",
    "        community_state = s[State.community_state]\n",
    "        members = community_state.members\n",
    "        selected = []\n",
    "        \n",
    "        #selected = list(filter(lambda member: member.period%random.choice([3,5,6,7,8])==0, members))\n",
    "        #selected = list(filter(lambda member: s['timestep']%member.period==0, members))\n",
    "    \n",
    "        for tx in transaction_config:\n",
    "            if s['timestep'] in tx.periods:\n",
    "                member = members[tx.user_index]\n",
    "                selected.append(member)\n",
    "        ids = [member.id for member in selected]\n",
    "        \n",
    "        return ({UpdateActions.update_community_state: ids})\n",
    "    \n",
    "class MetricPolicies(PoliciesType):\n",
    "    def agregate(self, params, step, sL, s):\n",
    "        return({MetricActions.agregate: 1})\n",
    "    \n",
    "class Policies(PoliciesType):\n",
    "    #def __init__(self):\n",
    "        # Create a range of member \"IDs\"\n",
    "        #self.members = range(50)\n",
    "        \n",
    "    def update_balances(self, params, step, sL, s):\n",
    "        return({UpdateActions.update_community_state: True})"
   ]
  },
  {
   "cell_type": "markdown",
   "metadata": {},
   "source": [
    "## cadCAD Model Initialization"
   ]
  },
  {
   "cell_type": "code",
   "execution_count": 13,
   "metadata": {
    "scrolled": true
   },
   "outputs": [],
   "source": [
    "# %%capture\n",
    "\n",
    "from datetime import timedelta\n",
    "\n",
    "# # # # # # # # # # # # # # # # # # # # # # # # # # # # # # # # # # # # # # # # # # # # # # # # \n",
    "# Settings of general simulation parameters, unrelated to the system itself\n",
    "# `T` is a range with the number of discrete units of time the simulation will run for;\n",
    "# `N` is the number of times the simulation will be run (Monte Carlo runs)\n",
    "# In this example, we'll run the simulation once (N=1) and its duration will be of 10 timesteps\n",
    "# We'll cover the `M` key in a future article. For now, let's leave it empty\n",
    "simulation_parameters = {\n",
    "    'T': range(time_steps),\n",
    "    'N': 1,\n",
    "    'M': {}\n",
    "}\n",
    "\n",
    "ts_format = '%Y-%m-%d %H:%M:%S'\n",
    "t_delta = timedelta(days=30, minutes=0, seconds=0)\n",
    "def time_model(_g, step, sL, s, _input):\n",
    "    y = 'time'\n",
    "    x = ep_time_step(s, dt_str=s['time'], fromat_str=ts_format, _timedelta=t_delta)\n",
    "    return (y, x)\n",
    "\n",
    "exogenous_states = {\n",
    "    'time': time_model\n",
    "}\n",
    "env_processes = {}\n",
    "\n",
    "initial_state = {\n",
    "    **State.initial_conditions(),\n",
    "    **StateExogenous.initial_conditions(),\n",
    "    **StateAgregated.initial_conditions()\n",
    "}\n",
    "\n",
    "selector_policies = SelectorPolicies()\n",
    "metric_policies = MetricPolicies()\n",
    "policies = Policies()\n",
    "\n",
    "partial_state_update_blocks = [\n",
    "    # Exogenous inputs\n",
    "    {\n",
    "        'policies': {},\n",
    "        'variables': {\n",
    "            StateExogenous.user_base: ActionsExogenous.user_base_generator.method,\n",
    "            StateExogenous.tx_volume: ActionsExogenous.tx_volume_generator.method,\n",
    "            StateExogenous.product_cost: ActionsExogenous.product_cost_generator.method,\n",
    "        }\n",
    "    },\n",
    "    # Select members to perform scenarios\n",
    "    {\n",
    "        'policies': selector_policies.list(),\n",
    "        'variables': {\n",
    "            State.community_state: UpdateActions.update_community_state.method,\n",
    "        }\n",
    "    },\n",
    "    # Apply policies & scenarios\n",
    "    {\n",
    "        'policies': {},\n",
    "        'variables': {\n",
    "            State.community_state: ActionsBonding.mint.method,\n",
    "        }\n",
    "    },\n",
    "    {\n",
    "        'policies': {},\n",
    "        'variables': {\n",
    "            State.community_state: ActionsBonding.burn.method,\n",
    "        }\n",
    "    },\n",
    "    {\n",
    "        'policies': policies.list(),\n",
    "        'variables': {\n",
    "             State.community_state: UpdateActions.update_balances.method\n",
    "        }\n",
    "    },\n",
    "    {\n",
    "        'policies': metric_policies.list(),\n",
    "        'variables': {\n",
    "            StateAgregated.pool_balance: MetricActions.pool_balance.method\n",
    "        }\n",
    "    }\n",
    "]"
   ]
  },
  {
   "cell_type": "markdown",
   "metadata": {},
   "source": [
    "## Source Code Inspection"
   ]
  },
  {
   "cell_type": "code",
   "execution_count": 14,
   "metadata": {
    "scrolled": true
   },
   "outputs": [],
   "source": [
    "# # Inspect cadCAD source code\n",
    "# import inspect\n",
    "# import cadCAD\n",
    "\n",
    "# source = inspect.getsource(cadCAD.configuration.utils)\n",
    "# # print(source)"
   ]
  },
  {
   "cell_type": "markdown",
   "metadata": {},
   "source": [
    "## Model Simulation"
   ]
  },
  {
   "cell_type": "code",
   "execution_count": 15,
   "metadata": {
    "scrolled": true
   },
   "outputs": [
    {
     "name": "stdout",
     "output_type": "stream",
     "text": [
      "single_proc: [<cadCAD.configuration.Configuration object at 0x7f587878cf28>]\n",
      "[<cadCAD.configuration.Configuration object at 0x7f587878cf28>]\n"
     ]
    }
   ],
   "source": [
    "# # # # # # # # # # # # # # # # # # # # # # # # # # # # # # # # # # # # # # # # # # # # # # # # \n",
    "from cadCAD.configuration import Configuration\n",
    "import cadCadFunctions as c2F\n",
    "# # # # # # # # # # # # # # # # # # # # # # # # # # # # # # # # # # # # # # # # # # # # # # # # \n",
    "# The configurations above are then packaged into a `Configuration` object\n",
    "config = Configuration(initial_state=initial_state, #dict containing variable names and initial values\n",
    "                       partial_state_update_blocks=partial_state_update_blocks, #dict containing state update functions\n",
    "                       sim_config=simulation_parameters, #dict containing simulation parameters\n",
    "                       raw_exogenous_states=exogenous_states,\n",
    "                       env_processes=env_processes,\n",
    "                      )\n",
    "\n",
    "from cadCAD.engine import ExecutionMode, ExecutionContext, Executor\n",
    "exec_mode = ExecutionMode()\n",
    "exec_context = ExecutionContext(exec_mode.single_proc)\n",
    "executor = Executor(exec_context, [config]) # Pass the configuration object inside an array\n",
    "raw_result, tensor = executor.execute() # The `main()` method returns a tuple; its first elements contains the raw results\n",
    "\n",
    "%matplotlib inline\n",
    "from matplotlib import cm\n",
    "import pandas as pd"
   ]
  },
  {
   "cell_type": "markdown",
   "metadata": {},
   "source": [
    "## Generate Plots"
   ]
  },
  {
   "cell_type": "code",
   "execution_count": 16,
   "metadata": {},
   "outputs": [],
   "source": [
    "# df = pd.DataFrame(raw_result)\n",
    "\n",
    "# df['m_0'] = df[State.community_state].apply(lambda x: x.members[0].user_balance)\n",
    "# df['m_1'] = df[State.community_state].apply(lambda x: x.members[1].user_balance)\n",
    "# # df['m_2'] = df[State.community_state].apply(lambda x: x.members[2].user_balance)\n",
    "# # df['m_3'] = df[State.community_state].apply(lambda x: x.members[3].user_balance)\n",
    "# # df['m_4'] = df[State.community_state].apply(lambda x: x.members[4].user_balance)\n",
    "\n",
    "# df.set_index('timestep', inplace=True)\n",
    "\n",
    "# start = 0.0\n",
    "# end = 0.0\n",
    "# gains = []\n",
    "\n",
    "# for tx in transaction_config:\n",
    "#     if tx.tx_type==TxType.HOLD and len(tx.periods)==2:\n",
    "#         period_start = tx.periods[0]\n",
    "#         period_end = tx.periods[1]\n",
    "        \n",
    "#         start = df['m_%s' % tx.user_index].loc[period_start].iloc[0]\n",
    "#         end = df['m_%s' % tx.user_index].loc[period_end - 1].iloc[0]\n",
    "        \n",
    "#         gains.append((end - start)*100/start)\n",
    "    \n",
    "# print(gains)\n",
    "# print(gains[0]-gains[3])"
   ]
  },
  {
   "cell_type": "code",
   "execution_count": 17,
   "metadata": {},
   "outputs": [
    {
     "data": {
      "image/png": "[encoded data removed]",
      "text/plain": [
       "<Figure size 1440x720 with 1 Axes>"
      ]
     },
     "metadata": {
      "needs_background": "light"
     },
     "output_type": "display_data"
    }
   ],
   "source": [
    "df = pd.DataFrame(raw_result)\n",
    "\n",
    "mean_df,median_df,std_df,min_df = c2F.aggregate_runs(df,'timestep')\n",
    "\n",
    "mean_df.plot('timestep', [StateAgregated.pool_balance], grid=True, \n",
    "        xticks=list(mean_df['timestep'].drop_duplicates()),\n",
    "        title='Agregated pool balance',\n",
    "        colormap=cm.get_cmap('cool'),\n",
    "        figsize=(20,10));"
   ]
  },
  {
   "cell_type": "code",
   "execution_count": 18,
   "metadata": {},
   "outputs": [
    {
     "data": {
      "image/png": "[encoded data removed]",
      "text/plain": [
       "<Figure size 1440x720 with 1 Axes>"
      ]
     },
     "metadata": {
      "needs_background": "light"
     },
     "output_type": "display_data"
    }
   ],
   "source": [
    "df = pd.DataFrame(raw_result)\n",
    "\n",
    "df[State.community_state] = df[State.community_state].apply(lambda x: x.pool_balance)\n",
    "\n",
    "df.plot('timestep', [State.community_state], grid=True, \n",
    "        xticks=list(df['timestep'].drop_duplicates()),\n",
    "        title='Pool balance',\n",
    "        colormap=cm.get_cmap('cool'),\n",
    "        figsize=(20,10));"
   ]
  },
  {
   "cell_type": "code",
   "execution_count": 19,
   "metadata": {},
   "outputs": [
    {
     "data": {
      "image/png": "[encoded data removed]",
      "text/plain": [
       "<Figure size 1440x720 with 1 Axes>"
      ]
     },
     "metadata": {
      "needs_background": "light"
     },
     "output_type": "display_data"
    }
   ],
   "source": [
    "df = pd.DataFrame(raw_result)\n",
    "\n",
    "df[State.community_state] = df[State.community_state].apply(lambda x: x.community_balance)\n",
    "\n",
    "df.plot('timestep', [State.community_state], grid=True, \n",
    "        xticks=list(df['timestep'].drop_duplicates()),\n",
    "        title='community_balance',\n",
    "        colormap=cm.get_cmap('cool'),\n",
    "        figsize=(20,10));"
   ]
  },
  {
   "cell_type": "code",
   "execution_count": 20,
   "metadata": {},
   "outputs": [
    {
     "data": {
      "image/png": "[encoded data removed]",
      "text/plain": [
       "<Figure size 1440x720 with 1 Axes>"
      ]
     },
     "metadata": {
      "needs_background": "light"
     },
     "output_type": "display_data"
    }
   ],
   "source": [
    "df = pd.DataFrame(raw_result)\n",
    "df[State.community_state] = df[State.community_state].apply(lambda x: x.pool_balance)\n",
    "\n",
    "rolling_mean, upper_band, lower_band = bollinger_bands(df[State.community_state], 10, 2)\n",
    "\n",
    "df['rolling_mean'] = rolling_mean\n",
    "df['upper_band'] = upper_band\n",
    "df['lower_band'] = lower_band\n",
    "# # , 'rolling_mean', 'upper_band', 'lower_band'\n",
    "\n",
    "df.plot('timestep', ['rolling_mean', 'upper_band', 'lower_band'], grid=True, \n",
    "        xticks=list(df['timestep'].drop_duplicates()), \n",
    "        title='Pool balance',\n",
    "        colormap=cm.get_cmap('cool'),\n",
    "        figsize=(20,10));"
   ]
  },
  {
   "cell_type": "code",
   "execution_count": 21,
   "metadata": {
    "scrolled": false
   },
   "outputs": [
    {
     "ename": "IndexError",
     "evalue": "list index out of range",
     "output_type": "error",
     "traceback": [
      "\u001b[0;31m---------------------------------------------------------------------------\u001b[0m",
      "\u001b[0;31mIndexError\u001b[0m                                Traceback (most recent call last)",
      "\u001b[0;32m<ipython-input-21-d7a3612b2832>\u001b[0m in \u001b[0;36m<module>\u001b[0;34m\u001b[0m\n\u001b[1;32m      1\u001b[0m \u001b[0mdf\u001b[0m \u001b[0;34m=\u001b[0m \u001b[0mpd\u001b[0m\u001b[0;34m.\u001b[0m\u001b[0mDataFrame\u001b[0m\u001b[0;34m(\u001b[0m\u001b[0mraw_result\u001b[0m\u001b[0;34m)\u001b[0m\u001b[0;34m\u001b[0m\u001b[0;34m\u001b[0m\u001b[0m\n\u001b[0;32m----> 2\u001b[0;31m \u001b[0mdf\u001b[0m\u001b[0;34m[\u001b[0m\u001b[0;34m'm0'\u001b[0m\u001b[0;34m]\u001b[0m \u001b[0;34m=\u001b[0m \u001b[0mdf\u001b[0m\u001b[0;34m[\u001b[0m\u001b[0mState\u001b[0m\u001b[0;34m.\u001b[0m\u001b[0mcommunity_state\u001b[0m\u001b[0;34m]\u001b[0m\u001b[0;34m.\u001b[0m\u001b[0mapply\u001b[0m\u001b[0;34m(\u001b[0m\u001b[0;32mlambda\u001b[0m \u001b[0mx\u001b[0m\u001b[0;34m:\u001b[0m \u001b[0mx\u001b[0m\u001b[0;34m.\u001b[0m\u001b[0mmembers\u001b[0m\u001b[0;34m[\u001b[0m\u001b[0;36m0\u001b[0m\u001b[0;34m]\u001b[0m\u001b[0;34m.\u001b[0m\u001b[0muser_supply\u001b[0m\u001b[0;34m)\u001b[0m\u001b[0;34m\u001b[0m\u001b[0;34m\u001b[0m\u001b[0m\n\u001b[0m\u001b[1;32m      3\u001b[0m \u001b[0mdf\u001b[0m\u001b[0;34m[\u001b[0m\u001b[0;34m'm1'\u001b[0m\u001b[0;34m]\u001b[0m \u001b[0;34m=\u001b[0m \u001b[0mdf\u001b[0m\u001b[0;34m[\u001b[0m\u001b[0mState\u001b[0m\u001b[0;34m.\u001b[0m\u001b[0mcommunity_state\u001b[0m\u001b[0;34m]\u001b[0m\u001b[0;34m.\u001b[0m\u001b[0mapply\u001b[0m\u001b[0;34m(\u001b[0m\u001b[0;32mlambda\u001b[0m \u001b[0mx\u001b[0m\u001b[0;34m:\u001b[0m \u001b[0mx\u001b[0m\u001b[0;34m.\u001b[0m\u001b[0mmembers\u001b[0m\u001b[0;34m[\u001b[0m\u001b[0;36m1\u001b[0m\u001b[0;34m]\u001b[0m\u001b[0;34m.\u001b[0m\u001b[0muser_supply\u001b[0m\u001b[0;34m)\u001b[0m\u001b[0;34m\u001b[0m\u001b[0;34m\u001b[0m\u001b[0m\n\u001b[1;32m      4\u001b[0m \u001b[0mdf\u001b[0m\u001b[0;34m[\u001b[0m\u001b[0;34m'm2'\u001b[0m\u001b[0;34m]\u001b[0m \u001b[0;34m=\u001b[0m \u001b[0mdf\u001b[0m\u001b[0;34m[\u001b[0m\u001b[0mState\u001b[0m\u001b[0;34m.\u001b[0m\u001b[0mcommunity_state\u001b[0m\u001b[0;34m]\u001b[0m\u001b[0;34m.\u001b[0m\u001b[0mapply\u001b[0m\u001b[0;34m(\u001b[0m\u001b[0;32mlambda\u001b[0m \u001b[0mx\u001b[0m\u001b[0;34m:\u001b[0m \u001b[0mx\u001b[0m\u001b[0;34m.\u001b[0m\u001b[0mmembers\u001b[0m\u001b[0;34m[\u001b[0m\u001b[0;36m2\u001b[0m\u001b[0;34m]\u001b[0m\u001b[0;34m.\u001b[0m\u001b[0muser_supply\u001b[0m\u001b[0;34m)\u001b[0m\u001b[0;34m\u001b[0m\u001b[0;34m\u001b[0m\u001b[0m\n\u001b[1;32m      5\u001b[0m \u001b[0mdf\u001b[0m\u001b[0;34m[\u001b[0m\u001b[0;34m'm3'\u001b[0m\u001b[0;34m]\u001b[0m \u001b[0;34m=\u001b[0m \u001b[0mdf\u001b[0m\u001b[0;34m[\u001b[0m\u001b[0mState\u001b[0m\u001b[0;34m.\u001b[0m\u001b[0mcommunity_state\u001b[0m\u001b[0;34m]\u001b[0m\u001b[0;34m.\u001b[0m\u001b[0mapply\u001b[0m\u001b[0;34m(\u001b[0m\u001b[0;32mlambda\u001b[0m \u001b[0mx\u001b[0m\u001b[0;34m:\u001b[0m \u001b[0mx\u001b[0m\u001b[0;34m.\u001b[0m\u001b[0mmembers\u001b[0m\u001b[0;34m[\u001b[0m\u001b[0;36m3\u001b[0m\u001b[0;34m]\u001b[0m\u001b[0;34m.\u001b[0m\u001b[0muser_supply\u001b[0m\u001b[0;34m)\u001b[0m\u001b[0;34m\u001b[0m\u001b[0;34m\u001b[0m\u001b[0m\n",
      "\u001b[0;32m/nix/store/zcsy9xzwg12z471kwlb805gzsk2lrf98-python3-3.7.2-env/lib/python3.7/site-packages/pandas/core/series.py\u001b[0m in \u001b[0;36mapply\u001b[0;34m(self, func, convert_dtype, args, **kwds)\u001b[0m\n\u001b[1;32m   3192\u001b[0m             \u001b[0;32melse\u001b[0m\u001b[0;34m:\u001b[0m\u001b[0;34m\u001b[0m\u001b[0;34m\u001b[0m\u001b[0m\n\u001b[1;32m   3193\u001b[0m                 \u001b[0mvalues\u001b[0m \u001b[0;34m=\u001b[0m \u001b[0mself\u001b[0m\u001b[0;34m.\u001b[0m\u001b[0mastype\u001b[0m\u001b[0;34m(\u001b[0m\u001b[0mobject\u001b[0m\u001b[0;34m)\u001b[0m\u001b[0;34m.\u001b[0m\u001b[0mvalues\u001b[0m\u001b[0;34m\u001b[0m\u001b[0;34m\u001b[0m\u001b[0m\n\u001b[0;32m-> 3194\u001b[0;31m                 \u001b[0mmapped\u001b[0m \u001b[0;34m=\u001b[0m \u001b[0mlib\u001b[0m\u001b[0;34m.\u001b[0m\u001b[0mmap_infer\u001b[0m\u001b[0;34m(\u001b[0m\u001b[0mvalues\u001b[0m\u001b[0;34m,\u001b[0m \u001b[0mf\u001b[0m\u001b[0;34m,\u001b[0m \u001b[0mconvert\u001b[0m\u001b[0;34m=\u001b[0m\u001b[0mconvert_dtype\u001b[0m\u001b[0;34m)\u001b[0m\u001b[0;34m\u001b[0m\u001b[0;34m\u001b[0m\u001b[0m\n\u001b[0m\u001b[1;32m   3195\u001b[0m \u001b[0;34m\u001b[0m\u001b[0m\n\u001b[1;32m   3196\u001b[0m         \u001b[0;32mif\u001b[0m \u001b[0mlen\u001b[0m\u001b[0;34m(\u001b[0m\u001b[0mmapped\u001b[0m\u001b[0;34m)\u001b[0m \u001b[0;32mand\u001b[0m \u001b[0misinstance\u001b[0m\u001b[0;34m(\u001b[0m\u001b[0mmapped\u001b[0m\u001b[0;34m[\u001b[0m\u001b[0;36m0\u001b[0m\u001b[0;34m]\u001b[0m\u001b[0;34m,\u001b[0m \u001b[0mSeries\u001b[0m\u001b[0;34m)\u001b[0m\u001b[0;34m:\u001b[0m\u001b[0;34m\u001b[0m\u001b[0;34m\u001b[0m\u001b[0m\n",
      "\u001b[0;32mpandas/_libs/src/inference.pyx\u001b[0m in \u001b[0;36mpandas._libs.lib.map_infer\u001b[0;34m()\u001b[0m\n",
      "\u001b[0;32m<ipython-input-21-d7a3612b2832>\u001b[0m in \u001b[0;36m<lambda>\u001b[0;34m(x)\u001b[0m\n\u001b[1;32m      1\u001b[0m \u001b[0mdf\u001b[0m \u001b[0;34m=\u001b[0m \u001b[0mpd\u001b[0m\u001b[0;34m.\u001b[0m\u001b[0mDataFrame\u001b[0m\u001b[0;34m(\u001b[0m\u001b[0mraw_result\u001b[0m\u001b[0;34m)\u001b[0m\u001b[0;34m\u001b[0m\u001b[0;34m\u001b[0m\u001b[0m\n\u001b[0;32m----> 2\u001b[0;31m \u001b[0mdf\u001b[0m\u001b[0;34m[\u001b[0m\u001b[0;34m'm0'\u001b[0m\u001b[0;34m]\u001b[0m \u001b[0;34m=\u001b[0m \u001b[0mdf\u001b[0m\u001b[0;34m[\u001b[0m\u001b[0mState\u001b[0m\u001b[0;34m.\u001b[0m\u001b[0mcommunity_state\u001b[0m\u001b[0;34m]\u001b[0m\u001b[0;34m.\u001b[0m\u001b[0mapply\u001b[0m\u001b[0;34m(\u001b[0m\u001b[0;32mlambda\u001b[0m \u001b[0mx\u001b[0m\u001b[0;34m:\u001b[0m \u001b[0mx\u001b[0m\u001b[0;34m.\u001b[0m\u001b[0mmembers\u001b[0m\u001b[0;34m[\u001b[0m\u001b[0;36m0\u001b[0m\u001b[0;34m]\u001b[0m\u001b[0;34m.\u001b[0m\u001b[0muser_supply\u001b[0m\u001b[0;34m)\u001b[0m\u001b[0;34m\u001b[0m\u001b[0;34m\u001b[0m\u001b[0m\n\u001b[0m\u001b[1;32m      3\u001b[0m \u001b[0mdf\u001b[0m\u001b[0;34m[\u001b[0m\u001b[0;34m'm1'\u001b[0m\u001b[0;34m]\u001b[0m \u001b[0;34m=\u001b[0m \u001b[0mdf\u001b[0m\u001b[0;34m[\u001b[0m\u001b[0mState\u001b[0m\u001b[0;34m.\u001b[0m\u001b[0mcommunity_state\u001b[0m\u001b[0;34m]\u001b[0m\u001b[0;34m.\u001b[0m\u001b[0mapply\u001b[0m\u001b[0;34m(\u001b[0m\u001b[0;32mlambda\u001b[0m \u001b[0mx\u001b[0m\u001b[0;34m:\u001b[0m \u001b[0mx\u001b[0m\u001b[0;34m.\u001b[0m\u001b[0mmembers\u001b[0m\u001b[0;34m[\u001b[0m\u001b[0;36m1\u001b[0m\u001b[0;34m]\u001b[0m\u001b[0;34m.\u001b[0m\u001b[0muser_supply\u001b[0m\u001b[0;34m)\u001b[0m\u001b[0;34m\u001b[0m\u001b[0;34m\u001b[0m\u001b[0m\n\u001b[1;32m      4\u001b[0m \u001b[0mdf\u001b[0m\u001b[0;34m[\u001b[0m\u001b[0;34m'm2'\u001b[0m\u001b[0;34m]\u001b[0m \u001b[0;34m=\u001b[0m \u001b[0mdf\u001b[0m\u001b[0;34m[\u001b[0m\u001b[0mState\u001b[0m\u001b[0;34m.\u001b[0m\u001b[0mcommunity_state\u001b[0m\u001b[0;34m]\u001b[0m\u001b[0;34m.\u001b[0m\u001b[0mapply\u001b[0m\u001b[0;34m(\u001b[0m\u001b[0;32mlambda\u001b[0m \u001b[0mx\u001b[0m\u001b[0;34m:\u001b[0m \u001b[0mx\u001b[0m\u001b[0;34m.\u001b[0m\u001b[0mmembers\u001b[0m\u001b[0;34m[\u001b[0m\u001b[0;36m2\u001b[0m\u001b[0;34m]\u001b[0m\u001b[0;34m.\u001b[0m\u001b[0muser_supply\u001b[0m\u001b[0;34m)\u001b[0m\u001b[0;34m\u001b[0m\u001b[0;34m\u001b[0m\u001b[0m\n\u001b[1;32m      5\u001b[0m \u001b[0mdf\u001b[0m\u001b[0;34m[\u001b[0m\u001b[0;34m'm3'\u001b[0m\u001b[0;34m]\u001b[0m \u001b[0;34m=\u001b[0m \u001b[0mdf\u001b[0m\u001b[0;34m[\u001b[0m\u001b[0mState\u001b[0m\u001b[0;34m.\u001b[0m\u001b[0mcommunity_state\u001b[0m\u001b[0;34m]\u001b[0m\u001b[0;34m.\u001b[0m\u001b[0mapply\u001b[0m\u001b[0;34m(\u001b[0m\u001b[0;32mlambda\u001b[0m \u001b[0mx\u001b[0m\u001b[0;34m:\u001b[0m \u001b[0mx\u001b[0m\u001b[0;34m.\u001b[0m\u001b[0mmembers\u001b[0m\u001b[0;34m[\u001b[0m\u001b[0;36m3\u001b[0m\u001b[0;34m]\u001b[0m\u001b[0;34m.\u001b[0m\u001b[0muser_supply\u001b[0m\u001b[0;34m)\u001b[0m\u001b[0;34m\u001b[0m\u001b[0;34m\u001b[0m\u001b[0m\n",
      "\u001b[0;31mIndexError\u001b[0m: list index out of range"
     ]
    }
   ],
   "source": [
    "df = pd.DataFrame(raw_result)\n",
    "df['m0'] = df[State.community_state].apply(lambda x: x.members[0].user_supply)\n",
    "df['m1'] = df[State.community_state].apply(lambda x: x.members[1].user_supply)\n",
    "df['m2'] = df[State.community_state].apply(lambda x: x.members[2].user_supply)\n",
    "df['m3'] = df[State.community_state].apply(lambda x: x.members[3].user_supply)\n",
    "\n",
    "df.plot('timestep', ['m0', 'm1', 'm2', 'm3'], grid=True, \n",
    "        xticks=list(df['timestep'].drop_duplicates()), \n",
    "        title='User supply',\n",
    "        colormap=cm.get_cmap('cool'),\n",
    "        figsize=(20,10));"
   ]
  },
  {
   "cell_type": "code",
   "execution_count": 22,
   "metadata": {},
   "outputs": [
    {
     "ename": "IndexError",
     "evalue": "list index out of range",
     "output_type": "error",
     "traceback": [
      "\u001b[0;31m---------------------------------------------------------------------------\u001b[0m",
      "\u001b[0;31mIndexError\u001b[0m                                Traceback (most recent call last)",
      "\u001b[0;32m<ipython-input-22-c8404532e260>\u001b[0m in \u001b[0;36m<module>\u001b[0;34m\u001b[0m\n\u001b[1;32m      1\u001b[0m \u001b[0mdf\u001b[0m \u001b[0;34m=\u001b[0m \u001b[0mpd\u001b[0m\u001b[0;34m.\u001b[0m\u001b[0mDataFrame\u001b[0m\u001b[0;34m(\u001b[0m\u001b[0mraw_result\u001b[0m\u001b[0;34m)\u001b[0m\u001b[0;34m\u001b[0m\u001b[0;34m\u001b[0m\u001b[0m\n\u001b[0;32m----> 2\u001b[0;31m \u001b[0mdf\u001b[0m\u001b[0;34m[\u001b[0m\u001b[0;34m'm0'\u001b[0m\u001b[0;34m]\u001b[0m \u001b[0;34m=\u001b[0m \u001b[0mdf\u001b[0m\u001b[0;34m[\u001b[0m\u001b[0mState\u001b[0m\u001b[0;34m.\u001b[0m\u001b[0mcommunity_state\u001b[0m\u001b[0;34m]\u001b[0m\u001b[0;34m.\u001b[0m\u001b[0mapply\u001b[0m\u001b[0;34m(\u001b[0m\u001b[0;32mlambda\u001b[0m \u001b[0mx\u001b[0m\u001b[0;34m:\u001b[0m \u001b[0mx\u001b[0m\u001b[0;34m.\u001b[0m\u001b[0mmembers\u001b[0m\u001b[0;34m[\u001b[0m\u001b[0;36m0\u001b[0m\u001b[0;34m]\u001b[0m\u001b[0;34m.\u001b[0m\u001b[0muser_balance\u001b[0m\u001b[0;34m)\u001b[0m\u001b[0;34m\u001b[0m\u001b[0;34m\u001b[0m\u001b[0m\n\u001b[0m\u001b[1;32m      3\u001b[0m \u001b[0mdf\u001b[0m\u001b[0;34m[\u001b[0m\u001b[0;34m'm1'\u001b[0m\u001b[0;34m]\u001b[0m \u001b[0;34m=\u001b[0m \u001b[0mdf\u001b[0m\u001b[0;34m[\u001b[0m\u001b[0mState\u001b[0m\u001b[0;34m.\u001b[0m\u001b[0mcommunity_state\u001b[0m\u001b[0;34m]\u001b[0m\u001b[0;34m.\u001b[0m\u001b[0mapply\u001b[0m\u001b[0;34m(\u001b[0m\u001b[0;32mlambda\u001b[0m \u001b[0mx\u001b[0m\u001b[0;34m:\u001b[0m \u001b[0mx\u001b[0m\u001b[0;34m.\u001b[0m\u001b[0mmembers\u001b[0m\u001b[0;34m[\u001b[0m\u001b[0;36m1\u001b[0m\u001b[0;34m]\u001b[0m\u001b[0;34m.\u001b[0m\u001b[0muser_balance\u001b[0m\u001b[0;34m)\u001b[0m\u001b[0;34m\u001b[0m\u001b[0;34m\u001b[0m\u001b[0m\n\u001b[1;32m      4\u001b[0m \u001b[0mdf\u001b[0m\u001b[0;34m[\u001b[0m\u001b[0;34m'm2'\u001b[0m\u001b[0;34m]\u001b[0m \u001b[0;34m=\u001b[0m \u001b[0mdf\u001b[0m\u001b[0;34m[\u001b[0m\u001b[0mState\u001b[0m\u001b[0;34m.\u001b[0m\u001b[0mcommunity_state\u001b[0m\u001b[0;34m]\u001b[0m\u001b[0;34m.\u001b[0m\u001b[0mapply\u001b[0m\u001b[0;34m(\u001b[0m\u001b[0;32mlambda\u001b[0m \u001b[0mx\u001b[0m\u001b[0;34m:\u001b[0m \u001b[0mx\u001b[0m\u001b[0;34m.\u001b[0m\u001b[0mmembers\u001b[0m\u001b[0;34m[\u001b[0m\u001b[0;36m2\u001b[0m\u001b[0;34m]\u001b[0m\u001b[0;34m.\u001b[0m\u001b[0muser_balance\u001b[0m\u001b[0;34m)\u001b[0m\u001b[0;34m\u001b[0m\u001b[0;34m\u001b[0m\u001b[0m\n\u001b[1;32m      5\u001b[0m \u001b[0mdf\u001b[0m\u001b[0;34m[\u001b[0m\u001b[0;34m'm3'\u001b[0m\u001b[0;34m]\u001b[0m \u001b[0;34m=\u001b[0m \u001b[0mdf\u001b[0m\u001b[0;34m[\u001b[0m\u001b[0mState\u001b[0m\u001b[0;34m.\u001b[0m\u001b[0mcommunity_state\u001b[0m\u001b[0;34m]\u001b[0m\u001b[0;34m.\u001b[0m\u001b[0mapply\u001b[0m\u001b[0;34m(\u001b[0m\u001b[0;32mlambda\u001b[0m \u001b[0mx\u001b[0m\u001b[0;34m:\u001b[0m \u001b[0mx\u001b[0m\u001b[0;34m.\u001b[0m\u001b[0mmembers\u001b[0m\u001b[0;34m[\u001b[0m\u001b[0;36m3\u001b[0m\u001b[0;34m]\u001b[0m\u001b[0;34m.\u001b[0m\u001b[0muser_balance\u001b[0m\u001b[0;34m)\u001b[0m\u001b[0;34m\u001b[0m\u001b[0;34m\u001b[0m\u001b[0m\n",
      "\u001b[0;32m/nix/store/zcsy9xzwg12z471kwlb805gzsk2lrf98-python3-3.7.2-env/lib/python3.7/site-packages/pandas/core/series.py\u001b[0m in \u001b[0;36mapply\u001b[0;34m(self, func, convert_dtype, args, **kwds)\u001b[0m\n\u001b[1;32m   3192\u001b[0m             \u001b[0;32melse\u001b[0m\u001b[0;34m:\u001b[0m\u001b[0;34m\u001b[0m\u001b[0;34m\u001b[0m\u001b[0m\n\u001b[1;32m   3193\u001b[0m                 \u001b[0mvalues\u001b[0m \u001b[0;34m=\u001b[0m \u001b[0mself\u001b[0m\u001b[0;34m.\u001b[0m\u001b[0mastype\u001b[0m\u001b[0;34m(\u001b[0m\u001b[0mobject\u001b[0m\u001b[0;34m)\u001b[0m\u001b[0;34m.\u001b[0m\u001b[0mvalues\u001b[0m\u001b[0;34m\u001b[0m\u001b[0;34m\u001b[0m\u001b[0m\n\u001b[0;32m-> 3194\u001b[0;31m                 \u001b[0mmapped\u001b[0m \u001b[0;34m=\u001b[0m \u001b[0mlib\u001b[0m\u001b[0;34m.\u001b[0m\u001b[0mmap_infer\u001b[0m\u001b[0;34m(\u001b[0m\u001b[0mvalues\u001b[0m\u001b[0;34m,\u001b[0m \u001b[0mf\u001b[0m\u001b[0;34m,\u001b[0m \u001b[0mconvert\u001b[0m\u001b[0;34m=\u001b[0m\u001b[0mconvert_dtype\u001b[0m\u001b[0;34m)\u001b[0m\u001b[0;34m\u001b[0m\u001b[0;34m\u001b[0m\u001b[0m\n\u001b[0m\u001b[1;32m   3195\u001b[0m \u001b[0;34m\u001b[0m\u001b[0m\n\u001b[1;32m   3196\u001b[0m         \u001b[0;32mif\u001b[0m \u001b[0mlen\u001b[0m\u001b[0;34m(\u001b[0m\u001b[0mmapped\u001b[0m\u001b[0;34m)\u001b[0m \u001b[0;32mand\u001b[0m \u001b[0misinstance\u001b[0m\u001b[0;34m(\u001b[0m\u001b[0mmapped\u001b[0m\u001b[0;34m[\u001b[0m\u001b[0;36m0\u001b[0m\u001b[0;34m]\u001b[0m\u001b[0;34m,\u001b[0m \u001b[0mSeries\u001b[0m\u001b[0;34m)\u001b[0m\u001b[0;34m:\u001b[0m\u001b[0;34m\u001b[0m\u001b[0;34m\u001b[0m\u001b[0m\n",
      "\u001b[0;32mpandas/_libs/src/inference.pyx\u001b[0m in \u001b[0;36mpandas._libs.lib.map_infer\u001b[0;34m()\u001b[0m\n",
      "\u001b[0;32m<ipython-input-22-c8404532e260>\u001b[0m in \u001b[0;36m<lambda>\u001b[0;34m(x)\u001b[0m\n\u001b[1;32m      1\u001b[0m \u001b[0mdf\u001b[0m \u001b[0;34m=\u001b[0m \u001b[0mpd\u001b[0m\u001b[0;34m.\u001b[0m\u001b[0mDataFrame\u001b[0m\u001b[0;34m(\u001b[0m\u001b[0mraw_result\u001b[0m\u001b[0;34m)\u001b[0m\u001b[0;34m\u001b[0m\u001b[0;34m\u001b[0m\u001b[0m\n\u001b[0;32m----> 2\u001b[0;31m \u001b[0mdf\u001b[0m\u001b[0;34m[\u001b[0m\u001b[0;34m'm0'\u001b[0m\u001b[0;34m]\u001b[0m \u001b[0;34m=\u001b[0m \u001b[0mdf\u001b[0m\u001b[0;34m[\u001b[0m\u001b[0mState\u001b[0m\u001b[0;34m.\u001b[0m\u001b[0mcommunity_state\u001b[0m\u001b[0;34m]\u001b[0m\u001b[0;34m.\u001b[0m\u001b[0mapply\u001b[0m\u001b[0;34m(\u001b[0m\u001b[0;32mlambda\u001b[0m \u001b[0mx\u001b[0m\u001b[0;34m:\u001b[0m \u001b[0mx\u001b[0m\u001b[0;34m.\u001b[0m\u001b[0mmembers\u001b[0m\u001b[0;34m[\u001b[0m\u001b[0;36m0\u001b[0m\u001b[0;34m]\u001b[0m\u001b[0;34m.\u001b[0m\u001b[0muser_balance\u001b[0m\u001b[0;34m)\u001b[0m\u001b[0;34m\u001b[0m\u001b[0;34m\u001b[0m\u001b[0m\n\u001b[0m\u001b[1;32m      3\u001b[0m \u001b[0mdf\u001b[0m\u001b[0;34m[\u001b[0m\u001b[0;34m'm1'\u001b[0m\u001b[0;34m]\u001b[0m \u001b[0;34m=\u001b[0m \u001b[0mdf\u001b[0m\u001b[0;34m[\u001b[0m\u001b[0mState\u001b[0m\u001b[0;34m.\u001b[0m\u001b[0mcommunity_state\u001b[0m\u001b[0;34m]\u001b[0m\u001b[0;34m.\u001b[0m\u001b[0mapply\u001b[0m\u001b[0;34m(\u001b[0m\u001b[0;32mlambda\u001b[0m \u001b[0mx\u001b[0m\u001b[0;34m:\u001b[0m \u001b[0mx\u001b[0m\u001b[0;34m.\u001b[0m\u001b[0mmembers\u001b[0m\u001b[0;34m[\u001b[0m\u001b[0;36m1\u001b[0m\u001b[0;34m]\u001b[0m\u001b[0;34m.\u001b[0m\u001b[0muser_balance\u001b[0m\u001b[0;34m)\u001b[0m\u001b[0;34m\u001b[0m\u001b[0;34m\u001b[0m\u001b[0m\n\u001b[1;32m      4\u001b[0m \u001b[0mdf\u001b[0m\u001b[0;34m[\u001b[0m\u001b[0;34m'm2'\u001b[0m\u001b[0;34m]\u001b[0m \u001b[0;34m=\u001b[0m \u001b[0mdf\u001b[0m\u001b[0;34m[\u001b[0m\u001b[0mState\u001b[0m\u001b[0;34m.\u001b[0m\u001b[0mcommunity_state\u001b[0m\u001b[0;34m]\u001b[0m\u001b[0;34m.\u001b[0m\u001b[0mapply\u001b[0m\u001b[0;34m(\u001b[0m\u001b[0;32mlambda\u001b[0m \u001b[0mx\u001b[0m\u001b[0;34m:\u001b[0m \u001b[0mx\u001b[0m\u001b[0;34m.\u001b[0m\u001b[0mmembers\u001b[0m\u001b[0;34m[\u001b[0m\u001b[0;36m2\u001b[0m\u001b[0;34m]\u001b[0m\u001b[0;34m.\u001b[0m\u001b[0muser_balance\u001b[0m\u001b[0;34m)\u001b[0m\u001b[0;34m\u001b[0m\u001b[0;34m\u001b[0m\u001b[0m\n\u001b[1;32m      5\u001b[0m \u001b[0mdf\u001b[0m\u001b[0;34m[\u001b[0m\u001b[0;34m'm3'\u001b[0m\u001b[0;34m]\u001b[0m \u001b[0;34m=\u001b[0m \u001b[0mdf\u001b[0m\u001b[0;34m[\u001b[0m\u001b[0mState\u001b[0m\u001b[0;34m.\u001b[0m\u001b[0mcommunity_state\u001b[0m\u001b[0;34m]\u001b[0m\u001b[0;34m.\u001b[0m\u001b[0mapply\u001b[0m\u001b[0;34m(\u001b[0m\u001b[0;32mlambda\u001b[0m \u001b[0mx\u001b[0m\u001b[0;34m:\u001b[0m \u001b[0mx\u001b[0m\u001b[0;34m.\u001b[0m\u001b[0mmembers\u001b[0m\u001b[0;34m[\u001b[0m\u001b[0;36m3\u001b[0m\u001b[0;34m]\u001b[0m\u001b[0;34m.\u001b[0m\u001b[0muser_balance\u001b[0m\u001b[0;34m)\u001b[0m\u001b[0;34m\u001b[0m\u001b[0;34m\u001b[0m\u001b[0m\n",
      "\u001b[0;31mIndexError\u001b[0m: list index out of range"
     ]
    }
   ],
   "source": [
    "df = pd.DataFrame(raw_result)\n",
    "df['m0'] = df[State.community_state].apply(lambda x: x.members[0].user_balance)\n",
    "df['m1'] = df[State.community_state].apply(lambda x: x.members[1].user_balance)\n",
    "df['m2'] = df[State.community_state].apply(lambda x: x.members[2].user_balance)\n",
    "df['m3'] = df[State.community_state].apply(lambda x: x.members[3].user_balance)\n",
    "\n",
    "df.plot('timestep', ['m0', 'm1', 'm2', 'm3'], grid=True, \n",
    "        xticks=list(df['timestep'].drop_duplicates()), \n",
    "        title='User balance',\n",
    "        colormap=cm.get_cmap('cool'),\n",
    "        figsize=(20,10));"
   ]
  },
  {
   "cell_type": "code",
   "execution_count": 23,
   "metadata": {
    "scrolled": true
   },
   "outputs": [
    {
     "data": {
      "text/html": [
       "<div>\n",
       "<style scoped>\n",
       "    .dataframe tbody tr th:only-of-type {\n",
       "        vertical-align: middle;\n",
       "    }\n",
       "\n",
       "    .dataframe tbody tr th {\n",
       "        vertical-align: top;\n",
       "    }\n",
       "\n",
       "    .dataframe thead th {\n",
       "        text-align: right;\n",
       "    }\n",
       "</style>\n",
       "<table border=\"1\" class=\"dataframe\">\n",
       "  <thead>\n",
       "    <tr style=\"text-align: right;\">\n",
       "      <th></th>\n",
       "      <th></th>\n",
       "      <th></th>\n",
       "      <th>State.gradient</th>\n",
       "      <th>State.y_intercept</th>\n",
       "      <th>State.community_tax_rate</th>\n",
       "      <th>State.community_state</th>\n",
       "      <th>StateExogenous.user_base</th>\n",
       "      <th>StateExogenous.tx_volume</th>\n",
       "      <th>StateExogenous.product_cost</th>\n",
       "      <th>StateAgregated.pool_balance</th>\n",
       "    </tr>\n",
       "    <tr>\n",
       "      <th>run</th>\n",
       "      <th>timestep</th>\n",
       "      <th>substep</th>\n",
       "      <th></th>\n",
       "      <th></th>\n",
       "      <th></th>\n",
       "      <th></th>\n",
       "      <th></th>\n",
       "      <th></th>\n",
       "      <th></th>\n",
       "      <th></th>\n",
       "    </tr>\n",
       "  </thead>\n",
       "  <tbody>\n",
       "    <tr>\n",
       "      <th rowspan=\"11\" valign=\"top\">1</th>\n",
       "      <th>0</th>\n",
       "      <th>0</th>\n",
       "      <td>0.0005</td>\n",
       "      <td>0</td>\n",
       "      <td>0.5</td>\n",
       "      <td>&lt;__main__.CommunityState object at 0x7f58785ed...</td>\n",
       "      <td>0</td>\n",
       "      <td>10.000000</td>\n",
       "      <td>0.000000</td>\n",
       "      <td>0.0</td>\n",
       "    </tr>\n",
       "    <tr>\n",
       "      <th rowspan=\"4\" valign=\"top\">1</th>\n",
       "      <th>1</th>\n",
       "      <td>0.0005</td>\n",
       "      <td>0</td>\n",
       "      <td>0.5</td>\n",
       "      <td>&lt;__main__.CommunityState object at 0x7f58785ed...</td>\n",
       "      <td>0</td>\n",
       "      <td>15.732591</td>\n",
       "      <td>0.083880</td>\n",
       "      <td>0.0</td>\n",
       "    </tr>\n",
       "    <tr>\n",
       "      <th>2</th>\n",
       "      <td>0.0005</td>\n",
       "      <td>0</td>\n",
       "      <td>0.5</td>\n",
       "      <td>&lt;__main__.CommunityState object at 0x7f58785ed...</td>\n",
       "      <td>0</td>\n",
       "      <td>15.732591</td>\n",
       "      <td>0.083880</td>\n",
       "      <td>0.0</td>\n",
       "    </tr>\n",
       "    <tr>\n",
       "      <th>3</th>\n",
       "      <td>0.0005</td>\n",
       "      <td>0</td>\n",
       "      <td>0.5</td>\n",
       "      <td>&lt;__main__.CommunityState object at 0x7f58785ed...</td>\n",
       "      <td>0</td>\n",
       "      <td>15.732591</td>\n",
       "      <td>0.083880</td>\n",
       "      <td>0.0</td>\n",
       "    </tr>\n",
       "    <tr>\n",
       "      <th>4</th>\n",
       "      <td>0.0005</td>\n",
       "      <td>0</td>\n",
       "      <td>0.5</td>\n",
       "      <td>&lt;__main__.CommunityState object at 0x7f58785ed...</td>\n",
       "      <td>0</td>\n",
       "      <td>15.732591</td>\n",
       "      <td>0.083880</td>\n",
       "      <td>0.0</td>\n",
       "    </tr>\n",
       "    <tr>\n",
       "      <th>...</th>\n",
       "      <th>...</th>\n",
       "      <td>...</td>\n",
       "      <td>...</td>\n",
       "      <td>...</td>\n",
       "      <td>...</td>\n",
       "      <td>...</td>\n",
       "      <td>...</td>\n",
       "      <td>...</td>\n",
       "      <td>...</td>\n",
       "    </tr>\n",
       "    <tr>\n",
       "      <th rowspan=\"5\" valign=\"top\">40</th>\n",
       "      <th>2</th>\n",
       "      <td>0.0005</td>\n",
       "      <td>0</td>\n",
       "      <td>0.5</td>\n",
       "      <td>&lt;__main__.CommunityState object at 0x7f587445b...</td>\n",
       "      <td>49</td>\n",
       "      <td>99396.733375</td>\n",
       "      <td>0.237395</td>\n",
       "      <td>336.6</td>\n",
       "    </tr>\n",
       "    <tr>\n",
       "      <th>3</th>\n",
       "      <td>0.0005</td>\n",
       "      <td>0</td>\n",
       "      <td>0.5</td>\n",
       "      <td>&lt;__main__.CommunityState object at 0x7f5874436...</td>\n",
       "      <td>49</td>\n",
       "      <td>99396.733375</td>\n",
       "      <td>0.237395</td>\n",
       "      <td>336.6</td>\n",
       "    </tr>\n",
       "    <tr>\n",
       "      <th>4</th>\n",
       "      <td>0.0005</td>\n",
       "      <td>0</td>\n",
       "      <td>0.5</td>\n",
       "      <td>&lt;__main__.CommunityState object at 0x7f587445b...</td>\n",
       "      <td>49</td>\n",
       "      <td>99396.733375</td>\n",
       "      <td>0.237395</td>\n",
       "      <td>336.6</td>\n",
       "    </tr>\n",
       "    <tr>\n",
       "      <th>5</th>\n",
       "      <td>0.0005</td>\n",
       "      <td>0</td>\n",
       "      <td>0.5</td>\n",
       "      <td>&lt;__main__.CommunityState object at 0x7f5874436...</td>\n",
       "      <td>49</td>\n",
       "      <td>99396.733375</td>\n",
       "      <td>0.237395</td>\n",
       "      <td>336.6</td>\n",
       "    </tr>\n",
       "    <tr>\n",
       "      <th>6</th>\n",
       "      <td>0.0005</td>\n",
       "      <td>0</td>\n",
       "      <td>0.5</td>\n",
       "      <td>&lt;__main__.CommunityState object at 0x7f587444f...</td>\n",
       "      <td>49</td>\n",
       "      <td>99396.733375</td>\n",
       "      <td>0.237395</td>\n",
       "      <td>346.5</td>\n",
       "    </tr>\n",
       "  </tbody>\n",
       "</table>\n",
       "<p>241 rows × 8 columns</p>\n",
       "</div>"
      ],
      "text/plain": [
       "                      State.gradient  State.y_intercept  \\\n",
       "run timestep substep                                      \n",
       "1   0        0                0.0005                  0   \n",
       "    1        1                0.0005                  0   \n",
       "             2                0.0005                  0   \n",
       "             3                0.0005                  0   \n",
       "             4                0.0005                  0   \n",
       "...                              ...                ...   \n",
       "    40       2                0.0005                  0   \n",
       "             3                0.0005                  0   \n",
       "             4                0.0005                  0   \n",
       "             5                0.0005                  0   \n",
       "             6                0.0005                  0   \n",
       "\n",
       "                      State.community_tax_rate  \\\n",
       "run timestep substep                             \n",
       "1   0        0                             0.5   \n",
       "    1        1                             0.5   \n",
       "             2                             0.5   \n",
       "             3                             0.5   \n",
       "             4                             0.5   \n",
       "...                                        ...   \n",
       "    40       2                             0.5   \n",
       "             3                             0.5   \n",
       "             4                             0.5   \n",
       "             5                             0.5   \n",
       "             6                             0.5   \n",
       "\n",
       "                                                  State.community_state  \\\n",
       "run timestep substep                                                      \n",
       "1   0        0        <__main__.CommunityState object at 0x7f58785ed...   \n",
       "    1        1        <__main__.CommunityState object at 0x7f58785ed...   \n",
       "             2        <__main__.CommunityState object at 0x7f58785ed...   \n",
       "             3        <__main__.CommunityState object at 0x7f58785ed...   \n",
       "             4        <__main__.CommunityState object at 0x7f58785ed...   \n",
       "...                                                                 ...   \n",
       "    40       2        <__main__.CommunityState object at 0x7f587445b...   \n",
       "             3        <__main__.CommunityState object at 0x7f5874436...   \n",
       "             4        <__main__.CommunityState object at 0x7f587445b...   \n",
       "             5        <__main__.CommunityState object at 0x7f5874436...   \n",
       "             6        <__main__.CommunityState object at 0x7f587444f...   \n",
       "\n",
       "                      StateExogenous.user_base  StateExogenous.tx_volume  \\\n",
       "run timestep substep                                                       \n",
       "1   0        0                               0                 10.000000   \n",
       "    1        1                               0                 15.732591   \n",
       "             2                               0                 15.732591   \n",
       "             3                               0                 15.732591   \n",
       "             4                               0                 15.732591   \n",
       "...                                        ...                       ...   \n",
       "    40       2                              49              99396.733375   \n",
       "             3                              49              99396.733375   \n",
       "             4                              49              99396.733375   \n",
       "             5                              49              99396.733375   \n",
       "             6                              49              99396.733375   \n",
       "\n",
       "                      StateExogenous.product_cost  StateAgregated.pool_balance  \n",
       "run timestep substep                                                            \n",
       "1   0        0                           0.000000                          0.0  \n",
       "    1        1                           0.083880                          0.0  \n",
       "             2                           0.083880                          0.0  \n",
       "             3                           0.083880                          0.0  \n",
       "             4                           0.083880                          0.0  \n",
       "...                                           ...                          ...  \n",
       "    40       2                           0.237395                        336.6  \n",
       "             3                           0.237395                        336.6  \n",
       "             4                           0.237395                        336.6  \n",
       "             5                           0.237395                        336.6  \n",
       "             6                           0.237395                        346.5  \n",
       "\n",
       "[241 rows x 8 columns]"
      ]
     },
     "metadata": {},
     "output_type": "display_data"
    }
   ],
   "source": [
    "from IPython.display import display\n",
    "tmp_rows = pd.options.display.max_rows\n",
    "pd.options.display.max_rows = 10\n",
    "display(df.set_index(['run', 'timestep', 'substep']))\n",
    "pd.options.display.max_rows = tmp_rows"
   ]
  },
  {
   "cell_type": "code",
   "execution_count": 24,
   "metadata": {
    "scrolled": true
   },
   "outputs": [
    {
     "data": {
      "image/png": "[encoded data removed]",
      "text/plain": [
       "<Figure size 432x288 with 1 Axes>"
      ]
     },
     "metadata": {
      "needs_background": "light"
     },
     "output_type": "display_data"
    }
   ],
   "source": [
    "df.plot('timestep', [StateExogenous.tx_volume], grid=True, \n",
    "        xticks=list(df['timestep'].drop_duplicates()), \n",
    "        colormap = 'RdYlGn');\n",
    "# yticks=list(range(1 + df[StateExogenous.tx_volume].max()))"
   ]
  },
  {
   "cell_type": "code",
   "execution_count": 25,
   "metadata": {
    "scrolled": true
   },
   "outputs": [
    {
     "data": {
      "image/png": "[encoded data removed]",
      "text/plain": [
       "<Figure size 432x288 with 1 Axes>"
      ]
     },
     "metadata": {
      "needs_background": "light"
     },
     "output_type": "display_data"
    }
   ],
   "source": [
    "df.plot('timestep', [StateExogenous.product_cost], grid=True, \n",
    "        xticks=list(df['timestep'].drop_duplicates()), \n",
    "        colormap = 'RdYlGn');"
   ]
  },
  {
   "cell_type": "code",
   "execution_count": 26,
   "metadata": {},
   "outputs": [
    {
     "data": {
      "image/png": "[encoded data removed]",
      "text/plain": [
       "<Figure size 432x288 with 1 Axes>"
      ]
     },
     "metadata": {
      "needs_background": "light"
     },
     "output_type": "display_data"
    }
   ],
   "source": [
    "df.plot('timestep', [StateExogenous.user_base], grid=True, \n",
    "        xticks=list(df['timestep'].drop_duplicates()), \n",
    "        colormap = 'RdYlGn');"
   ]
  },
  {
   "cell_type": "markdown",
   "metadata": {},
   "source": [
    "Here's what's happening with the y-shift. The collateral curve (curve integral), which is quadratic, gets shifted so that we're using the more linear part of the curve. This means the initial user is given an almost equivalent collateral buy-in to token reward ratio as future users. I think that's what we're seeing, without the y-shift the collateral to token ration is higher for the first user. See these two plots:\n",
    "https://www.wolframalpha.com/input/?i=integral+of+y+%3D+x (edited) \n",
    "https://www.wolframalpha.com/input/?i=integral+of+y+%3D+x+%2B+0.5 (edited) \n",
    "So what we should be doing is designing for the collateral curve, rather than the bonding curve."
   ]
  },
  {
   "cell_type": "code",
   "execution_count": 27,
   "metadata": {},
   "outputs": [
    {
     "data": {
      "text/latex": [
       "$$ f(s) = ms + b $$\n",
       "$$ \\int_s f(s) = \\frac{1}{2}ms^2 + bs $$\n",
       "\n",
       "$$ \\int_p f^{-1}(p) = \\sqrt{\\frac{2*p}{m}} $$\n",
       "$$ \\int_p f^{-1}(p) = \\frac{-b + \\sqrt{b^2 + 2*m*p}}{m} $$\n"
      ],
      "text/plain": [
       "<IPython.core.display.Latex object>"
      ]
     },
     "metadata": {},
     "output_type": "display_data"
    }
   ],
   "source": [
    "%%latex\n",
    "$$ f(s) = ms + b $$\n",
    "$$ \\int_s f(s) = \\frac{1}{2}ms^2 + bs $$\n",
    "\n",
    "$$ \\int_p f^{-1}(p) = \\sqrt{\\frac{2*p}{m}} $$\n",
    "$$ \\int_p f^{-1}(p) = \\frac{-b + \\sqrt{b^2 + 2*m*p}}{m} $$"
   ]
  },
  {
   "cell_type": "code",
   "execution_count": 28,
   "metadata": {},
   "outputs": [
    {
     "name": "stdout",
     "output_type": "stream",
     "text": [
      "Creating mesh grid\n",
      "Calculating valuations\n",
      "Creating surface\n"
     ]
    },
    {
     "name": "stderr",
     "output_type": "stream",
     "text": [
      "/nix/store/qg8qrfaakflqjx8vxfigmmj0b7gnwc46-python3.7-ipykernel-5.1.0/lib/python3.7/site-packages/ipykernel_launcher.py:30: RuntimeWarning:\n",
      "\n",
      "invalid value encountered in ? (vectorized)\n",
      "\n"
     ]
    },
    {
     "name": "stdout",
     "output_type": "stream",
     "text": [
      "Plotting figure\n"
     ]
    },
    {
     "data": {
      "image/png": "[encoded data removed]",
      "text/plain": [
       "<Figure size 432x288 with 2 Axes>"
      ]
     },
     "metadata": {
      "needs_background": "light"
     },
     "output_type": "display_data"
    }
   ],
   "source": [
    "# x-axis: bonding curve supply\n",
    "# y-axis: buy-in collateral value\n",
    "# z-axis: supply buy-in point\n",
    "\n",
    "print(\"Creating mesh grid\")\n",
    "\n",
    "s = np.linspace(0, 10000, 100)\n",
    "p = np.linspace(0, 10000, 100)\n",
    "\n",
    "X, Y = np.meshgrid(s, p)\n",
    "\n",
    "print(\"Calculating valuations\")\n",
    "\n",
    "# gradient = 1/17_500\n",
    "# b = 0.5\n",
    "\n",
    "gradient = 1/2000\n",
    "b = 0\n",
    "\n",
    "buy_in = 1 # dai\n",
    "\n",
    "def valuation(current_supply, buy_in_supply):\n",
    "    token_reward = collateral_to_token_selling(buy_in, buy_in_supply, gradient)\n",
    "    pool_balance = curve_integral(current_supply, gradient)\n",
    "    valuation = reward_for_burn(token_reward, current_supply, pool_balance, gradient)\n",
    "    return max(0, (valuation - buy_in)/buy_in)\n",
    "\n",
    "np_func = np.frompyfunc(valuation, 2, 1)\n",
    "\n",
    "Z = np.nan_to_num(np_func(X, Y))\n",
    "\n",
    "print(\"Creating surface\")\n",
    "\n",
    "surface = go.Surface(x=X, y=Y, z=Z)\n",
    "data = [surface]\n",
    "\n",
    "layout = go.Layout(\n",
    "    title='Valuation Plot',\n",
    "    scene=dict(\n",
    "        xaxis=dict(\n",
    "            title='Supply',\n",
    "            gridcolor='rgb(255, 255, 255)',\n",
    "            zerolinecolor='rgb(255, 255, 255)',\n",
    "            showbackground=True,\n",
    "            backgroundcolor='rgb(230, 230,230)'\n",
    "        ),\n",
    "        yaxis=dict(\n",
    "            title='Buy-in supply',\n",
    "            gridcolor='rgb(255, 255, 255)',\n",
    "            zerolinecolor='rgb(255, 255, 255)',\n",
    "            showbackground=True,\n",
    "            backgroundcolor='rgb(230, 230,230)'\n",
    "        ),\n",
    "        zaxis=dict(\n",
    "            title='ROI %',\n",
    "            gridcolor='rgb(255, 255, 255)',\n",
    "            zerolinecolor='rgb(255, 255, 255)',\n",
    "            showbackground=True,\n",
    "            backgroundcolor='rgb(230, 230,230)'\n",
    "        )\n",
    "    )\n",
    ")\n",
    "\n",
    "print(\"Plotting figure\")\n",
    "\n",
    "# fig = go.Figure(data=data, layout=layout)\n",
    "# py.iplot(fig, filename='valuation_plot')\n",
    "\n",
    "plt.contourf(X,Y,Z)\n",
    "plt.colorbar()\n",
    "plt.title('Value (ROI) distribution heatmap')\n",
    "plt.xlabel('Supply')\n",
    "plt.ylabel('Buy-in supply')\n",
    "plt.show()"
   ]
  },
  {
   "cell_type": "code",
   "execution_count": 29,
   "metadata": {},
   "outputs": [
    {
     "name": "stdout",
     "output_type": "stream",
     "text": [
      "Calculating valuations\n",
      "Creating surface\n",
      "Plotting figure\n"
     ]
    },
    {
     "data": {
      "image/png": "[encoded data removed]",
      "text/plain": [
       "<Figure size 432x288 with 2 Axes>"
      ]
     },
     "metadata": {
      "needs_background": "light"
     },
     "output_type": "display_data"
    }
   ],
   "source": [
    "print(\"Calculating valuations\")\n",
    "\n",
    "gradient = 1/17_500\n",
    "b = 0.5\n",
    "\n",
    "# gradient = 1/2000\n",
    "# b = 0\n",
    "\n",
    "buy_in = 1 # dai\n",
    "\n",
    "def valuation(current_supply, buy_in_supply):\n",
    "    token_reward = collateral_to_token_selling(buy_in, buy_in_supply, gradient)\n",
    "    pool_balance = curve_integral(current_supply, gradient)\n",
    "    valuation = reward_for_burn(token_reward, current_supply, pool_balance, gradient)\n",
    "    return max(0, (valuation - buy_in)/buy_in)\n",
    "\n",
    "np_func = np.frompyfunc(valuation, 2, 1)\n",
    "\n",
    "Z = np.nan_to_num(np_func(X, Y))\n",
    "\n",
    "print(\"Creating surface\")\n",
    "\n",
    "surface = go.Surface(x=X, y=Y, z=Z)\n",
    "data = [surface]\n",
    "\n",
    "layout = go.Layout(\n",
    "    title='Valuation Plot',\n",
    "    scene=dict(\n",
    "        xaxis=dict(\n",
    "            title='Supply',\n",
    "            gridcolor='rgb(255, 255, 255)',\n",
    "            zerolinecolor='rgb(255, 255, 255)',\n",
    "            showbackground=True,\n",
    "            backgroundcolor='rgb(230, 230,230)'\n",
    "        ),\n",
    "        yaxis=dict(\n",
    "            title='Buy-in supply',\n",
    "            gridcolor='rgb(255, 255, 255)',\n",
    "            zerolinecolor='rgb(255, 255, 255)',\n",
    "            showbackground=True,\n",
    "            backgroundcolor='rgb(230, 230,230)'\n",
    "        ),\n",
    "        zaxis=dict(\n",
    "            title='ROI %',\n",
    "            gridcolor='rgb(255, 255, 255)',\n",
    "            zerolinecolor='rgb(255, 255, 255)',\n",
    "            showbackground=True,\n",
    "            backgroundcolor='rgb(230, 230,230)'\n",
    "        )\n",
    "    )\n",
    ")\n",
    "\n",
    "print(\"Plotting figure\")\n",
    "\n",
    "# fig = go.Figure(data=data, layout=layout)\n",
    "# py.iplot(fig, filename='valuation_plot')\n",
    "\n",
    "plt.contourf(X,Y,Z)\n",
    "plt.colorbar()\n",
    "plt.title('Value (ROI) distribution heatmap')\n",
    "plt.xlabel('Supply')\n",
    "plt.ylabel('Buy-in supply')\n",
    "plt.savefig('Value (ROI) distribution heatmap.png')\n",
    "plt.show()"
   ]
  },
  {
   "cell_type": "code",
   "execution_count": 30,
   "metadata": {},
   "outputs": [],
   "source": [
    "# Initially concerned about behaviour of bonding curve collateral pool growth, but when you consider users, \n",
    "# who concern themselves with token value and ROI, a different story emerges.\n",
    "\n",
    "# Consider: Collateral pool vs. user balance\n",
    "\n",
    "# Independant variables\n",
    "# 1 Dof vs. 2 Dof\n",
    "# Current supply vs. current supply & buy-in point\n",
    "\n",
    "# Better represented as a 3D plane\n",
    "# Results in system being dependant on user growth rather than just supply\n",
    "\n",
    "# Optimization problem:\n",
    "## Cost function: minimize the gradient (level the \"playing field\")"
   ]
  }
 ],
 "metadata": {
  "kernelspec": {
   "display_name": "Python3 - python",
   "language": "python",
   "name": "ipython_python"
  },
  "language_info": {
   "codemirror_mode": {
    "name": "ipython",
    "version": 3
   },
   "file_extension": ".py",
   "mimetype": "text/x-python",
   "name": "python",
   "nbconvert_exporter": "python",
   "pygments_lexer": "ipython3",
   "version": "3.7.2"
  }
 },
 "nbformat": 4,
 "nbformat_minor": 2
}
