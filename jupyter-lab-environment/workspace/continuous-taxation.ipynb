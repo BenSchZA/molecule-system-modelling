{
 "cells": [
  {
   "cell_type": "markdown",
   "metadata": {},
   "source": [
    "# Continuous Taxation\n",
    "\n",
    "Tax rate set at a percentage per time period. For example 5% per month. See below re. block time.\n",
    "\n",
    "* Investigate harburger tax\n",
    "\n",
    "From the Compound interest rate model:\n",
    "\n",
    "See https://github.com/compound-finance/compound-money-market/blob/master/contracts/InterestRateModel.sol & https://github.com/compound-finance/compound-money-market\n",
    "\n",
    "```    /**\n",
    "      * @notice Gets the current supply interest rate based on the given asset, total cash and total borrows\n",
    "      * @dev The return value should be scaled by 1e18, thus a return value of\n",
    "      *      `(true, 1000000000000)` implies an interest rate of 0.000001 or 0.0001% *per block*.\n",
    "      * @param asset The asset to get the interest rate of\n",
    "      * @param cash The total cash of the asset in the market\n",
    "      * @param borrows The total borrows of the asset in the market\n",
    "      * @return Success or failure and the supply interest rate per block scaled by 10e18\n",
    "*/\n",
    "```\n",
    "\n",
    "They use an interest rate based on `uint constant blocksPerYear = 2102400;`\n",
    "\n",
    "Probably the best explanation of continuous tokens: https://yos.io/2018/11/10/bonding-curves/"
   ]
  },
  {
   "cell_type": "markdown",
   "metadata": {},
   "source": [
    "First proposal:\n",
    "\n",
    "1. Use a continuous token model, with a negative exponential function\n",
    "2. A negative exponential function should dampen the effect seen in Protea where early investors are unfairly rewarded\n",
    "3. When it comes time to dissolve the market, the connector weight can be set to 100% - essentially making all tokens the same price, and making the market entirely collateralized\n",
    "4. A tax can be calculated as a function of block time, collateral pool size, funding goal, and funding period - optimized to reach a funding goal in the given period, no matter what"
   ]
  },
  {
   "cell_type": "markdown",
   "metadata": {},
   "source": [
    "Assumptions:\n",
    "\n",
    "1. You want to tax early investors less than late investors - this coincides with having a progressive tax\n",
    "2. Using a continuous token model you could continuously decollateralize the market more easily\n",
    "\n",
    "Tax rate should vary between r_min and r_max. An ideal curve for this would be a generalized logistic function with A = -1, let's call it G()\n",
    "https://en.wikipedia.org/wiki/Generalised_logistic_function\n",
    "\n",
    "G() where r_min is at the origin and r_max at the assymptote.\n",
    "\n",
    "When the connector weight is 100%, all investors are taxed equally...? When the connector weight is any less than 100%, early investors are effectively taxed less.\n",
    "When there is less activity, ideally the tax rate should be lower, to incetivize new investors. If the tax rate is based on the collateral pool size, we need to be careful not to make the funding goal a never reachable assymptote. Given a certain market size, let's calculate the continuous tax rate such that the funding goal is reached in at least the given period."
   ]
  }
 ],
 "metadata": {
  "kernelspec": {
   "display_name": "Python 3",
   "language": "python",
   "name": "python3"
  },
  "language_info": {
   "codemirror_mode": {
    "name": "ipython",
    "version": 3
   },
   "file_extension": ".py",
   "mimetype": "text/x-python",
   "name": "python",
   "nbconvert_exporter": "python",
   "pygments_lexer": "ipython3",
   "version": "3.7.2"
  }
 },
 "nbformat": 4,
 "nbformat_minor": 2
}
